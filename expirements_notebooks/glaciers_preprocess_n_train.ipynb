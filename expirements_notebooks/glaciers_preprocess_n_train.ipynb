{
 "cells": [
  {
   "cell_type": "markdown",
   "metadata": {},
   "source": [
    "### See the raw data"
   ]
  },
  {
   "cell_type": "code",
   "execution_count": 1,
   "metadata": {
    "collapsed": true
   },
   "outputs": [
    {
     "name": "stdout",
     "output_type": "stream",
     "text": [
      "73\n",
      "23\n"
     ]
    }
   ],
   "source": [
    "!ls /mnt/blobfuse/glaciers/analysis_images/ | wc -l \n",
    "!ls /mnt/blobfuse/glaciers/correction_images | wc -l "
   ]
  },
  {
   "cell_type": "code",
   "execution_count": 2,
   "metadata": {
    "collapsed": true
   },
   "outputs": [
    {
     "name": "stdout",
     "output_type": "stream",
     "text": [
      "LE07_134040_20070922.tif\r\n",
      "LE07_134040_20090927.tif\r\n",
      "LE07_135040_20081102.tif\r\n",
      "LE07_135040_20081118.tif\r\n",
      "LE07_135040_20081204.tif\r\n"
     ]
    }
   ],
   "source": [
    "!ls /mnt/blobfuse/glaciers/analysis_images | head -n 5"
   ]
  },
  {
   "cell_type": "markdown",
   "metadata": {},
   "source": [
    "## make masking_paths config file"
   ]
  },
  {
   "cell_type": "code",
   "execution_count": 3,
   "metadata": {},
   "outputs": [],
   "source": [
    "import pathlib\n",
    "\n",
    "data_dirs = [pathlib.Path(\"/mnt/blobfuse/glaciers/correction_images\") ,\n",
    "            pathlib.Path(\"/mnt/blobfuse/glaciers/analysis_images\")]\n",
    "glacier_file = \"/mnt/blobfuse/glaciers/pipeline_demo/demo_data/vector_data/2005/nepal/data/Glacier_2005.shp\"\n",
    "clean_glacier_file = \"/mnt/blobfuse/glaciers/pipeline_demo/demo_data/vector_data/2005/nepal/data/clean.shp\"\n",
    "debris_glacier_file = \"/mnt/blobfuse/glaciers/pipeline_demo/demo_data/vector_data/2005/nepal/data/debris.shp\"\n",
    "\n",
    "configs = {}\n",
    "i = 0\n",
    "for data_dir in data_dirs:\n",
    "    for file_name in data_dir.iterdir():\n",
    "        img_item = {}\n",
    "        img_item[\"img_path\"] = str(file_name)\n",
    "        img_item[\"mask_paths\"] = [glacier_file, clean_glacier_file, debris_glacier_file]\n",
    "        configs[f\"mask_{i}\"] = img_item\n",
    "        i += 1\n"
   ]
  },
  {
   "cell_type": "code",
   "execution_count": 4,
   "metadata": {},
   "outputs": [],
   "source": [
    "# !mkdir /mnt/blobfuse/glaciers/conf\n",
    "# !rm /mnt/blobfuse/glaciers/conf/masking_paths.yaml\n",
    "\n",
    "import yaml\n",
    "with open(\"/mnt/blobfuse/glaciers/conf/masking_paths.yaml\", \"w\") as file:\n",
    "    yaml.dump(configs, file)"
   ]
  },
  {
   "cell_type": "markdown",
   "metadata": {},
   "source": [
    "## Mask images"
   ]
  },
  {
   "cell_type": "code",
   "execution_count": 16,
   "metadata": {
    "collapsed": true
   },
   "outputs": [
    {
     "name": "stderr",
     "output_type": "stream",
     "text": [
      "/home/shimaa/envs/glaciers_env/lib/python3.6/site-packages/ipykernel_launcher.py:6: YAMLLoadWarning: calling yaml.load() without Loader=... is deprecated, as the default Loader is unsafe. Please read https://msg.pyyaml.org/load for full details.\n",
      "  \n"
     ]
    },
    {
     "name": "stdout",
     "output_type": "stream",
     "text": [
      "working on image 1 / 96\n",
      "working on image 2 / 96\n",
      "working on image 3 / 96\n",
      "working on image 4 / 96\n",
      "working on image 5 / 96\n",
      "working on image 6 / 96\n",
      "working on image 7 / 96\n",
      "working on image 8 / 96\n",
      "working on image 9 / 96\n",
      "working on image 10 / 96\n",
      "working on image 11 / 96\n",
      "working on image 12 / 96\n",
      "working on image 13 / 96\n",
      "working on image 14 / 96\n",
      "working on image 15 / 96\n",
      "working on image 16 / 96\n",
      "working on image 17 / 96\n",
      "working on image 18 / 96\n",
      "working on image 19 / 96\n",
      "working on image 20 / 96\n",
      "working on image 21 / 96\n",
      "working on image 22 / 96\n",
      "working on image 23 / 96\n",
      "working on image 24 / 96\n",
      "working on image 25 / 96\n",
      "working on image 26 / 96\n",
      "working on image 27 / 96\n",
      "working on image 28 / 96\n",
      "working on image 29 / 96\n",
      "working on image 30 / 96\n",
      "working on image 31 / 96\n",
      "working on image 32 / 96\n",
      "working on image 33 / 96\n",
      "working on image 34 / 96\n",
      "working on image 35 / 96\n",
      "working on image 36 / 96\n",
      "working on image 37 / 96\n",
      "working on image 38 / 96\n",
      "working on image 39 / 96\n",
      "working on image 40 / 96\n",
      "working on image 41 / 96\n",
      "working on image 42 / 96\n",
      "working on image 43 / 96\n",
      "working on image 44 / 96\n",
      "working on image 45 / 96\n",
      "working on image 46 / 96\n",
      "working on image 47 / 96\n",
      "working on image 48 / 96\n",
      "working on image 49 / 96\n",
      "working on image 50 / 96\n",
      "working on image 51 / 96\n",
      "working on image 52 / 96\n",
      "working on image 53 / 96\n",
      "working on image 54 / 96\n",
      "working on image 55 / 96\n",
      "working on image 56 / 96\n",
      "working on image 57 / 96\n",
      "working on image 58 / 96\n",
      "working on image 59 / 96\n",
      "working on image 60 / 96\n",
      "working on image 61 / 96\n",
      "working on image 62 / 96\n",
      "working on image 63 / 96\n",
      "working on image 64 / 96\n",
      "working on image 65 / 96\n",
      "working on image 66 / 96\n",
      "working on image 67 / 96\n",
      "working on image 68 / 96\n",
      "working on image 69 / 96\n",
      "working on image 70 / 96\n",
      "working on image 71 / 96\n",
      "working on image 72 / 96\n",
      "working on image 73 / 96\n",
      "working on image 74 / 96\n",
      "working on image 75 / 96\n",
      "working on image 76 / 96\n",
      "working on image 77 / 96\n",
      "working on image 78 / 96\n",
      "working on image 79 / 96\n",
      "working on image 80 / 96\n",
      "working on image 81 / 96\n",
      "working on image 82 / 96\n",
      "working on image 83 / 96\n",
      "working on image 84 / 96\n",
      "working on image 85 / 96\n",
      "working on image 86 / 96\n",
      "working on image 87 / 96\n",
      "working on image 88 / 96\n",
      "working on image 89 / 96\n",
      "working on image 90 / 96\n",
      "working on image 91 / 96\n",
      "working on image 92 / 96\n",
      "working on image 93 / 96\n",
      "working on image 94 / 96\n",
      "working on image 95 / 96\n",
      "working on image 96 / 96\n"
     ]
    }
   ],
   "source": [
    "!rm -rf /mnt/blobfuse/glaciers/processed/masks\n",
    "from glacier_mapping.data.mask import generate_masks\n",
    "import pathlib\n",
    "\n",
    "conf_path = pathlib.Path(\"/mnt/blobfuse/glaciers/conf\")\n",
    "masking_paths = yaml.load(open(conf_path / \"masking_paths.yaml\"))\n",
    "img_paths = [p[\"img_path\"] for p in masking_paths.values()]\n",
    "mask_paths = [p[\"mask_paths\"] for p in masking_paths.values()]\n",
    "generate_masks(img_paths, mask_paths, out_dir=\"/mnt/blobfuse/glaciers/processed/masks\")"
   ]
  },
  {
   "cell_type": "markdown",
   "metadata": {},
   "source": [
    "## display results"
   ]
  },
  {
   "cell_type": "code",
   "execution_count": 17,
   "metadata": {
    "collapsed": true
   },
   "outputs": [
    {
     "name": "stdout",
     "output_type": "stream",
     "text": [
      "(7135, 7850, 3)\n"
     ]
    },
    {
     "data": {
      "text/html": [
       "<div>\n",
       "<style scoped>\n",
       "    .dataframe tbody tr th:only-of-type {\n",
       "        vertical-align: middle;\n",
       "    }\n",
       "\n",
       "    .dataframe tbody tr th {\n",
       "        vertical-align: top;\n",
       "    }\n",
       "\n",
       "    .dataframe thead th {\n",
       "        text-align: right;\n",
       "    }\n",
       "</style>\n",
       "<table border=\"1\" class=\"dataframe\">\n",
       "  <thead>\n",
       "    <tr style=\"text-align: right;\">\n",
       "      <th></th>\n",
       "      <th>id</th>\n",
       "      <th>img</th>\n",
       "      <th>mask</th>\n",
       "      <th>img_width</th>\n",
       "      <th>img_height</th>\n",
       "      <th>mask_width</th>\n",
       "      <th>mask_height</th>\n",
       "    </tr>\n",
       "  </thead>\n",
       "  <tbody>\n",
       "    <tr>\n",
       "      <th>0</th>\n",
       "      <td>0</td>\n",
       "      <td>/mnt/blobfuse/glaciers/correction_images/LE07_...</td>\n",
       "      <td>/mnt/blobfuse/glaciers/processed/masks/mask_00...</td>\n",
       "      <td>7850</td>\n",
       "      <td>7135</td>\n",
       "      <td>7850</td>\n",
       "      <td>7135</td>\n",
       "    </tr>\n",
       "    <tr>\n",
       "      <th>1</th>\n",
       "      <td>1</td>\n",
       "      <td>/mnt/blobfuse/glaciers/correction_images/LE07_...</td>\n",
       "      <td>/mnt/blobfuse/glaciers/processed/masks/mask_01...</td>\n",
       "      <td>7865</td>\n",
       "      <td>7168</td>\n",
       "      <td>7865</td>\n",
       "      <td>7168</td>\n",
       "    </tr>\n",
       "    <tr>\n",
       "      <th>2</th>\n",
       "      <td>2</td>\n",
       "      <td>/mnt/blobfuse/glaciers/correction_images/LE07_...</td>\n",
       "      <td>/mnt/blobfuse/glaciers/processed/masks/mask_02...</td>\n",
       "      <td>7933</td>\n",
       "      <td>7205</td>\n",
       "      <td>7933</td>\n",
       "      <td>7205</td>\n",
       "    </tr>\n",
       "    <tr>\n",
       "      <th>3</th>\n",
       "      <td>3</td>\n",
       "      <td>/mnt/blobfuse/glaciers/correction_images/LE07_...</td>\n",
       "      <td>/mnt/blobfuse/glaciers/processed/masks/mask_03...</td>\n",
       "      <td>7937</td>\n",
       "      <td>7206</td>\n",
       "      <td>7937</td>\n",
       "      <td>7206</td>\n",
       "    </tr>\n",
       "    <tr>\n",
       "      <th>4</th>\n",
       "      <td>4</td>\n",
       "      <td>/mnt/blobfuse/glaciers/correction_images/LE07_...</td>\n",
       "      <td>/mnt/blobfuse/glaciers/processed/masks/mask_04...</td>\n",
       "      <td>8007</td>\n",
       "      <td>7260</td>\n",
       "      <td>8007</td>\n",
       "      <td>7260</td>\n",
       "    </tr>\n",
       "  </tbody>\n",
       "</table>\n",
       "</div>"
      ],
      "text/plain": [
       "   id                                                img  \\\n",
       "0   0  /mnt/blobfuse/glaciers/correction_images/LE07_...   \n",
       "1   1  /mnt/blobfuse/glaciers/correction_images/LE07_...   \n",
       "2   2  /mnt/blobfuse/glaciers/correction_images/LE07_...   \n",
       "3   3  /mnt/blobfuse/glaciers/correction_images/LE07_...   \n",
       "4   4  /mnt/blobfuse/glaciers/correction_images/LE07_...   \n",
       "\n",
       "                                                mask  img_width  img_height  \\\n",
       "0  /mnt/blobfuse/glaciers/processed/masks/mask_00...       7850        7135   \n",
       "1  /mnt/blobfuse/glaciers/processed/masks/mask_01...       7865        7168   \n",
       "2  /mnt/blobfuse/glaciers/processed/masks/mask_02...       7933        7205   \n",
       "3  /mnt/blobfuse/glaciers/processed/masks/mask_03...       7937        7206   \n",
       "4  /mnt/blobfuse/glaciers/processed/masks/mask_04...       8007        7260   \n",
       "\n",
       "   mask_width  mask_height  \n",
       "0        7850         7135  \n",
       "1        7865         7168  \n",
       "2        7933         7205  \n",
       "3        7937         7206  \n",
       "4        8007         7260  "
      ]
     },
     "execution_count": 17,
     "metadata": {},
     "output_type": "execute_result"
    }
   ],
   "source": [
    "import numpy as np\n",
    "import matplotlib.pyplot as plt\n",
    "import pandas as pd\n",
    "\n",
    "mask_dir = pathlib.Path(\"/mnt/blobfuse/glaciers/processed\", \"masks\")\n",
    "mask = np.load(mask_dir / \"mask_00.npy\")\n",
    "print(mask.shape)\n",
    "\n",
    "mask_df = pd.read_csv(mask_dir / \"mask_metadata.csv\")\n",
    "mask_df.head()"
   ]
  },
  {
   "cell_type": "code",
   "execution_count": 18,
   "metadata": {
    "collapsed": true
   },
   "outputs": [
    {
     "data": {
      "text/plain": [
       "<matplotlib.image.AxesImage at 0x7f88e7d2f3c8>"
      ]
     },
     "execution_count": 18,
     "metadata": {},
     "output_type": "execute_result"
    },
    {
     "data": {
      "image/png": "[encoded data removed]",
      "text/plain": [
       "<Figure size 1080x1080 with 3 Axes>"
      ]
     },
     "metadata": {
      "needs_background": "light"
     },
     "output_type": "display_data"
    }
   ],
   "source": [
    "# glaciers, clean glaciers and debris glaciers\n",
    "mask = np.load(mask_dir / \"mask_01.npy\")\n",
    "_, ax = plt.subplots(1, 3, figsize=(15, 15))\n",
    "ax[0].imshow(mask[:, :, 0])\n",
    "ax[1].imshow(mask[:, :, 1])\n",
    "ax[2].imshow(mask[:, :, 2])"
   ]
  },
  {
   "cell_type": "markdown",
   "metadata": {},
   "source": [
    "## slice"
   ]
  },
  {
   "cell_type": "code",
   "execution_count": 19,
   "metadata": {
    "collapsed": true
   },
   "outputs": [
    {
     "name": "stdout",
     "output_type": "stream",
     "text": [
      "## Slicing tiff 1/96 ...\n"
     ]
    },
    {
     "name": "stderr",
     "output_type": "stream",
     "text": [
      "100%|██████████| 210/210 [03:33<00:00,  1.02s/it]\n"
     ]
    },
    {
     "name": "stdout",
     "output_type": "stream",
     "text": [
      "## Slicing tiff 2/96 ...\n"
     ]
    },
    {
     "name": "stderr",
     "output_type": "stream",
     "text": [
      "100%|██████████| 210/210 [03:28<00:00,  1.00it/s]\n"
     ]
    },
    {
     "name": "stdout",
     "output_type": "stream",
     "text": [
      "## Slicing tiff 3/96 ...\n"
     ]
    },
    {
     "name": "stderr",
     "output_type": "stream",
     "text": [
      "100%|██████████| 210/210 [03:40<00:00,  1.05s/it]\n"
     ]
    },
    {
     "name": "stdout",
     "output_type": "stream",
     "text": [
      "## Slicing tiff 4/96 ...\n"
     ]
    },
    {
     "name": "stderr",
     "output_type": "stream",
     "text": [
      "100%|██████████| 210/210 [03:46<00:00,  1.08s/it]\n"
     ]
    },
    {
     "name": "stdout",
     "output_type": "stream",
     "text": [
      "## Slicing tiff 5/96 ...\n"
     ]
    },
    {
     "name": "stderr",
     "output_type": "stream",
     "text": [
      "100%|██████████| 210/210 [03:54<00:00,  1.12s/it]\n"
     ]
    },
    {
     "name": "stdout",
     "output_type": "stream",
     "text": [
      "## Slicing tiff 6/96 ...\n"
     ]
    },
    {
     "name": "stderr",
     "output_type": "stream",
     "text": [
      "100%|██████████| 195/195 [03:42<00:00,  1.14s/it]\n"
     ]
    },
    {
     "name": "stdout",
     "output_type": "stream",
     "text": [
      "## Slicing tiff 7/96 ...\n"
     ]
    },
    {
     "name": "stderr",
     "output_type": "stream",
     "text": [
      "100%|██████████| 195/195 [03:40<00:00,  1.13s/it]\n"
     ]
    },
    {
     "name": "stdout",
     "output_type": "stream",
     "text": [
      "## Slicing tiff 8/96 ...\n"
     ]
    },
    {
     "name": "stderr",
     "output_type": "stream",
     "text": [
      "100%|██████████| 195/195 [03:59<00:00,  1.23s/it]\n"
     ]
    },
    {
     "name": "stdout",
     "output_type": "stream",
     "text": [
      "## Slicing tiff 9/96 ...\n"
     ]
    },
    {
     "name": "stderr",
     "output_type": "stream",
     "text": [
      "100%|██████████| 210/210 [04:02<00:00,  1.15s/it]\n"
     ]
    },
    {
     "name": "stdout",
     "output_type": "stream",
     "text": [
      "## Slicing tiff 10/96 ...\n"
     ]
    },
    {
     "name": "stderr",
     "output_type": "stream",
     "text": [
      "100%|██████████| 210/210 [03:49<00:00,  1.09s/it]\n"
     ]
    },
    {
     "name": "stdout",
     "output_type": "stream",
     "text": [
      "## Slicing tiff 11/96 ...\n"
     ]
    },
    {
     "name": "stderr",
     "output_type": "stream",
     "text": [
      "100%|██████████| 210/210 [03:41<00:00,  1.05s/it]\n"
     ]
    },
    {
     "name": "stdout",
     "output_type": "stream",
     "text": [
      "## Slicing tiff 12/96 ...\n"
     ]
    },
    {
     "name": "stderr",
     "output_type": "stream",
     "text": [
      "100%|██████████| 210/210 [03:20<00:00,  1.05it/s]\n"
     ]
    },
    {
     "name": "stdout",
     "output_type": "stream",
     "text": [
      "## Slicing tiff 13/96 ...\n"
     ]
    },
    {
     "name": "stderr",
     "output_type": "stream",
     "text": [
      "100%|██████████| 210/210 [03:26<00:00,  1.02it/s]\n"
     ]
    },
    {
     "name": "stdout",
     "output_type": "stream",
     "text": [
      "## Slicing tiff 14/96 ...\n"
     ]
    },
    {
     "name": "stderr",
     "output_type": "stream",
     "text": [
      "100%|██████████| 210/210 [03:27<00:00,  1.01it/s]\n"
     ]
    },
    {
     "name": "stdout",
     "output_type": "stream",
     "text": [
      "## Slicing tiff 15/96 ...\n"
     ]
    },
    {
     "name": "stderr",
     "output_type": "stream",
     "text": [
      "100%|██████████| 210/210 [03:37<00:00,  1.04s/it]\n"
     ]
    },
    {
     "name": "stdout",
     "output_type": "stream",
     "text": [
      "## Slicing tiff 16/96 ...\n"
     ]
    },
    {
     "name": "stderr",
     "output_type": "stream",
     "text": [
      "100%|██████████| 210/210 [03:33<00:00,  1.02s/it]\n"
     ]
    },
    {
     "name": "stdout",
     "output_type": "stream",
     "text": [
      "## Slicing tiff 17/96 ...\n"
     ]
    },
    {
     "name": "stderr",
     "output_type": "stream",
     "text": [
      "100%|██████████| 210/210 [03:21<00:00,  1.04it/s]\n"
     ]
    },
    {
     "name": "stdout",
     "output_type": "stream",
     "text": [
      "## Slicing tiff 18/96 ...\n"
     ]
    },
    {
     "name": "stderr",
     "output_type": "stream",
     "text": [
      "100%|██████████| 224/224 [03:29<00:00,  1.07it/s]\n"
     ]
    },
    {
     "name": "stdout",
     "output_type": "stream",
     "text": [
      "## Slicing tiff 19/96 ...\n"
     ]
    },
    {
     "name": "stderr",
     "output_type": "stream",
     "text": [
      "100%|██████████| 195/195 [03:00<00:00,  1.08it/s]\n"
     ]
    },
    {
     "name": "stdout",
     "output_type": "stream",
     "text": [
      "## Slicing tiff 20/96 ...\n"
     ]
    },
    {
     "name": "stderr",
     "output_type": "stream",
     "text": [
      "100%|██████████| 195/195 [02:59<00:00,  1.09it/s]\n"
     ]
    },
    {
     "name": "stdout",
     "output_type": "stream",
     "text": [
      "## Slicing tiff 21/96 ...\n"
     ]
    },
    {
     "name": "stderr",
     "output_type": "stream",
     "text": [
      "100%|██████████| 195/195 [03:01<00:00,  1.08it/s]\n"
     ]
    },
    {
     "name": "stdout",
     "output_type": "stream",
     "text": [
      "## Slicing tiff 22/96 ...\n"
     ]
    },
    {
     "name": "stderr",
     "output_type": "stream",
     "text": [
      "100%|██████████| 195/195 [03:04<00:00,  1.06it/s]\n"
     ]
    },
    {
     "name": "stdout",
     "output_type": "stream",
     "text": [
      "## Slicing tiff 23/96 ...\n"
     ]
    },
    {
     "name": "stderr",
     "output_type": "stream",
     "text": [
      "100%|██████████| 195/195 [03:07<00:00,  1.04it/s]\n"
     ]
    },
    {
     "name": "stdout",
     "output_type": "stream",
     "text": [
      "## Slicing tiff 24/96 ...\n"
     ]
    },
    {
     "name": "stderr",
     "output_type": "stream",
     "text": [
      "100%|██████████| 195/195 [03:14<00:00,  1.00it/s]\n"
     ]
    },
    {
     "name": "stdout",
     "output_type": "stream",
     "text": [
      "## Slicing tiff 25/96 ...\n"
     ]
    },
    {
     "name": "stderr",
     "output_type": "stream",
     "text": [
      "100%|██████████| 195/195 [03:03<00:00,  1.06it/s]\n"
     ]
    },
    {
     "name": "stdout",
     "output_type": "stream",
     "text": [
      "## Slicing tiff 26/96 ...\n"
     ]
    },
    {
     "name": "stderr",
     "output_type": "stream",
     "text": [
      "100%|██████████| 210/210 [03:11<00:00,  1.10it/s]\n"
     ]
    },
    {
     "name": "stdout",
     "output_type": "stream",
     "text": [
      "## Slicing tiff 27/96 ...\n"
     ]
    },
    {
     "name": "stderr",
     "output_type": "stream",
     "text": [
      "100%|██████████| 195/195 [03:00<00:00,  1.08it/s]\n"
     ]
    },
    {
     "name": "stdout",
     "output_type": "stream",
     "text": [
      "## Slicing tiff 28/96 ...\n"
     ]
    },
    {
     "name": "stderr",
     "output_type": "stream",
     "text": [
      "100%|██████████| 195/195 [02:59<00:00,  1.09it/s]\n"
     ]
    },
    {
     "name": "stdout",
     "output_type": "stream",
     "text": [
      "## Slicing tiff 29/96 ...\n"
     ]
    },
    {
     "name": "stderr",
     "output_type": "stream",
     "text": [
      "100%|██████████| 210/210 [03:17<00:00,  1.06it/s]\n"
     ]
    },
    {
     "name": "stdout",
     "output_type": "stream",
     "text": [
      "## Slicing tiff 30/96 ...\n"
     ]
    },
    {
     "name": "stderr",
     "output_type": "stream",
     "text": [
      "100%|██████████| 195/195 [03:01<00:00,  1.07it/s]\n"
     ]
    },
    {
     "name": "stdout",
     "output_type": "stream",
     "text": [
      "## Slicing tiff 31/96 ...\n"
     ]
    },
    {
     "name": "stderr",
     "output_type": "stream",
     "text": [
      "100%|██████████| 195/195 [03:00<00:00,  1.08it/s]\n"
     ]
    },
    {
     "name": "stdout",
     "output_type": "stream",
     "text": [
      "## Slicing tiff 32/96 ...\n"
     ]
    },
    {
     "name": "stderr",
     "output_type": "stream",
     "text": [
      "100%|██████████| 195/195 [03:04<00:00,  1.06it/s]\n"
     ]
    },
    {
     "name": "stdout",
     "output_type": "stream",
     "text": [
      "## Slicing tiff 33/96 ...\n"
     ]
    },
    {
     "name": "stderr",
     "output_type": "stream",
     "text": [
      "100%|██████████| 195/195 [03:12<00:00,  1.01it/s]\n"
     ]
    },
    {
     "name": "stdout",
     "output_type": "stream",
     "text": [
      "## Slicing tiff 34/96 ...\n"
     ]
    },
    {
     "name": "stderr",
     "output_type": "stream",
     "text": [
      "100%|██████████| 195/195 [03:08<00:00,  1.04it/s]\n"
     ]
    },
    {
     "name": "stdout",
     "output_type": "stream",
     "text": [
      "## Slicing tiff 35/96 ...\n"
     ]
    },
    {
     "name": "stderr",
     "output_type": "stream",
     "text": [
      "100%|██████████| 195/195 [03:14<00:00,  1.00it/s]\n"
     ]
    },
    {
     "name": "stdout",
     "output_type": "stream",
     "text": [
      "## Slicing tiff 36/96 ...\n"
     ]
    },
    {
     "name": "stderr",
     "output_type": "stream",
     "text": [
      "100%|██████████| 195/195 [03:04<00:00,  1.06it/s]\n"
     ]
    },
    {
     "name": "stdout",
     "output_type": "stream",
     "text": [
      "## Slicing tiff 37/96 ...\n"
     ]
    },
    {
     "name": "stderr",
     "output_type": "stream",
     "text": [
      "100%|██████████| 195/195 [03:01<00:00,  1.08it/s]\n"
     ]
    },
    {
     "name": "stdout",
     "output_type": "stream",
     "text": [
      "## Slicing tiff 38/96 ...\n"
     ]
    },
    {
     "name": "stderr",
     "output_type": "stream",
     "text": [
      "100%|██████████| 195/195 [03:10<00:00,  1.02it/s]\n"
     ]
    },
    {
     "name": "stdout",
     "output_type": "stream",
     "text": [
      "## Slicing tiff 39/96 ...\n"
     ]
    },
    {
     "name": "stderr",
     "output_type": "stream",
     "text": [
      "100%|██████████| 195/195 [03:19<00:00,  1.02s/it]\n"
     ]
    },
    {
     "name": "stdout",
     "output_type": "stream",
     "text": [
      "## Slicing tiff 40/96 ...\n"
     ]
    },
    {
     "name": "stderr",
     "output_type": "stream",
     "text": [
      "100%|██████████| 210/210 [03:43<00:00,  1.06s/it]\n"
     ]
    },
    {
     "name": "stdout",
     "output_type": "stream",
     "text": [
      "## Slicing tiff 41/96 ...\n"
     ]
    },
    {
     "name": "stderr",
     "output_type": "stream",
     "text": [
      "100%|██████████| 210/210 [03:30<00:00,  1.00s/it]\n"
     ]
    },
    {
     "name": "stdout",
     "output_type": "stream",
     "text": [
      "## Slicing tiff 42/96 ...\n"
     ]
    },
    {
     "name": "stderr",
     "output_type": "stream",
     "text": [
      "100%|██████████| 210/210 [03:34<00:00,  1.02s/it]\n"
     ]
    },
    {
     "name": "stdout",
     "output_type": "stream",
     "text": [
      "## Slicing tiff 43/96 ...\n"
     ]
    },
    {
     "name": "stderr",
     "output_type": "stream",
     "text": [
      "100%|██████████| 210/210 [03:18<00:00,  1.06it/s]\n"
     ]
    },
    {
     "name": "stdout",
     "output_type": "stream",
     "text": [
      "## Slicing tiff 44/96 ...\n"
     ]
    },
    {
     "name": "stderr",
     "output_type": "stream",
     "text": [
      "100%|██████████| 210/210 [03:21<00:00,  1.04it/s]\n"
     ]
    },
    {
     "name": "stdout",
     "output_type": "stream",
     "text": [
      "## Slicing tiff 45/96 ...\n"
     ]
    },
    {
     "name": "stderr",
     "output_type": "stream",
     "text": [
      "100%|██████████| 224/224 [03:38<00:00,  1.03it/s]\n"
     ]
    },
    {
     "name": "stdout",
     "output_type": "stream",
     "text": [
      "## Slicing tiff 46/96 ...\n"
     ]
    },
    {
     "name": "stderr",
     "output_type": "stream",
     "text": [
      "100%|██████████| 195/195 [03:15<00:00,  1.00s/it]\n"
     ]
    },
    {
     "name": "stdout",
     "output_type": "stream",
     "text": [
      "## Slicing tiff 47/96 ...\n"
     ]
    },
    {
     "name": "stderr",
     "output_type": "stream",
     "text": [
      "100%|██████████| 210/210 [03:26<00:00,  1.01it/s]\n"
     ]
    },
    {
     "name": "stdout",
     "output_type": "stream",
     "text": [
      "## Slicing tiff 48/96 ...\n"
     ]
    },
    {
     "name": "stderr",
     "output_type": "stream",
     "text": [
      "100%|██████████| 224/224 [03:28<00:00,  1.08it/s]\n"
     ]
    },
    {
     "name": "stdout",
     "output_type": "stream",
     "text": [
      "## Slicing tiff 49/96 ...\n"
     ]
    },
    {
     "name": "stderr",
     "output_type": "stream",
     "text": [
      "100%|██████████| 224/224 [03:28<00:00,  1.07it/s]\n"
     ]
    },
    {
     "name": "stdout",
     "output_type": "stream",
     "text": [
      "## Slicing tiff 50/96 ...\n"
     ]
    },
    {
     "name": "stderr",
     "output_type": "stream",
     "text": [
      "100%|██████████| 210/210 [03:17<00:00,  1.07it/s]\n"
     ]
    },
    {
     "name": "stdout",
     "output_type": "stream",
     "text": [
      "## Slicing tiff 51/96 ...\n"
     ]
    },
    {
     "name": "stderr",
     "output_type": "stream",
     "text": [
      "100%|██████████| 210/210 [03:17<00:00,  1.06it/s]\n"
     ]
    },
    {
     "name": "stdout",
     "output_type": "stream",
     "text": [
      "## Slicing tiff 52/96 ...\n"
     ]
    },
    {
     "name": "stderr",
     "output_type": "stream",
     "text": [
      "100%|██████████| 224/224 [03:29<00:00,  1.07it/s]\n"
     ]
    },
    {
     "name": "stdout",
     "output_type": "stream",
     "text": [
      "## Slicing tiff 53/96 ...\n"
     ]
    },
    {
     "name": "stderr",
     "output_type": "stream",
     "text": [
      "100%|██████████| 210/210 [03:16<00:00,  1.07it/s]\n"
     ]
    },
    {
     "name": "stdout",
     "output_type": "stream",
     "text": [
      "## Slicing tiff 54/96 ...\n"
     ]
    },
    {
     "name": "stderr",
     "output_type": "stream",
     "text": [
      "100%|██████████| 210/210 [03:17<00:00,  1.06it/s]\n"
     ]
    },
    {
     "name": "stdout",
     "output_type": "stream",
     "text": [
      "## Slicing tiff 55/96 ...\n"
     ]
    },
    {
     "name": "stderr",
     "output_type": "stream",
     "text": [
      "100%|██████████| 224/224 [03:34<00:00,  1.05it/s]\n"
     ]
    },
    {
     "name": "stdout",
     "output_type": "stream",
     "text": [
      "## Slicing tiff 56/96 ...\n"
     ]
    },
    {
     "name": "stderr",
     "output_type": "stream",
     "text": [
      "100%|██████████| 210/210 [03:16<00:00,  1.07it/s]\n"
     ]
    },
    {
     "name": "stdout",
     "output_type": "stream",
     "text": [
      "## Slicing tiff 57/96 ...\n"
     ]
    },
    {
     "name": "stderr",
     "output_type": "stream",
     "text": [
      "100%|██████████| 195/195 [03:22<00:00,  1.04s/it]\n"
     ]
    },
    {
     "name": "stdout",
     "output_type": "stream",
     "text": [
      "## Slicing tiff 58/96 ...\n"
     ]
    },
    {
     "name": "stderr",
     "output_type": "stream",
     "text": [
      "100%|██████████| 224/224 [03:28<00:00,  1.07it/s]\n"
     ]
    },
    {
     "name": "stdout",
     "output_type": "stream",
     "text": [
      "## Slicing tiff 59/96 ...\n"
     ]
    },
    {
     "name": "stderr",
     "output_type": "stream",
     "text": [
      "100%|██████████| 195/195 [03:05<00:00,  1.05it/s]\n"
     ]
    },
    {
     "name": "stdout",
     "output_type": "stream",
     "text": [
      "## Slicing tiff 60/96 ...\n"
     ]
    },
    {
     "name": "stderr",
     "output_type": "stream",
     "text": [
      "100%|██████████| 195/195 [03:08<00:00,  1.04it/s]\n"
     ]
    },
    {
     "name": "stdout",
     "output_type": "stream",
     "text": [
      "## Slicing tiff 61/96 ...\n"
     ]
    },
    {
     "name": "stderr",
     "output_type": "stream",
     "text": [
      "100%|██████████| 195/195 [03:09<00:00,  1.03it/s]\n"
     ]
    },
    {
     "name": "stdout",
     "output_type": "stream",
     "text": [
      "## Slicing tiff 62/96 ...\n"
     ]
    },
    {
     "name": "stderr",
     "output_type": "stream",
     "text": [
      "100%|██████████| 195/195 [03:04<00:00,  1.06it/s]\n"
     ]
    },
    {
     "name": "stdout",
     "output_type": "stream",
     "text": [
      "## Slicing tiff 63/96 ...\n"
     ]
    },
    {
     "name": "stderr",
     "output_type": "stream",
     "text": [
      "100%|██████████| 195/195 [03:03<00:00,  1.06it/s]\n"
     ]
    },
    {
     "name": "stdout",
     "output_type": "stream",
     "text": [
      "## Slicing tiff 64/96 ...\n"
     ]
    },
    {
     "name": "stderr",
     "output_type": "stream",
     "text": [
      "100%|██████████| 195/195 [02:58<00:00,  1.09it/s]\n"
     ]
    },
    {
     "name": "stdout",
     "output_type": "stream",
     "text": [
      "## Slicing tiff 65/96 ...\n"
     ]
    },
    {
     "name": "stderr",
     "output_type": "stream",
     "text": [
      "100%|██████████| 195/195 [02:59<00:00,  1.09it/s]\n"
     ]
    },
    {
     "name": "stdout",
     "output_type": "stream",
     "text": [
      "## Slicing tiff 66/96 ...\n"
     ]
    },
    {
     "name": "stderr",
     "output_type": "stream",
     "text": [
      "100%|██████████| 195/195 [03:00<00:00,  1.08it/s]\n"
     ]
    },
    {
     "name": "stdout",
     "output_type": "stream",
     "text": [
      "## Slicing tiff 67/96 ...\n"
     ]
    },
    {
     "name": "stderr",
     "output_type": "stream",
     "text": [
      "100%|██████████| 195/195 [03:07<00:00,  1.04it/s]\n"
     ]
    },
    {
     "name": "stdout",
     "output_type": "stream",
     "text": [
      "## Slicing tiff 68/96 ...\n"
     ]
    },
    {
     "name": "stderr",
     "output_type": "stream",
     "text": [
      "100%|██████████| 210/210 [03:18<00:00,  1.06it/s]\n"
     ]
    },
    {
     "name": "stdout",
     "output_type": "stream",
     "text": [
      "## Slicing tiff 69/96 ...\n"
     ]
    },
    {
     "name": "stderr",
     "output_type": "stream",
     "text": [
      "100%|██████████| 195/195 [03:00<00:00,  1.08it/s]\n"
     ]
    },
    {
     "name": "stdout",
     "output_type": "stream",
     "text": [
      "## Slicing tiff 70/96 ...\n"
     ]
    },
    {
     "name": "stderr",
     "output_type": "stream",
     "text": [
      "100%|██████████| 195/195 [02:59<00:00,  1.09it/s]\n"
     ]
    },
    {
     "name": "stdout",
     "output_type": "stream",
     "text": [
      "## Slicing tiff 71/96 ...\n"
     ]
    },
    {
     "name": "stderr",
     "output_type": "stream",
     "text": [
      "100%|██████████| 210/210 [03:23<00:00,  1.03it/s]\n"
     ]
    },
    {
     "name": "stdout",
     "output_type": "stream",
     "text": [
      "## Slicing tiff 72/96 ...\n"
     ]
    },
    {
     "name": "stderr",
     "output_type": "stream",
     "text": [
      "100%|██████████| 195/195 [03:17<00:00,  1.01s/it]\n"
     ]
    },
    {
     "name": "stdout",
     "output_type": "stream",
     "text": [
      "## Slicing tiff 73/96 ...\n"
     ]
    },
    {
     "name": "stderr",
     "output_type": "stream",
     "text": [
      "100%|██████████| 210/210 [03:27<00:00,  1.01it/s]\n"
     ]
    },
    {
     "name": "stdout",
     "output_type": "stream",
     "text": [
      "## Slicing tiff 74/96 ...\n"
     ]
    },
    {
     "name": "stderr",
     "output_type": "stream",
     "text": [
      "100%|██████████| 210/210 [03:32<00:00,  1.01s/it]\n"
     ]
    },
    {
     "name": "stdout",
     "output_type": "stream",
     "text": [
      "## Slicing tiff 75/96 ...\n"
     ]
    },
    {
     "name": "stderr",
     "output_type": "stream",
     "text": [
      "100%|██████████| 195/195 [03:16<00:00,  1.01s/it]\n"
     ]
    },
    {
     "name": "stdout",
     "output_type": "stream",
     "text": [
      "## Slicing tiff 76/96 ...\n"
     ]
    },
    {
     "name": "stderr",
     "output_type": "stream",
     "text": [
      "100%|██████████| 195/195 [03:10<00:00,  1.02it/s]\n"
     ]
    },
    {
     "name": "stdout",
     "output_type": "stream",
     "text": [
      "## Slicing tiff 77/96 ...\n"
     ]
    },
    {
     "name": "stderr",
     "output_type": "stream",
     "text": [
      "100%|██████████| 195/195 [03:11<00:00,  1.02it/s]\n"
     ]
    },
    {
     "name": "stdout",
     "output_type": "stream",
     "text": [
      "## Slicing tiff 78/96 ...\n"
     ]
    },
    {
     "name": "stderr",
     "output_type": "stream",
     "text": [
      "100%|██████████| 195/195 [03:07<00:00,  1.04it/s]\n"
     ]
    },
    {
     "name": "stdout",
     "output_type": "stream",
     "text": [
      "## Slicing tiff 79/96 ...\n"
     ]
    },
    {
     "name": "stderr",
     "output_type": "stream",
     "text": [
      "100%|██████████| 210/210 [03:24<00:00,  1.03it/s]\n"
     ]
    },
    {
     "name": "stdout",
     "output_type": "stream",
     "text": [
      "## Slicing tiff 80/96 ...\n"
     ]
    },
    {
     "name": "stderr",
     "output_type": "stream",
     "text": [
      "100%|██████████| 195/195 [03:10<00:00,  1.03it/s]\n"
     ]
    },
    {
     "name": "stdout",
     "output_type": "stream",
     "text": [
      "## Slicing tiff 81/96 ...\n"
     ]
    },
    {
     "name": "stderr",
     "output_type": "stream",
     "text": [
      "100%|██████████| 210/210 [03:25<00:00,  1.02it/s]\n"
     ]
    },
    {
     "name": "stdout",
     "output_type": "stream",
     "text": [
      "## Slicing tiff 82/96 ...\n"
     ]
    },
    {
     "name": "stderr",
     "output_type": "stream",
     "text": [
      "100%|██████████| 210/210 [03:31<00:00,  1.01s/it]\n"
     ]
    },
    {
     "name": "stdout",
     "output_type": "stream",
     "text": [
      "## Slicing tiff 83/96 ...\n"
     ]
    },
    {
     "name": "stderr",
     "output_type": "stream",
     "text": [
      "100%|██████████| 210/210 [03:32<00:00,  1.01s/it]\n"
     ]
    },
    {
     "name": "stdout",
     "output_type": "stream",
     "text": [
      "## Slicing tiff 84/96 ...\n"
     ]
    },
    {
     "name": "stderr",
     "output_type": "stream",
     "text": [
      "100%|██████████| 210/210 [03:29<00:00,  1.00it/s]\n"
     ]
    },
    {
     "name": "stdout",
     "output_type": "stream",
     "text": [
      "## Slicing tiff 85/96 ...\n"
     ]
    },
    {
     "name": "stderr",
     "output_type": "stream",
     "text": [
      "100%|██████████| 210/210 [03:20<00:00,  1.05it/s]\n"
     ]
    },
    {
     "name": "stdout",
     "output_type": "stream",
     "text": [
      "## Slicing tiff 86/96 ...\n"
     ]
    },
    {
     "name": "stderr",
     "output_type": "stream",
     "text": [
      "100%|██████████| 210/210 [03:16<00:00,  1.07it/s]\n"
     ]
    },
    {
     "name": "stdout",
     "output_type": "stream",
     "text": [
      "## Slicing tiff 87/96 ...\n"
     ]
    },
    {
     "name": "stderr",
     "output_type": "stream",
     "text": [
      "100%|██████████| 210/210 [03:20<00:00,  1.05it/s]\n"
     ]
    },
    {
     "name": "stdout",
     "output_type": "stream",
     "text": [
      "## Slicing tiff 88/96 ...\n"
     ]
    },
    {
     "name": "stderr",
     "output_type": "stream",
     "text": [
      "100%|██████████| 210/210 [03:26<00:00,  1.01it/s]\n"
     ]
    },
    {
     "name": "stdout",
     "output_type": "stream",
     "text": [
      "## Slicing tiff 89/96 ...\n"
     ]
    },
    {
     "name": "stderr",
     "output_type": "stream",
     "text": [
      "100%|██████████| 210/210 [03:23<00:00,  1.03it/s]\n"
     ]
    },
    {
     "name": "stdout",
     "output_type": "stream",
     "text": [
      "## Slicing tiff 90/96 ...\n"
     ]
    },
    {
     "name": "stderr",
     "output_type": "stream",
     "text": [
      "100%|██████████| 210/210 [03:33<00:00,  1.02s/it]\n"
     ]
    },
    {
     "name": "stdout",
     "output_type": "stream",
     "text": [
      "## Slicing tiff 91/96 ...\n"
     ]
    },
    {
     "name": "stderr",
     "output_type": "stream",
     "text": [
      "100%|██████████| 224/224 [03:42<00:00,  1.00it/s]\n"
     ]
    },
    {
     "name": "stdout",
     "output_type": "stream",
     "text": [
      "## Slicing tiff 92/96 ...\n"
     ]
    },
    {
     "name": "stderr",
     "output_type": "stream",
     "text": [
      "100%|██████████| 210/210 [03:18<00:00,  1.06it/s]\n"
     ]
    },
    {
     "name": "stdout",
     "output_type": "stream",
     "text": [
      "## Slicing tiff 93/96 ...\n"
     ]
    },
    {
     "name": "stderr",
     "output_type": "stream",
     "text": [
      "100%|██████████| 224/224 [03:24<00:00,  1.09it/s]\n"
     ]
    },
    {
     "name": "stdout",
     "output_type": "stream",
     "text": [
      "## Slicing tiff 94/96 ...\n"
     ]
    },
    {
     "name": "stderr",
     "output_type": "stream",
     "text": [
      "100%|██████████| 210/210 [03:21<00:00,  1.04it/s]\n"
     ]
    },
    {
     "name": "stdout",
     "output_type": "stream",
     "text": [
      "## Slicing tiff 95/96 ...\n"
     ]
    },
    {
     "name": "stderr",
     "output_type": "stream",
     "text": [
      "100%|██████████| 195/195 [03:15<00:00,  1.00s/it]\n"
     ]
    },
    {
     "name": "stdout",
     "output_type": "stream",
     "text": [
      "## Slicing tiff 96/96 ...\n"
     ]
    },
    {
     "name": "stderr",
     "output_type": "stream",
     "text": [
      "100%|██████████| 210/210 [03:26<00:00,  1.02it/s]\n"
     ]
    }
   ],
   "source": [
    "import pandas as pd\n",
    "from glacier_mapping.data.slice import write_pair_slices\n",
    "\n",
    "processed_dir = pathlib.Path(\"/mnt/blobfuse/glaciers/processed/\")\n",
    "paths = pd.read_csv(processed_dir / \"masks\" / \"mask_metadata.csv\")\n",
    "output_dir = processed_dir / \"slices\"\n",
    "output_dir.mkdir(parents=True, exist_ok=True)\n",
    "\n",
    "metadata = []\n",
    "for row in range(len(paths)):\n",
    "    print(f\"## Slicing tiff {row +1}/{len(paths)} ...\")\n",
    "    metadata_ = write_pair_slices(\n",
    "        paths.iloc[row][\"img\"],\n",
    "        paths.iloc[row][\"mask\"],\n",
    "        output_dir,\n",
    "        f\"slice_{paths.index[row]}\"\n",
    "    )\n",
    "    metadata.append(metadata_)\n",
    "\n",
    "metadata = pd.concat(metadata, axis=0)\n",
    "out_path = pathlib.Path(output_dir, \"slices.geojson\")\n",
    "metadata.to_file(out_path, index=False, driver=\"GeoJSON\")"
   ]
  },
  {
   "cell_type": "code",
   "execution_count": 37,
   "metadata": {},
   "outputs": [],
   "source": [
    "# save sample of slices\n",
    "import random\n",
    "\n",
    "\n",
    "slices_files = [file for file in pathlib.Path(\"/mnt/blobfuse/glaciers/processed/slices\").iterdir()]\n",
    "\n",
    "samples_size = 150\n",
    "count = 0\n",
    "sample_slices = []\n",
    "while count < samples_size:\n",
    "    f = str(random.choice(slices_files))\n",
    "    if \"img\" in f:\n",
    "        count += 1\n",
    "        mask = f.replace(\"img\", \"mask\")\n",
    "        sample_slices.append(f)\n",
    "        sample_slices.append(mask)\n"
   ]
  },
  {
   "cell_type": "code",
   "execution_count": 40,
   "metadata": {},
   "outputs": [],
   "source": [
    "!rm -r /mnt/blobfuse/glaciers/processed/slices_samples\n",
    "!mkdir /mnt/blobfuse/glaciers/processed/slices_samples\n",
    "\n",
    "from shutil import copyfile\n",
    "\n",
    "for f in sample_slices:\n",
    "    dst = f.replace(\"slices\", \"slices_samples\")\n",
    "    copyfile(f, dst)"
   ]
  },
  {
   "cell_type": "markdown",
   "metadata": {},
   "source": [
    "## filter and post-process"
   ]
  },
  {
   "cell_type": "code",
   "execution_count": 21,
   "metadata": {
    "collapsed": true
   },
   "outputs": [
    {
     "name": "stdout",
     "output_type": "stream",
     "text": [
      "filtering\n",
      "reshuffling\n",
      "shuffling image 0 - img\n",
      "shuffling image 0 - mask\n",
      "shuffling image 1 - img\n",
      "shuffling image 1 - mask\n",
      "shuffling image 2 - img\n",
      "shuffling image 2 - mask\n",
      "shuffling image 3 - img\n",
      "shuffling image 3 - mask\n",
      "shuffling image 4 - img\n",
      "shuffling image 4 - mask\n",
      "shuffling image 5 - img\n",
      "shuffling image 5 - mask\n",
      "shuffling image 6 - img\n",
      "shuffling image 6 - mask\n",
      "shuffling image 7 - img\n",
      "shuffling image 7 - mask\n",
      "shuffling image 8 - img\n",
      "shuffling image 8 - mask\n",
      "shuffling image 9 - img\n",
      "shuffling image 9 - mask\n",
      "shuffling image 10 - img\n",
      "shuffling image 10 - mask\n",
      "shuffling image 11 - img\n",
      "shuffling image 11 - mask\n",
      "shuffling image 12 - img\n",
      "shuffling image 12 - mask\n",
      "shuffling image 13 - img\n",
      "shuffling image 13 - mask\n",
      "shuffling image 14 - img\n",
      "shuffling image 14 - mask\n",
      "shuffling image 15 - img\n",
      "shuffling image 15 - mask\n",
      "shuffling image 16 - img\n",
      "shuffling image 16 - mask\n",
      "shuffling image 17 - img\n",
      "shuffling image 17 - mask\n",
      "shuffling image 18 - img\n",
      "shuffling image 18 - mask\n",
      "shuffling image 19 - img\n",
      "shuffling image 19 - mask\n",
      "shuffling image 20 - img\n",
      "shuffling image 20 - mask\n",
      "shuffling image 21 - img\n",
      "shuffling image 21 - mask\n",
      "shuffling image 22 - img\n",
      "shuffling image 22 - mask\n",
      "shuffling image 23 - img\n",
      "shuffling image 23 - mask\n",
      "shuffling image 24 - img\n",
      "shuffling image 24 - mask\n",
      "shuffling image 25 - img\n",
      "shuffling image 25 - mask\n",
      "shuffling image 26 - img\n",
      "shuffling image 26 - mask\n",
      "shuffling image 27 - img\n",
      "shuffling image 27 - mask\n",
      "shuffling image 28 - img\n",
      "shuffling image 28 - mask\n",
      "shuffling image 29 - img\n",
      "shuffling image 29 - mask\n",
      "shuffling image 30 - img\n",
      "shuffling image 30 - mask\n",
      "shuffling image 31 - img\n",
      "shuffling image 31 - mask\n",
      "shuffling image 32 - img\n",
      "shuffling image 32 - mask\n",
      "shuffling image 33 - img\n",
      "shuffling image 33 - mask\n",
      "shuffling image 34 - img\n",
      "shuffling image 34 - mask\n",
      "shuffling image 35 - img\n",
      "shuffling image 35 - mask\n",
      "shuffling image 36 - img\n",
      "shuffling image 36 - mask\n",
      "shuffling image 37 - img\n",
      "shuffling image 37 - mask\n",
      "shuffling image 38 - img\n",
      "shuffling image 38 - mask\n",
      "shuffling image 39 - img\n",
      "shuffling image 39 - mask\n",
      "shuffling image 40 - img\n",
      "shuffling image 40 - mask\n",
      "shuffling image 41 - img\n",
      "shuffling image 41 - mask\n",
      "shuffling image 42 - img\n",
      "shuffling image 42 - mask\n",
      "shuffling image 43 - img\n",
      "shuffling image 43 - mask\n",
      "shuffling image 44 - img\n",
      "shuffling image 44 - mask\n",
      "shuffling image 45 - img\n",
      "shuffling image 45 - mask\n",
      "shuffling image 46 - img\n",
      "shuffling image 46 - mask\n",
      "shuffling image 47 - img\n",
      "shuffling image 47 - mask\n",
      "shuffling image 48 - img\n",
      "shuffling image 48 - mask\n",
      "shuffling image 49 - img\n",
      "shuffling image 49 - mask\n",
      "shuffling image 50 - img\n",
      "shuffling image 50 - mask\n",
      "shuffling image 51 - img\n",
      "shuffling image 51 - mask\n",
      "shuffling image 52 - img\n",
      "shuffling image 52 - mask\n",
      "shuffling image 53 - img\n",
      "shuffling image 53 - mask\n",
      "shuffling image 54 - img\n",
      "shuffling image 54 - mask\n",
      "shuffling image 55 - img\n",
      "shuffling image 55 - mask\n",
      "shuffling image 56 - img\n",
      "shuffling image 56 - mask\n",
      "shuffling image 57 - img\n",
      "shuffling image 57 - mask\n",
      "shuffling image 58 - img\n",
      "shuffling image 58 - mask\n",
      "shuffling image 59 - img\n",
      "shuffling image 59 - mask\n",
      "shuffling image 60 - img\n",
      "shuffling image 60 - mask\n",
      "shuffling image 61 - img\n",
      "shuffling image 61 - mask\n",
      "shuffling image 62 - img\n",
      "shuffling image 62 - mask\n",
      "shuffling image 63 - img\n",
      "shuffling image 63 - mask\n",
      "shuffling image 64 - img\n",
      "shuffling image 64 - mask\n",
      "shuffling image 65 - img\n",
      "shuffling image 65 - mask\n",
      "shuffling image 66 - img\n",
      "shuffling image 66 - mask\n",
      "shuffling image 67 - img\n",
      "shuffling image 67 - mask\n",
      "shuffling image 68 - img\n",
      "shuffling image 68 - mask\n",
      "shuffling image 69 - img\n",
      "shuffling image 69 - mask\n",
      "shuffling image 70 - img\n",
      "shuffling image 70 - mask\n",
      "shuffling image 71 - img\n",
      "shuffling image 71 - mask\n",
      "shuffling image 72 - img\n",
      "shuffling image 72 - mask\n",
      "shuffling image 73 - img\n",
      "shuffling image 73 - mask\n",
      "shuffling image 74 - img\n",
      "shuffling image 74 - mask\n",
      "shuffling image 75 - img\n",
      "shuffling image 75 - mask\n",
      "shuffling image 76 - img\n",
      "shuffling image 76 - mask\n",
      "shuffling image 77 - img\n",
      "shuffling image 77 - mask\n",
      "shuffling image 78 - img\n",
      "shuffling image 78 - mask\n",
      "shuffling image 79 - img\n",
      "shuffling image 79 - mask\n",
      "shuffling image 80 - img\n",
      "shuffling image 80 - mask\n",
      "shuffling image 81 - img\n",
      "shuffling image 81 - mask\n",
      "shuffling image 82 - img\n",
      "shuffling image 82 - mask\n",
      "shuffling image 83 - img\n",
      "shuffling image 83 - mask\n",
      "shuffling image 84 - img\n",
      "shuffling image 84 - mask\n",
      "shuffling image 85 - img\n",
      "shuffling image 85 - mask\n",
      "shuffling image 86 - img\n",
      "shuffling image 86 - mask\n",
      "shuffling image 87 - img\n",
      "shuffling image 87 - mask\n",
      "shuffling image 88 - img\n",
      "shuffling image 88 - mask\n",
      "shuffling image 89 - img\n",
      "shuffling image 89 - mask\n",
      "shuffling image 90 - img\n",
      "shuffling image 90 - mask\n",
      "shuffling image 91 - img\n",
      "shuffling image 91 - mask\n",
      "shuffling image 92 - img\n",
      "shuffling image 92 - mask\n",
      "shuffling image 93 - img\n",
      "shuffling image 93 - mask\n",
      "shuffling image 94 - img\n",
      "shuffling image 94 - mask\n",
      "shuffling image 95 - img\n",
      "shuffling image 95 - mask\n",
      "shuffling image 96 - img\n",
      "shuffling image 96 - mask\n",
      "shuffling image 97 - img\n",
      "shuffling image 97 - mask\n",
      "shuffling image 98 - img\n",
      "shuffling image 98 - mask\n",
      "shuffling image 99 - img\n",
      "shuffling image 99 - mask\n",
      "shuffling image 100 - img\n",
      "shuffling image 100 - mask\n",
      "shuffling image 101 - img\n",
      "shuffling image 101 - mask\n",
      "shuffling image 102 - img\n",
      "shuffling image 102 - mask\n",
      "shuffling image 103 - img\n",
      "shuffling image 103 - mask\n",
      "shuffling image 104 - img\n",
      "shuffling image 104 - mask\n",
      "shuffling image 105 - img\n",
      "shuffling image 105 - mask\n",
      "shuffling image 106 - img\n",
      "shuffling image 106 - mask\n",
      "shuffling image 107 - img\n",
      "shuffling image 107 - mask\n",
      "shuffling image 108 - img\n",
      "shuffling image 108 - mask\n",
      "shuffling image 109 - img\n",
      "shuffling image 109 - mask\n",
      "shuffling image 110 - img\n",
      "shuffling image 110 - mask\n",
      "shuffling image 111 - img\n",
      "shuffling image 111 - mask\n",
      "shuffling image 112 - img\n",
      "shuffling image 112 - mask\n",
      "shuffling image 113 - img\n",
      "shuffling image 113 - mask\n",
      "shuffling image 114 - img\n",
      "shuffling image 114 - mask\n",
      "shuffling image 115 - img\n",
      "shuffling image 115 - mask\n",
      "shuffling image 116 - img\n",
      "shuffling image 116 - mask\n",
      "shuffling image 117 - img\n",
      "shuffling image 117 - mask\n",
      "shuffling image 118 - img\n",
      "shuffling image 118 - mask\n",
      "shuffling image 119 - img\n",
      "shuffling image 119 - mask\n",
      "shuffling image 120 - img\n",
      "shuffling image 120 - mask\n",
      "shuffling image 121 - img\n",
      "shuffling image 121 - mask\n",
      "shuffling image 122 - img\n",
      "shuffling image 122 - mask\n",
      "shuffling image 123 - img\n",
      "shuffling image 123 - mask\n",
      "shuffling image 124 - img\n",
      "shuffling image 124 - mask\n",
      "shuffling image 125 - img\n",
      "shuffling image 125 - mask\n",
      "shuffling image 126 - img\n",
      "shuffling image 126 - mask\n",
      "shuffling image 127 - img\n",
      "shuffling image 127 - mask\n",
      "shuffling image 128 - img\n",
      "shuffling image 128 - mask\n",
      "shuffling image 129 - img\n",
      "shuffling image 129 - mask\n",
      "shuffling image 130 - img\n",
      "shuffling image 130 - mask\n",
      "shuffling image 131 - img\n",
      "shuffling image 131 - mask\n",
      "shuffling image 132 - img\n",
      "shuffling image 132 - mask\n",
      "shuffling image 133 - img\n",
      "shuffling image 133 - mask\n",
      "shuffling image 134 - img\n",
      "shuffling image 134 - mask\n",
      "shuffling image 135 - img\n",
      "shuffling image 135 - mask\n",
      "shuffling image 136 - img\n",
      "shuffling image 136 - mask\n",
      "shuffling image 137 - img\n",
      "shuffling image 137 - mask\n",
      "shuffling image 138 - img\n",
      "shuffling image 138 - mask\n",
      "shuffling image 139 - img\n",
      "shuffling image 139 - mask\n",
      "shuffling image 140 - img\n",
      "shuffling image 140 - mask\n",
      "shuffling image 141 - img\n",
      "shuffling image 141 - mask\n",
      "shuffling image 142 - img\n",
      "shuffling image 142 - mask\n",
      "shuffling image 143 - img\n",
      "shuffling image 143 - mask\n",
      "shuffling image 144 - img\n",
      "shuffling image 144 - mask\n",
      "shuffling image 145 - img\n",
      "shuffling image 145 - mask\n",
      "shuffling image 146 - img\n",
      "shuffling image 146 - mask\n",
      "shuffling image 147 - img\n",
      "shuffling image 147 - mask\n",
      "shuffling image 148 - img\n",
      "shuffling image 148 - mask\n",
      "shuffling image 149 - img\n",
      "shuffling image 149 - mask\n",
      "shuffling image 150 - img\n",
      "shuffling image 150 - mask\n",
      "shuffling image 151 - img\n",
      "shuffling image 151 - mask\n",
      "shuffling image 152 - img\n",
      "shuffling image 152 - mask\n",
      "shuffling image 153 - img\n",
      "shuffling image 153 - mask\n",
      "shuffling image 154 - img\n",
      "shuffling image 154 - mask\n",
      "shuffling image 155 - img\n",
      "shuffling image 155 - mask\n",
      "shuffling image 156 - img\n",
      "shuffling image 156 - mask\n",
      "shuffling image 157 - img\n",
      "shuffling image 157 - mask\n",
      "shuffling image 158 - img\n"
     ]
    },
    {
     "name": "stdout",
     "output_type": "stream",
     "text": [
      "shuffling image 158 - mask\n",
      "shuffling image 159 - img\n",
      "shuffling image 159 - mask\n",
      "shuffling image 160 - img\n",
      "shuffling image 160 - mask\n",
      "shuffling image 161 - img\n",
      "shuffling image 161 - mask\n",
      "shuffling image 162 - img\n",
      "shuffling image 162 - mask\n",
      "shuffling image 163 - img\n",
      "shuffling image 163 - mask\n",
      "shuffling image 164 - img\n",
      "shuffling image 164 - mask\n",
      "shuffling image 165 - img\n",
      "shuffling image 165 - mask\n",
      "shuffling image 166 - img\n",
      "shuffling image 166 - mask\n",
      "shuffling image 167 - img\n",
      "shuffling image 167 - mask\n",
      "shuffling image 168 - img\n",
      "shuffling image 168 - mask\n",
      "shuffling image 169 - img\n",
      "shuffling image 169 - mask\n",
      "shuffling image 170 - img\n",
      "shuffling image 170 - mask\n",
      "shuffling image 171 - img\n",
      "shuffling image 171 - mask\n",
      "shuffling image 172 - img\n",
      "shuffling image 172 - mask\n",
      "shuffling image 173 - img\n",
      "shuffling image 173 - mask\n",
      "shuffling image 174 - img\n",
      "shuffling image 174 - mask\n",
      "shuffling image 175 - img\n",
      "shuffling image 175 - mask\n",
      "shuffling image 176 - img\n",
      "shuffling image 176 - mask\n",
      "shuffling image 177 - img\n",
      "shuffling image 177 - mask\n",
      "shuffling image 178 - img\n",
      "shuffling image 178 - mask\n",
      "shuffling image 179 - img\n",
      "shuffling image 179 - mask\n",
      "shuffling image 180 - img\n",
      "shuffling image 180 - mask\n",
      "shuffling image 181 - img\n",
      "shuffling image 181 - mask\n",
      "shuffling image 182 - img\n",
      "shuffling image 182 - mask\n",
      "shuffling image 183 - img\n",
      "shuffling image 183 - mask\n",
      "shuffling image 184 - img\n",
      "shuffling image 184 - mask\n",
      "shuffling image 185 - img\n",
      "shuffling image 185 - mask\n",
      "shuffling image 186 - img\n",
      "shuffling image 186 - mask\n",
      "shuffling image 187 - img\n",
      "shuffling image 187 - mask\n",
      "shuffling image 188 - img\n",
      "shuffling image 188 - mask\n",
      "shuffling image 189 - img\n",
      "shuffling image 189 - mask\n",
      "shuffling image 190 - img\n",
      "shuffling image 190 - mask\n",
      "shuffling image 191 - img\n",
      "shuffling image 191 - mask\n",
      "shuffling image 192 - img\n",
      "shuffling image 192 - mask\n",
      "shuffling image 193 - img\n",
      "shuffling image 193 - mask\n",
      "shuffling image 194 - img\n",
      "shuffling image 194 - mask\n",
      "shuffling image 195 - img\n",
      "shuffling image 195 - mask\n",
      "shuffling image 196 - img\n",
      "shuffling image 196 - mask\n",
      "shuffling image 197 - img\n",
      "shuffling image 197 - mask\n",
      "shuffling image 198 - img\n",
      "shuffling image 198 - mask\n",
      "shuffling image 199 - img\n",
      "shuffling image 199 - mask\n",
      "shuffling image 200 - img\n",
      "shuffling image 200 - mask\n",
      "shuffling image 201 - img\n",
      "shuffling image 201 - mask\n",
      "shuffling image 202 - img\n",
      "shuffling image 202 - mask\n",
      "shuffling image 203 - img\n",
      "shuffling image 203 - mask\n",
      "shuffling image 204 - img\n",
      "shuffling image 204 - mask\n",
      "shuffling image 205 - img\n",
      "shuffling image 205 - mask\n",
      "shuffling image 206 - img\n",
      "shuffling image 206 - mask\n",
      "shuffling image 207 - img\n",
      "shuffling image 207 - mask\n",
      "shuffling image 208 - img\n",
      "shuffling image 208 - mask\n",
      "shuffling image 209 - img\n",
      "shuffling image 209 - mask\n",
      "shuffling image 210 - img\n",
      "shuffling image 210 - mask\n",
      "shuffling image 211 - img\n",
      "shuffling image 211 - mask\n",
      "shuffling image 212 - img\n",
      "shuffling image 212 - mask\n",
      "shuffling image 213 - img\n",
      "shuffling image 213 - mask\n",
      "shuffling image 214 - img\n",
      "shuffling image 214 - mask\n",
      "shuffling image 215 - img\n",
      "shuffling image 215 - mask\n",
      "shuffling image 216 - img\n",
      "shuffling image 216 - mask\n",
      "shuffling image 217 - img\n",
      "shuffling image 217 - mask\n",
      "shuffling image 218 - img\n",
      "shuffling image 218 - mask\n",
      "shuffling image 219 - img\n",
      "shuffling image 219 - mask\n",
      "shuffling image 220 - img\n",
      "shuffling image 220 - mask\n",
      "shuffling image 221 - img\n",
      "shuffling image 221 - mask\n",
      "shuffling image 222 - img\n",
      "shuffling image 222 - mask\n",
      "shuffling image 223 - img\n",
      "shuffling image 223 - mask\n",
      "shuffling image 224 - img\n",
      "shuffling image 224 - mask\n",
      "shuffling image 225 - img\n",
      "shuffling image 225 - mask\n",
      "shuffling image 226 - img\n",
      "shuffling image 226 - mask\n",
      "shuffling image 227 - img\n",
      "shuffling image 227 - mask\n",
      "shuffling image 228 - img\n",
      "shuffling image 228 - mask\n",
      "shuffling image 229 - img\n",
      "shuffling image 229 - mask\n",
      "shuffling image 230 - img\n",
      "shuffling image 230 - mask\n",
      "shuffling image 231 - img\n",
      "shuffling image 231 - mask\n",
      "shuffling image 232 - img\n",
      "shuffling image 232 - mask\n",
      "shuffling image 233 - img\n",
      "shuffling image 233 - mask\n",
      "shuffling image 234 - img\n",
      "shuffling image 234 - mask\n",
      "shuffling image 235 - img\n",
      "shuffling image 235 - mask\n",
      "shuffling image 236 - img\n",
      "shuffling image 236 - mask\n",
      "shuffling image 237 - img\n",
      "shuffling image 237 - mask\n",
      "shuffling image 238 - img\n",
      "shuffling image 238 - mask\n",
      "shuffling image 239 - img\n",
      "shuffling image 239 - mask\n",
      "shuffling image 240 - img\n",
      "shuffling image 240 - mask\n",
      "shuffling image 241 - img\n",
      "shuffling image 241 - mask\n",
      "shuffling image 242 - img\n",
      "shuffling image 242 - mask\n",
      "shuffling image 243 - img\n",
      "shuffling image 243 - mask\n",
      "shuffling image 244 - img\n",
      "shuffling image 244 - mask\n",
      "shuffling image 245 - img\n",
      "shuffling image 245 - mask\n",
      "shuffling image 246 - img\n",
      "shuffling image 246 - mask\n",
      "shuffling image 247 - img\n",
      "shuffling image 247 - mask\n",
      "shuffling image 248 - img\n",
      "shuffling image 248 - mask\n",
      "shuffling image 249 - img\n",
      "shuffling image 249 - mask\n",
      "shuffling image 250 - img\n",
      "shuffling image 250 - mask\n",
      "shuffling image 251 - img\n",
      "shuffling image 251 - mask\n",
      "shuffling image 252 - img\n",
      "shuffling image 252 - mask\n",
      "shuffling image 253 - img\n",
      "shuffling image 253 - mask\n",
      "shuffling image 254 - img\n",
      "shuffling image 254 - mask\n",
      "shuffling image 255 - img\n",
      "shuffling image 255 - mask\n",
      "shuffling image 256 - img\n",
      "shuffling image 256 - mask\n",
      "shuffling image 257 - img\n",
      "shuffling image 257 - mask\n",
      "shuffling image 258 - img\n",
      "shuffling image 258 - mask\n",
      "shuffling image 259 - img\n",
      "shuffling image 259 - mask\n",
      "shuffling image 260 - img\n",
      "shuffling image 260 - mask\n",
      "shuffling image 261 - img\n",
      "shuffling image 261 - mask\n",
      "shuffling image 262 - img\n",
      "shuffling image 262 - mask\n",
      "shuffling image 263 - img\n",
      "shuffling image 263 - mask\n",
      "shuffling image 264 - img\n",
      "shuffling image 264 - mask\n",
      "shuffling image 265 - img\n",
      "shuffling image 265 - mask\n",
      "shuffling image 266 - img\n",
      "shuffling image 266 - mask\n",
      "shuffling image 267 - img\n",
      "shuffling image 267 - mask\n",
      "shuffling image 268 - img\n",
      "shuffling image 268 - mask\n",
      "shuffling image 269 - img\n",
      "shuffling image 269 - mask\n",
      "shuffling image 270 - img\n",
      "shuffling image 270 - mask\n",
      "shuffling image 271 - img\n",
      "shuffling image 271 - mask\n",
      "shuffling image 272 - img\n",
      "shuffling image 272 - mask\n",
      "shuffling image 273 - img\n",
      "shuffling image 273 - mask\n",
      "shuffling image 274 - img\n",
      "shuffling image 274 - mask\n",
      "shuffling image 275 - img\n",
      "shuffling image 275 - mask\n",
      "shuffling image 276 - img\n",
      "shuffling image 276 - mask\n",
      "shuffling image 277 - img\n",
      "shuffling image 277 - mask\n",
      "shuffling image 278 - img\n",
      "shuffling image 278 - mask\n",
      "shuffling image 279 - img\n",
      "shuffling image 279 - mask\n",
      "shuffling image 280 - img\n",
      "shuffling image 280 - mask\n",
      "shuffling image 281 - img\n",
      "shuffling image 281 - mask\n",
      "shuffling image 282 - img\n",
      "shuffling image 282 - mask\n",
      "shuffling image 283 - img\n",
      "shuffling image 283 - mask\n",
      "shuffling image 284 - img\n",
      "shuffling image 284 - mask\n",
      "shuffling image 285 - img\n",
      "shuffling image 285 - mask\n",
      "shuffling image 286 - img\n",
      "shuffling image 286 - mask\n",
      "shuffling image 287 - img\n",
      "shuffling image 287 - mask\n",
      "shuffling image 288 - img\n",
      "shuffling image 288 - mask\n",
      "shuffling image 289 - img\n",
      "shuffling image 289 - mask\n",
      "shuffling image 290 - img\n",
      "shuffling image 290 - mask\n",
      "shuffling image 291 - img\n",
      "shuffling image 291 - mask\n",
      "shuffling image 292 - img\n",
      "shuffling image 292 - mask\n",
      "shuffling image 293 - img\n",
      "shuffling image 293 - mask\n",
      "shuffling image 294 - img\n",
      "shuffling image 294 - mask\n",
      "shuffling image 295 - img\n",
      "shuffling image 295 - mask\n",
      "shuffling image 296 - img\n",
      "shuffling image 296 - mask\n",
      "shuffling image 297 - img\n",
      "shuffling image 297 - mask\n",
      "shuffling image 298 - img\n",
      "shuffling image 298 - mask\n",
      "shuffling image 299 - img\n",
      "shuffling image 299 - mask\n",
      "shuffling image 300 - img\n",
      "shuffling image 300 - mask\n",
      "shuffling image 301 - img\n",
      "shuffling image 301 - mask\n",
      "shuffling image 302 - img\n",
      "shuffling image 302 - mask\n",
      "shuffling image 303 - img\n",
      "shuffling image 303 - mask\n",
      "shuffling image 304 - img\n",
      "shuffling image 304 - mask\n",
      "shuffling image 305 - img\n",
      "shuffling image 305 - mask\n",
      "shuffling image 306 - img\n",
      "shuffling image 306 - mask\n",
      "shuffling image 307 - img\n",
      "shuffling image 307 - mask\n",
      "shuffling image 308 - img\n",
      "shuffling image 308 - mask\n",
      "shuffling image 309 - img\n",
      "shuffling image 309 - mask\n",
      "shuffling image 310 - img\n",
      "shuffling image 310 - mask\n",
      "shuffling image 311 - img\n",
      "shuffling image 311 - mask\n",
      "shuffling image 312 - img\n",
      "shuffling image 312 - mask\n",
      "shuffling image 313 - img\n"
     ]
    },
    {
     "name": "stdout",
     "output_type": "stream",
     "text": [
      "shuffling image 313 - mask\n",
      "shuffling image 314 - img\n",
      "shuffling image 314 - mask\n",
      "shuffling image 315 - img\n",
      "shuffling image 315 - mask\n",
      "shuffling image 316 - img\n",
      "shuffling image 316 - mask\n",
      "shuffling image 317 - img\n",
      "shuffling image 317 - mask\n",
      "shuffling image 318 - img\n",
      "shuffling image 318 - mask\n",
      "shuffling image 319 - img\n",
      "shuffling image 319 - mask\n",
      "shuffling image 320 - img\n",
      "shuffling image 320 - mask\n",
      "shuffling image 321 - img\n",
      "shuffling image 321 - mask\n",
      "shuffling image 322 - img\n",
      "shuffling image 322 - mask\n",
      "shuffling image 323 - img\n",
      "shuffling image 323 - mask\n",
      "shuffling image 324 - img\n",
      "shuffling image 324 - mask\n",
      "shuffling image 325 - img\n",
      "shuffling image 325 - mask\n",
      "shuffling image 326 - img\n",
      "shuffling image 326 - mask\n",
      "shuffling image 327 - img\n",
      "shuffling image 327 - mask\n",
      "shuffling image 328 - img\n",
      "shuffling image 328 - mask\n",
      "shuffling image 329 - img\n",
      "shuffling image 329 - mask\n",
      "shuffling image 330 - img\n",
      "shuffling image 330 - mask\n",
      "shuffling image 331 - img\n",
      "shuffling image 331 - mask\n",
      "shuffling image 332 - img\n",
      "shuffling image 332 - mask\n",
      "shuffling image 333 - img\n",
      "shuffling image 333 - mask\n",
      "shuffling image 334 - img\n",
      "shuffling image 334 - mask\n",
      "shuffling image 335 - img\n",
      "shuffling image 335 - mask\n",
      "shuffling image 336 - img\n",
      "shuffling image 336 - mask\n",
      "shuffling image 337 - img\n",
      "shuffling image 337 - mask\n",
      "shuffling image 338 - img\n",
      "shuffling image 338 - mask\n",
      "shuffling image 339 - img\n",
      "shuffling image 339 - mask\n",
      "shuffling image 340 - img\n",
      "shuffling image 340 - mask\n",
      "shuffling image 341 - img\n",
      "shuffling image 341 - mask\n",
      "shuffling image 342 - img\n",
      "shuffling image 342 - mask\n",
      "shuffling image 343 - img\n",
      "shuffling image 343 - mask\n",
      "shuffling image 344 - img\n",
      "shuffling image 344 - mask\n",
      "shuffling image 345 - img\n",
      "shuffling image 345 - mask\n",
      "shuffling image 346 - img\n",
      "shuffling image 346 - mask\n",
      "shuffling image 347 - img\n",
      "shuffling image 347 - mask\n",
      "shuffling image 348 - img\n",
      "shuffling image 348 - mask\n",
      "shuffling image 349 - img\n",
      "shuffling image 349 - mask\n",
      "shuffling image 350 - img\n",
      "shuffling image 350 - mask\n",
      "shuffling image 351 - img\n",
      "shuffling image 351 - mask\n",
      "shuffling image 352 - img\n",
      "shuffling image 352 - mask\n",
      "shuffling image 353 - img\n",
      "shuffling image 353 - mask\n",
      "shuffling image 354 - img\n",
      "shuffling image 354 - mask\n",
      "shuffling image 355 - img\n",
      "shuffling image 355 - mask\n",
      "shuffling image 356 - img\n",
      "shuffling image 356 - mask\n",
      "shuffling image 357 - img\n",
      "shuffling image 357 - mask\n",
      "shuffling image 358 - img\n",
      "shuffling image 358 - mask\n",
      "shuffling image 359 - img\n",
      "shuffling image 359 - mask\n",
      "shuffling image 360 - img\n",
      "shuffling image 360 - mask\n",
      "shuffling image 361 - img\n",
      "shuffling image 361 - mask\n",
      "shuffling image 362 - img\n",
      "shuffling image 362 - mask\n",
      "shuffling image 363 - img\n",
      "shuffling image 363 - mask\n",
      "shuffling image 364 - img\n",
      "shuffling image 364 - mask\n",
      "shuffling image 365 - img\n",
      "shuffling image 365 - mask\n",
      "shuffling image 366 - img\n",
      "shuffling image 366 - mask\n",
      "shuffling image 367 - img\n",
      "shuffling image 367 - mask\n",
      "shuffling image 368 - img\n",
      "shuffling image 368 - mask\n",
      "shuffling image 369 - img\n",
      "shuffling image 369 - mask\n",
      "shuffling image 370 - img\n",
      "shuffling image 370 - mask\n",
      "shuffling image 371 - img\n",
      "shuffling image 371 - mask\n",
      "shuffling image 372 - img\n",
      "shuffling image 372 - mask\n",
      "shuffling image 373 - img\n",
      "shuffling image 373 - mask\n",
      "shuffling image 374 - img\n",
      "shuffling image 374 - mask\n",
      "shuffling image 375 - img\n",
      "shuffling image 375 - mask\n",
      "shuffling image 376 - img\n",
      "shuffling image 376 - mask\n",
      "shuffling image 377 - img\n",
      "shuffling image 377 - mask\n",
      "shuffling image 378 - img\n",
      "shuffling image 378 - mask\n",
      "shuffling image 379 - img\n",
      "shuffling image 379 - mask\n",
      "shuffling image 380 - img\n",
      "shuffling image 380 - mask\n",
      "shuffling image 381 - img\n",
      "shuffling image 381 - mask\n",
      "shuffling image 382 - img\n",
      "shuffling image 382 - mask\n",
      "shuffling image 383 - img\n",
      "shuffling image 383 - mask\n",
      "shuffling image 384 - img\n",
      "shuffling image 384 - mask\n",
      "shuffling image 385 - img\n",
      "shuffling image 385 - mask\n",
      "shuffling image 386 - img\n",
      "shuffling image 386 - mask\n",
      "shuffling image 387 - img\n",
      "shuffling image 387 - mask\n",
      "shuffling image 388 - img\n",
      "shuffling image 388 - mask\n",
      "shuffling image 389 - img\n",
      "shuffling image 389 - mask\n",
      "shuffling image 390 - img\n",
      "shuffling image 390 - mask\n",
      "shuffling image 391 - img\n",
      "shuffling image 391 - mask\n",
      "shuffling image 392 - img\n",
      "shuffling image 392 - mask\n",
      "shuffling image 393 - img\n",
      "shuffling image 393 - mask\n",
      "shuffling image 394 - img\n",
      "shuffling image 394 - mask\n",
      "shuffling image 395 - img\n",
      "shuffling image 395 - mask\n",
      "shuffling image 396 - img\n",
      "shuffling image 396 - mask\n",
      "shuffling image 397 - img\n",
      "shuffling image 397 - mask\n",
      "shuffling image 398 - img\n",
      "shuffling image 398 - mask\n",
      "shuffling image 399 - img\n",
      "shuffling image 399 - mask\n",
      "shuffling image 400 - img\n",
      "shuffling image 400 - mask\n",
      "shuffling image 401 - img\n",
      "shuffling image 401 - mask\n",
      "shuffling image 402 - img\n",
      "shuffling image 402 - mask\n",
      "shuffling image 403 - img\n",
      "shuffling image 403 - mask\n",
      "shuffling image 404 - img\n",
      "shuffling image 404 - mask\n",
      "shuffling image 405 - img\n",
      "shuffling image 405 - mask\n",
      "shuffling image 406 - img\n",
      "shuffling image 406 - mask\n",
      "shuffling image 407 - img\n",
      "shuffling image 407 - mask\n",
      "shuffling image 408 - img\n",
      "shuffling image 408 - mask\n",
      "shuffling image 409 - img\n",
      "shuffling image 409 - mask\n",
      "shuffling image 410 - img\n",
      "shuffling image 410 - mask\n",
      "shuffling image 411 - img\n",
      "shuffling image 411 - mask\n",
      "shuffling image 412 - img\n",
      "shuffling image 412 - mask\n",
      "shuffling image 413 - img\n",
      "shuffling image 413 - mask\n",
      "shuffling image 414 - img\n",
      "shuffling image 414 - mask\n",
      "shuffling image 415 - img\n",
      "shuffling image 415 - mask\n",
      "shuffling image 416 - img\n",
      "shuffling image 416 - mask\n",
      "shuffling image 417 - img\n",
      "shuffling image 417 - mask\n",
      "shuffling image 418 - img\n",
      "shuffling image 418 - mask\n",
      "shuffling image 419 - img\n",
      "shuffling image 419 - mask\n",
      "shuffling image 420 - img\n",
      "shuffling image 420 - mask\n",
      "shuffling image 421 - img\n",
      "shuffling image 421 - mask\n",
      "shuffling image 422 - img\n",
      "shuffling image 422 - mask\n",
      "shuffling image 423 - img\n",
      "shuffling image 423 - mask\n",
      "shuffling image 424 - img\n",
      "shuffling image 424 - mask\n",
      "shuffling image 425 - img\n",
      "shuffling image 425 - mask\n",
      "shuffling image 426 - img\n",
      "shuffling image 426 - mask\n",
      "shuffling image 427 - img\n",
      "shuffling image 427 - mask\n",
      "shuffling image 428 - img\n",
      "shuffling image 428 - mask\n",
      "shuffling image 429 - img\n",
      "shuffling image 429 - mask\n",
      "shuffling image 430 - img\n",
      "shuffling image 430 - mask\n",
      "shuffling image 431 - img\n",
      "shuffling image 431 - mask\n",
      "shuffling image 432 - img\n",
      "shuffling image 432 - mask\n",
      "shuffling image 433 - img\n",
      "shuffling image 433 - mask\n",
      "shuffling image 434 - img\n",
      "shuffling image 434 - mask\n",
      "shuffling image 435 - img\n",
      "shuffling image 435 - mask\n",
      "shuffling image 436 - img\n",
      "shuffling image 436 - mask\n",
      "shuffling image 437 - img\n",
      "shuffling image 437 - mask\n",
      "shuffling image 438 - img\n",
      "shuffling image 438 - mask\n",
      "shuffling image 439 - img\n",
      "shuffling image 439 - mask\n",
      "shuffling image 440 - img\n",
      "shuffling image 440 - mask\n",
      "shuffling image 441 - img\n",
      "shuffling image 441 - mask\n",
      "shuffling image 442 - img\n",
      "shuffling image 442 - mask\n",
      "shuffling image 443 - img\n",
      "shuffling image 443 - mask\n",
      "shuffling image 444 - img\n",
      "shuffling image 444 - mask\n",
      "shuffling image 445 - img\n",
      "shuffling image 445 - mask\n",
      "shuffling image 446 - img\n",
      "shuffling image 446 - mask\n",
      "shuffling image 447 - img\n",
      "shuffling image 447 - mask\n",
      "shuffling image 448 - img\n",
      "shuffling image 448 - mask\n",
      "shuffling image 449 - img\n",
      "shuffling image 449 - mask\n",
      "shuffling image 450 - img\n",
      "shuffling image 450 - mask\n",
      "shuffling image 451 - img\n",
      "shuffling image 451 - mask\n",
      "shuffling image 452 - img\n",
      "shuffling image 452 - mask\n",
      "shuffling image 453 - img\n",
      "shuffling image 453 - mask\n",
      "shuffling image 454 - img\n",
      "shuffling image 454 - mask\n",
      "shuffling image 455 - img\n",
      "shuffling image 455 - mask\n",
      "shuffling image 456 - img\n",
      "shuffling image 456 - mask\n",
      "shuffling image 457 - img\n",
      "shuffling image 457 - mask\n",
      "shuffling image 458 - img\n",
      "shuffling image 458 - mask\n",
      "shuffling image 459 - img\n",
      "shuffling image 459 - mask\n",
      "shuffling image 460 - img\n",
      "shuffling image 460 - mask\n",
      "shuffling image 461 - img\n",
      "shuffling image 461 - mask\n",
      "shuffling image 462 - img\n",
      "shuffling image 462 - mask\n",
      "shuffling image 463 - img\n",
      "shuffling image 463 - mask\n",
      "shuffling image 464 - img\n",
      "shuffling image 464 - mask\n",
      "shuffling image 465 - img\n",
      "shuffling image 465 - mask\n",
      "shuffling image 466 - img\n",
      "shuffling image 466 - mask\n",
      "shuffling image 467 - img\n",
      "shuffling image 467 - mask\n",
      "shuffling image 468 - img\n"
     ]
    },
    {
     "name": "stdout",
     "output_type": "stream",
     "text": [
      "shuffling image 468 - mask\n",
      "shuffling image 469 - img\n",
      "shuffling image 469 - mask\n",
      "shuffling image 470 - img\n",
      "shuffling image 470 - mask\n",
      "shuffling image 471 - img\n",
      "shuffling image 471 - mask\n",
      "shuffling image 472 - img\n",
      "shuffling image 472 - mask\n",
      "shuffling image 473 - img\n",
      "shuffling image 473 - mask\n",
      "shuffling image 474 - img\n",
      "shuffling image 474 - mask\n",
      "shuffling image 475 - img\n",
      "shuffling image 475 - mask\n",
      "shuffling image 476 - img\n",
      "shuffling image 476 - mask\n",
      "shuffling image 477 - img\n",
      "shuffling image 477 - mask\n",
      "shuffling image 478 - img\n",
      "shuffling image 478 - mask\n",
      "shuffling image 479 - img\n",
      "shuffling image 479 - mask\n",
      "shuffling image 480 - img\n",
      "shuffling image 480 - mask\n",
      "shuffling image 481 - img\n",
      "shuffling image 481 - mask\n",
      "shuffling image 482 - img\n",
      "shuffling image 482 - mask\n",
      "shuffling image 483 - img\n",
      "shuffling image 483 - mask\n",
      "shuffling image 484 - img\n",
      "shuffling image 484 - mask\n",
      "shuffling image 485 - img\n",
      "shuffling image 485 - mask\n",
      "shuffling image 486 - img\n",
      "shuffling image 486 - mask\n",
      "shuffling image 487 - img\n",
      "shuffling image 487 - mask\n",
      "shuffling image 488 - img\n",
      "shuffling image 488 - mask\n",
      "shuffling image 489 - img\n",
      "shuffling image 489 - mask\n",
      "shuffling image 490 - img\n",
      "shuffling image 490 - mask\n",
      "shuffling image 491 - img\n",
      "shuffling image 491 - mask\n",
      "shuffling image 492 - img\n",
      "shuffling image 492 - mask\n",
      "shuffling image 493 - img\n",
      "shuffling image 493 - mask\n",
      "shuffling image 494 - img\n",
      "shuffling image 494 - mask\n",
      "shuffling image 495 - img\n",
      "shuffling image 495 - mask\n",
      "shuffling image 496 - img\n",
      "shuffling image 496 - mask\n",
      "shuffling image 497 - img\n",
      "shuffling image 497 - mask\n",
      "shuffling image 498 - img\n",
      "shuffling image 498 - mask\n",
      "shuffling image 499 - img\n",
      "shuffling image 499 - mask\n",
      "shuffling image 500 - img\n",
      "shuffling image 500 - mask\n",
      "shuffling image 501 - img\n",
      "shuffling image 501 - mask\n",
      "shuffling image 502 - img\n",
      "shuffling image 502 - mask\n",
      "shuffling image 503 - img\n",
      "shuffling image 503 - mask\n",
      "shuffling image 504 - img\n",
      "shuffling image 504 - mask\n",
      "shuffling image 505 - img\n",
      "shuffling image 505 - mask\n",
      "shuffling image 506 - img\n",
      "shuffling image 506 - mask\n",
      "shuffling image 507 - img\n",
      "shuffling image 507 - mask\n",
      "shuffling image 508 - img\n",
      "shuffling image 508 - mask\n",
      "shuffling image 509 - img\n",
      "shuffling image 509 - mask\n",
      "shuffling image 510 - img\n",
      "shuffling image 510 - mask\n",
      "shuffling image 511 - img\n",
      "shuffling image 511 - mask\n",
      "shuffling image 512 - img\n",
      "shuffling image 512 - mask\n",
      "shuffling image 513 - img\n",
      "shuffling image 513 - mask\n",
      "shuffling image 514 - img\n",
      "shuffling image 514 - mask\n",
      "shuffling image 515 - img\n",
      "shuffling image 515 - mask\n",
      "shuffling image 516 - img\n",
      "shuffling image 516 - mask\n",
      "shuffling image 517 - img\n",
      "shuffling image 517 - mask\n",
      "shuffling image 518 - img\n",
      "shuffling image 518 - mask\n",
      "shuffling image 519 - img\n",
      "shuffling image 519 - mask\n",
      "shuffling image 520 - img\n",
      "shuffling image 520 - mask\n",
      "shuffling image 521 - img\n",
      "shuffling image 521 - mask\n",
      "shuffling image 522 - img\n",
      "shuffling image 522 - mask\n",
      "shuffling image 523 - img\n",
      "shuffling image 523 - mask\n",
      "shuffling image 524 - img\n",
      "shuffling image 524 - mask\n",
      "shuffling image 525 - img\n",
      "shuffling image 525 - mask\n",
      "shuffling image 526 - img\n",
      "shuffling image 526 - mask\n",
      "shuffling image 527 - img\n",
      "shuffling image 527 - mask\n",
      "shuffling image 528 - img\n",
      "shuffling image 528 - mask\n",
      "shuffling image 529 - img\n",
      "shuffling image 529 - mask\n",
      "shuffling image 530 - img\n",
      "shuffling image 530 - mask\n",
      "shuffling image 531 - img\n",
      "shuffling image 531 - mask\n",
      "shuffling image 532 - img\n",
      "shuffling image 532 - mask\n",
      "shuffling image 533 - img\n",
      "shuffling image 533 - mask\n",
      "shuffling image 534 - img\n",
      "shuffling image 534 - mask\n",
      "shuffling image 535 - img\n",
      "shuffling image 535 - mask\n",
      "shuffling image 536 - img\n",
      "shuffling image 536 - mask\n",
      "shuffling image 537 - img\n",
      "shuffling image 537 - mask\n",
      "shuffling image 538 - img\n",
      "shuffling image 538 - mask\n",
      "shuffling image 539 - img\n",
      "shuffling image 539 - mask\n",
      "shuffling image 540 - img\n",
      "shuffling image 540 - mask\n",
      "shuffling image 541 - img\n",
      "shuffling image 541 - mask\n",
      "shuffling image 542 - img\n",
      "shuffling image 542 - mask\n",
      "shuffling image 543 - img\n",
      "shuffling image 543 - mask\n",
      "shuffling image 544 - img\n",
      "shuffling image 544 - mask\n",
      "shuffling image 545 - img\n",
      "shuffling image 545 - mask\n",
      "shuffling image 546 - img\n",
      "shuffling image 546 - mask\n",
      "shuffling image 547 - img\n",
      "shuffling image 547 - mask\n",
      "shuffling image 548 - img\n",
      "shuffling image 548 - mask\n",
      "shuffling image 549 - img\n",
      "shuffling image 549 - mask\n",
      "shuffling image 550 - img\n",
      "shuffling image 550 - mask\n",
      "shuffling image 551 - img\n",
      "shuffling image 551 - mask\n",
      "shuffling image 552 - img\n",
      "shuffling image 552 - mask\n",
      "shuffling image 553 - img\n",
      "shuffling image 553 - mask\n",
      "shuffling image 554 - img\n",
      "shuffling image 554 - mask\n",
      "shuffling image 555 - img\n",
      "shuffling image 555 - mask\n",
      "shuffling image 556 - img\n",
      "shuffling image 556 - mask\n",
      "shuffling image 557 - img\n",
      "shuffling image 557 - mask\n",
      "shuffling image 558 - img\n",
      "shuffling image 558 - mask\n",
      "shuffling image 559 - img\n",
      "shuffling image 559 - mask\n",
      "shuffling image 560 - img\n",
      "shuffling image 560 - mask\n",
      "shuffling image 561 - img\n",
      "shuffling image 561 - mask\n",
      "shuffling image 562 - img\n",
      "shuffling image 562 - mask\n",
      "shuffling image 563 - img\n",
      "shuffling image 563 - mask\n",
      "shuffling image 564 - img\n",
      "shuffling image 564 - mask\n",
      "shuffling image 565 - img\n",
      "shuffling image 565 - mask\n",
      "shuffling image 566 - img\n",
      "shuffling image 566 - mask\n",
      "shuffling image 567 - img\n",
      "shuffling image 567 - mask\n",
      "shuffling image 568 - img\n",
      "shuffling image 568 - mask\n",
      "shuffling image 569 - img\n",
      "shuffling image 569 - mask\n",
      "shuffling image 570 - img\n",
      "shuffling image 570 - mask\n",
      "shuffling image 571 - img\n",
      "shuffling image 571 - mask\n",
      "shuffling image 572 - img\n",
      "shuffling image 572 - mask\n",
      "shuffling image 573 - img\n",
      "shuffling image 573 - mask\n",
      "shuffling image 574 - img\n",
      "shuffling image 574 - mask\n",
      "shuffling image 575 - img\n",
      "shuffling image 575 - mask\n",
      "shuffling image 576 - img\n",
      "shuffling image 576 - mask\n",
      "shuffling image 577 - img\n",
      "shuffling image 577 - mask\n",
      "shuffling image 578 - img\n",
      "shuffling image 578 - mask\n",
      "shuffling image 579 - img\n",
      "shuffling image 579 - mask\n",
      "shuffling image 580 - img\n",
      "shuffling image 580 - mask\n",
      "shuffling image 581 - img\n",
      "shuffling image 581 - mask\n",
      "shuffling image 582 - img\n",
      "shuffling image 582 - mask\n",
      "shuffling image 583 - img\n",
      "shuffling image 583 - mask\n",
      "shuffling image 584 - img\n",
      "shuffling image 584 - mask\n",
      "shuffling image 585 - img\n",
      "shuffling image 585 - mask\n",
      "shuffling image 586 - img\n",
      "shuffling image 586 - mask\n",
      "shuffling image 587 - img\n",
      "shuffling image 587 - mask\n",
      "shuffling image 588 - img\n",
      "shuffling image 588 - mask\n",
      "shuffling image 589 - img\n",
      "shuffling image 589 - mask\n",
      "shuffling image 590 - img\n",
      "shuffling image 590 - mask\n",
      "shuffling image 591 - img\n",
      "shuffling image 591 - mask\n",
      "shuffling image 592 - img\n",
      "shuffling image 592 - mask\n",
      "shuffling image 593 - img\n",
      "shuffling image 593 - mask\n",
      "shuffling image 594 - img\n",
      "shuffling image 594 - mask\n",
      "shuffling image 595 - img\n",
      "shuffling image 595 - mask\n",
      "shuffling image 596 - img\n",
      "shuffling image 596 - mask\n",
      "shuffling image 597 - img\n",
      "shuffling image 597 - mask\n",
      "shuffling image 598 - img\n",
      "shuffling image 598 - mask\n",
      "shuffling image 599 - img\n",
      "shuffling image 599 - mask\n",
      "shuffling image 600 - img\n",
      "shuffling image 600 - mask\n",
      "shuffling image 601 - img\n",
      "shuffling image 601 - mask\n",
      "shuffling image 602 - img\n",
      "shuffling image 602 - mask\n",
      "shuffling image 603 - img\n",
      "shuffling image 603 - mask\n",
      "shuffling image 604 - img\n",
      "shuffling image 604 - mask\n",
      "shuffling image 605 - img\n",
      "shuffling image 605 - mask\n",
      "shuffling image 606 - img\n",
      "shuffling image 606 - mask\n",
      "shuffling image 607 - img\n",
      "shuffling image 607 - mask\n",
      "shuffling image 608 - img\n",
      "shuffling image 608 - mask\n",
      "shuffling image 609 - img\n",
      "shuffling image 609 - mask\n",
      "shuffling image 610 - img\n",
      "shuffling image 610 - mask\n",
      "shuffling image 611 - img\n",
      "shuffling image 611 - mask\n",
      "shuffling image 612 - img\n",
      "shuffling image 612 - mask\n",
      "shuffling image 613 - img\n",
      "shuffling image 613 - mask\n",
      "shuffling image 614 - img\n",
      "shuffling image 614 - mask\n",
      "shuffling image 615 - img\n",
      "shuffling image 615 - mask\n",
      "shuffling image 616 - img\n",
      "shuffling image 616 - mask\n",
      "shuffling image 617 - img\n",
      "shuffling image 617 - mask\n",
      "shuffling image 618 - img\n",
      "shuffling image 618 - mask\n",
      "shuffling image 619 - img\n",
      "shuffling image 619 - mask\n",
      "shuffling image 620 - img\n",
      "shuffling image 620 - mask\n",
      "shuffling image 621 - img\n",
      "shuffling image 621 - mask\n",
      "shuffling image 622 - img\n",
      "shuffling image 622 - mask\n",
      "shuffling image 623 - img\n"
     ]
    },
    {
     "name": "stdout",
     "output_type": "stream",
     "text": [
      "shuffling image 623 - mask\n",
      "shuffling image 624 - img\n",
      "shuffling image 624 - mask\n",
      "shuffling image 625 - img\n",
      "shuffling image 625 - mask\n",
      "shuffling image 626 - img\n",
      "shuffling image 626 - mask\n",
      "shuffling image 627 - img\n",
      "shuffling image 627 - mask\n",
      "shuffling image 628 - img\n",
      "shuffling image 628 - mask\n",
      "shuffling image 629 - img\n",
      "shuffling image 629 - mask\n",
      "shuffling image 630 - img\n",
      "shuffling image 630 - mask\n",
      "shuffling image 631 - img\n",
      "shuffling image 631 - mask\n",
      "shuffling image 632 - img\n",
      "shuffling image 632 - mask\n",
      "shuffling image 633 - img\n",
      "shuffling image 633 - mask\n",
      "shuffling image 634 - img\n",
      "shuffling image 634 - mask\n",
      "shuffling image 635 - img\n",
      "shuffling image 635 - mask\n",
      "shuffling image 636 - img\n",
      "shuffling image 636 - mask\n",
      "shuffling image 637 - img\n",
      "shuffling image 637 - mask\n",
      "shuffling image 638 - img\n",
      "shuffling image 638 - mask\n",
      "shuffling image 639 - img\n",
      "shuffling image 639 - mask\n",
      "shuffling image 640 - img\n",
      "shuffling image 640 - mask\n",
      "shuffling image 641 - img\n",
      "shuffling image 641 - mask\n",
      "shuffling image 642 - img\n",
      "shuffling image 642 - mask\n",
      "shuffling image 643 - img\n",
      "shuffling image 643 - mask\n",
      "shuffling image 644 - img\n",
      "shuffling image 644 - mask\n",
      "shuffling image 645 - img\n",
      "shuffling image 645 - mask\n",
      "shuffling image 646 - img\n",
      "shuffling image 646 - mask\n",
      "shuffling image 647 - img\n",
      "shuffling image 647 - mask\n",
      "shuffling image 648 - img\n",
      "shuffling image 648 - mask\n",
      "shuffling image 649 - img\n",
      "shuffling image 649 - mask\n",
      "shuffling image 650 - img\n",
      "shuffling image 650 - mask\n",
      "shuffling image 651 - img\n",
      "shuffling image 651 - mask\n",
      "shuffling image 652 - img\n",
      "shuffling image 652 - mask\n",
      "shuffling image 653 - img\n",
      "shuffling image 653 - mask\n",
      "shuffling image 654 - img\n",
      "shuffling image 654 - mask\n",
      "shuffling image 655 - img\n",
      "shuffling image 655 - mask\n",
      "shuffling image 656 - img\n",
      "shuffling image 656 - mask\n",
      "shuffling image 657 - img\n",
      "shuffling image 657 - mask\n",
      "shuffling image 658 - img\n",
      "shuffling image 658 - mask\n",
      "shuffling image 659 - img\n",
      "shuffling image 659 - mask\n",
      "shuffling image 660 - img\n",
      "shuffling image 660 - mask\n",
      "shuffling image 661 - img\n",
      "shuffling image 661 - mask\n",
      "shuffling image 662 - img\n",
      "shuffling image 662 - mask\n",
      "shuffling image 663 - img\n",
      "shuffling image 663 - mask\n",
      "shuffling image 664 - img\n",
      "shuffling image 664 - mask\n",
      "shuffling image 665 - img\n",
      "shuffling image 665 - mask\n",
      "shuffling image 666 - img\n",
      "shuffling image 666 - mask\n",
      "shuffling image 667 - img\n",
      "shuffling image 667 - mask\n",
      "shuffling image 668 - img\n",
      "shuffling image 668 - mask\n",
      "shuffling image 669 - img\n",
      "shuffling image 669 - mask\n",
      "shuffling image 670 - img\n",
      "shuffling image 670 - mask\n",
      "shuffling image 671 - img\n",
      "shuffling image 671 - mask\n",
      "shuffling image 672 - img\n",
      "shuffling image 672 - mask\n",
      "shuffling image 673 - img\n",
      "shuffling image 673 - mask\n",
      "shuffling image 674 - img\n",
      "shuffling image 674 - mask\n",
      "shuffling image 675 - img\n",
      "shuffling image 675 - mask\n",
      "shuffling image 676 - img\n",
      "shuffling image 676 - mask\n",
      "shuffling image 677 - img\n",
      "shuffling image 677 - mask\n",
      "shuffling image 678 - img\n",
      "shuffling image 678 - mask\n",
      "shuffling image 679 - img\n",
      "shuffling image 679 - mask\n",
      "shuffling image 680 - img\n",
      "shuffling image 680 - mask\n",
      "shuffling image 681 - img\n",
      "shuffling image 681 - mask\n",
      "shuffling image 682 - img\n",
      "shuffling image 682 - mask\n",
      "shuffling image 683 - img\n",
      "shuffling image 683 - mask\n",
      "shuffling image 684 - img\n",
      "shuffling image 684 - mask\n",
      "shuffling image 685 - img\n",
      "shuffling image 685 - mask\n",
      "shuffling image 686 - img\n",
      "shuffling image 686 - mask\n",
      "shuffling image 687 - img\n",
      "shuffling image 687 - mask\n",
      "shuffling image 688 - img\n",
      "shuffling image 688 - mask\n",
      "shuffling image 689 - img\n",
      "shuffling image 689 - mask\n",
      "shuffling image 690 - img\n",
      "shuffling image 690 - mask\n",
      "shuffling image 691 - img\n",
      "shuffling image 691 - mask\n",
      "shuffling image 692 - img\n",
      "shuffling image 692 - mask\n",
      "shuffling image 693 - img\n",
      "shuffling image 693 - mask\n",
      "shuffling image 694 - img\n",
      "shuffling image 694 - mask\n",
      "shuffling image 695 - img\n",
      "shuffling image 695 - mask\n",
      "shuffling image 696 - img\n",
      "shuffling image 696 - mask\n",
      "shuffling image 697 - img\n",
      "shuffling image 697 - mask\n",
      "shuffling image 698 - img\n",
      "shuffling image 698 - mask\n",
      "shuffling image 699 - img\n",
      "shuffling image 699 - mask\n",
      "shuffling image 700 - img\n",
      "shuffling image 700 - mask\n",
      "shuffling image 701 - img\n",
      "shuffling image 701 - mask\n",
      "shuffling image 702 - img\n",
      "shuffling image 702 - mask\n",
      "shuffling image 703 - img\n",
      "shuffling image 703 - mask\n",
      "shuffling image 704 - img\n",
      "shuffling image 704 - mask\n",
      "shuffling image 705 - img\n",
      "shuffling image 705 - mask\n",
      "shuffling image 706 - img\n",
      "shuffling image 706 - mask\n",
      "shuffling image 707 - img\n",
      "shuffling image 707 - mask\n",
      "shuffling image 708 - img\n",
      "shuffling image 708 - mask\n",
      "shuffling image 709 - img\n",
      "shuffling image 709 - mask\n",
      "shuffling image 710 - img\n",
      "shuffling image 710 - mask\n",
      "shuffling image 711 - img\n",
      "shuffling image 711 - mask\n",
      "shuffling image 712 - img\n",
      "shuffling image 712 - mask\n",
      "shuffling image 713 - img\n",
      "shuffling image 713 - mask\n",
      "shuffling image 714 - img\n",
      "shuffling image 714 - mask\n",
      "shuffling image 715 - img\n",
      "shuffling image 715 - mask\n",
      "shuffling image 716 - img\n",
      "shuffling image 716 - mask\n",
      "shuffling image 717 - img\n",
      "shuffling image 717 - mask\n",
      "shuffling image 718 - img\n",
      "shuffling image 718 - mask\n",
      "shuffling image 719 - img\n",
      "shuffling image 719 - mask\n",
      "shuffling image 720 - img\n",
      "shuffling image 720 - mask\n",
      "shuffling image 721 - img\n",
      "shuffling image 721 - mask\n",
      "shuffling image 722 - img\n",
      "shuffling image 722 - mask\n",
      "shuffling image 723 - img\n",
      "shuffling image 723 - mask\n",
      "shuffling image 724 - img\n",
      "shuffling image 724 - mask\n",
      "shuffling image 725 - img\n",
      "shuffling image 725 - mask\n",
      "shuffling image 726 - img\n",
      "shuffling image 726 - mask\n",
      "shuffling image 727 - img\n",
      "shuffling image 727 - mask\n",
      "shuffling image 728 - img\n",
      "shuffling image 728 - mask\n",
      "shuffling image 729 - img\n",
      "shuffling image 729 - mask\n",
      "shuffling image 730 - img\n",
      "shuffling image 730 - mask\n",
      "shuffling image 731 - img\n",
      "shuffling image 731 - mask\n",
      "shuffling image 732 - img\n",
      "shuffling image 732 - mask\n",
      "shuffling image 733 - img\n",
      "shuffling image 733 - mask\n",
      "shuffling image 734 - img\n",
      "shuffling image 734 - mask\n",
      "shuffling image 735 - img\n",
      "shuffling image 735 - mask\n",
      "shuffling image 736 - img\n",
      "shuffling image 736 - mask\n",
      "shuffling image 737 - img\n",
      "shuffling image 737 - mask\n",
      "shuffling image 738 - img\n",
      "shuffling image 738 - mask\n",
      "shuffling image 739 - img\n",
      "shuffling image 739 - mask\n",
      "shuffling image 740 - img\n",
      "shuffling image 740 - mask\n",
      "shuffling image 741 - img\n",
      "shuffling image 741 - mask\n",
      "shuffling image 742 - img\n",
      "shuffling image 742 - mask\n",
      "shuffling image 743 - img\n",
      "shuffling image 743 - mask\n",
      "shuffling image 744 - img\n",
      "shuffling image 744 - mask\n",
      "shuffling image 745 - img\n",
      "shuffling image 745 - mask\n",
      "shuffling image 746 - img\n",
      "shuffling image 746 - mask\n",
      "shuffling image 747 - img\n",
      "shuffling image 747 - mask\n",
      "shuffling image 748 - img\n",
      "shuffling image 748 - mask\n",
      "shuffling image 749 - img\n",
      "shuffling image 749 - mask\n",
      "shuffling image 750 - img\n",
      "shuffling image 750 - mask\n",
      "shuffling image 751 - img\n",
      "shuffling image 751 - mask\n",
      "shuffling image 752 - img\n",
      "shuffling image 752 - mask\n",
      "shuffling image 753 - img\n",
      "shuffling image 753 - mask\n",
      "shuffling image 754 - img\n",
      "shuffling image 754 - mask\n",
      "shuffling image 755 - img\n",
      "shuffling image 755 - mask\n",
      "shuffling image 756 - img\n",
      "shuffling image 756 - mask\n",
      "shuffling image 757 - img\n",
      "shuffling image 757 - mask\n",
      "shuffling image 758 - img\n",
      "shuffling image 758 - mask\n",
      "shuffling image 759 - img\n",
      "shuffling image 759 - mask\n",
      "shuffling image 760 - img\n",
      "shuffling image 760 - mask\n",
      "shuffling image 761 - img\n",
      "shuffling image 761 - mask\n",
      "shuffling image 762 - img\n",
      "shuffling image 762 - mask\n",
      "shuffling image 763 - img\n",
      "shuffling image 763 - mask\n",
      "shuffling image 764 - img\n",
      "shuffling image 764 - mask\n",
      "shuffling image 765 - img\n",
      "shuffling image 765 - mask\n",
      "shuffling image 766 - img\n",
      "shuffling image 766 - mask\n",
      "shuffling image 767 - img\n",
      "shuffling image 767 - mask\n",
      "shuffling image 768 - img\n",
      "shuffling image 768 - mask\n",
      "shuffling image 769 - img\n",
      "shuffling image 769 - mask\n",
      "shuffling image 770 - img\n",
      "shuffling image 770 - mask\n",
      "shuffling image 771 - img\n",
      "shuffling image 771 - mask\n",
      "shuffling image 772 - img\n",
      "shuffling image 772 - mask\n",
      "shuffling image 773 - img\n",
      "shuffling image 773 - mask\n",
      "shuffling image 774 - img\n",
      "shuffling image 774 - mask\n",
      "shuffling image 775 - img\n",
      "shuffling image 775 - mask\n",
      "shuffling image 776 - img\n",
      "shuffling image 776 - mask\n",
      "shuffling image 777 - img\n",
      "shuffling image 777 - mask\n",
      "shuffling image 778 - img\n"
     ]
    },
    {
     "name": "stdout",
     "output_type": "stream",
     "text": [
      "shuffling image 778 - mask\n",
      "shuffling image 779 - img\n",
      "shuffling image 779 - mask\n",
      "shuffling image 780 - img\n",
      "shuffling image 780 - mask\n",
      "shuffling image 781 - img\n",
      "shuffling image 781 - mask\n",
      "shuffling image 782 - img\n",
      "shuffling image 782 - mask\n",
      "shuffling image 783 - img\n",
      "shuffling image 783 - mask\n",
      "shuffling image 784 - img\n",
      "shuffling image 784 - mask\n",
      "shuffling image 785 - img\n",
      "shuffling image 785 - mask\n",
      "shuffling image 786 - img\n",
      "shuffling image 786 - mask\n",
      "shuffling image 787 - img\n",
      "shuffling image 787 - mask\n",
      "shuffling image 788 - img\n",
      "shuffling image 788 - mask\n",
      "shuffling image 789 - img\n",
      "shuffling image 789 - mask\n",
      "shuffling image 790 - img\n",
      "shuffling image 790 - mask\n",
      "shuffling image 791 - img\n",
      "shuffling image 791 - mask\n",
      "shuffling image 792 - img\n",
      "shuffling image 792 - mask\n",
      "shuffling image 793 - img\n",
      "shuffling image 793 - mask\n",
      "shuffling image 794 - img\n",
      "shuffling image 794 - mask\n",
      "shuffling image 795 - img\n",
      "shuffling image 795 - mask\n",
      "shuffling image 796 - img\n",
      "shuffling image 796 - mask\n",
      "shuffling image 797 - img\n",
      "shuffling image 797 - mask\n",
      "shuffling image 798 - img\n",
      "shuffling image 798 - mask\n",
      "shuffling image 799 - img\n",
      "shuffling image 799 - mask\n",
      "shuffling image 800 - img\n",
      "shuffling image 800 - mask\n",
      "shuffling image 801 - img\n",
      "shuffling image 801 - mask\n",
      "shuffling image 802 - img\n",
      "shuffling image 802 - mask\n",
      "shuffling image 803 - img\n",
      "shuffling image 803 - mask\n",
      "shuffling image 804 - img\n",
      "shuffling image 804 - mask\n",
      "shuffling image 805 - img\n",
      "shuffling image 805 - mask\n",
      "shuffling image 806 - img\n",
      "shuffling image 806 - mask\n",
      "shuffling image 807 - img\n",
      "shuffling image 807 - mask\n",
      "shuffling image 808 - img\n",
      "shuffling image 808 - mask\n",
      "shuffling image 809 - img\n",
      "shuffling image 809 - mask\n",
      "shuffling image 810 - img\n",
      "shuffling image 810 - mask\n",
      "shuffling image 811 - img\n",
      "shuffling image 811 - mask\n",
      "shuffling image 812 - img\n",
      "shuffling image 812 - mask\n",
      "shuffling image 813 - img\n",
      "shuffling image 813 - mask\n",
      "shuffling image 814 - img\n",
      "shuffling image 814 - mask\n",
      "shuffling image 815 - img\n",
      "shuffling image 815 - mask\n",
      "shuffling image 816 - img\n",
      "shuffling image 816 - mask\n",
      "shuffling image 817 - img\n",
      "shuffling image 817 - mask\n",
      "shuffling image 818 - img\n",
      "shuffling image 818 - mask\n",
      "shuffling image 819 - img\n",
      "shuffling image 819 - mask\n",
      "shuffling image 820 - img\n",
      "shuffling image 820 - mask\n",
      "shuffling image 821 - img\n",
      "shuffling image 821 - mask\n",
      "shuffling image 822 - img\n",
      "shuffling image 822 - mask\n",
      "shuffling image 823 - img\n",
      "shuffling image 823 - mask\n",
      "shuffling image 824 - img\n",
      "shuffling image 824 - mask\n",
      "shuffling image 825 - img\n",
      "shuffling image 825 - mask\n",
      "shuffling image 826 - img\n",
      "shuffling image 826 - mask\n",
      "shuffling image 827 - img\n",
      "shuffling image 827 - mask\n",
      "shuffling image 828 - img\n",
      "shuffling image 828 - mask\n",
      "shuffling image 829 - img\n",
      "shuffling image 829 - mask\n",
      "shuffling image 830 - img\n",
      "shuffling image 830 - mask\n",
      "shuffling image 831 - img\n",
      "shuffling image 831 - mask\n",
      "shuffling image 832 - img\n",
      "shuffling image 832 - mask\n",
      "shuffling image 833 - img\n",
      "shuffling image 833 - mask\n",
      "shuffling image 834 - img\n",
      "shuffling image 834 - mask\n",
      "shuffling image 835 - img\n",
      "shuffling image 835 - mask\n",
      "shuffling image 836 - img\n",
      "shuffling image 836 - mask\n",
      "shuffling image 837 - img\n",
      "shuffling image 837 - mask\n",
      "shuffling image 838 - img\n",
      "shuffling image 838 - mask\n",
      "shuffling image 839 - img\n",
      "shuffling image 839 - mask\n",
      "shuffling image 840 - img\n",
      "shuffling image 840 - mask\n",
      "shuffling image 841 - img\n",
      "shuffling image 841 - mask\n",
      "shuffling image 842 - img\n",
      "shuffling image 842 - mask\n",
      "shuffling image 843 - img\n",
      "shuffling image 843 - mask\n",
      "shuffling image 844 - img\n",
      "shuffling image 844 - mask\n",
      "shuffling image 845 - img\n",
      "shuffling image 845 - mask\n",
      "shuffling image 846 - img\n",
      "shuffling image 846 - mask\n",
      "shuffling image 847 - img\n",
      "shuffling image 847 - mask\n",
      "shuffling image 848 - img\n",
      "shuffling image 848 - mask\n",
      "shuffling image 849 - img\n",
      "shuffling image 849 - mask\n",
      "shuffling image 850 - img\n",
      "shuffling image 850 - mask\n",
      "shuffling image 851 - img\n",
      "shuffling image 851 - mask\n",
      "shuffling image 852 - img\n",
      "shuffling image 852 - mask\n",
      "shuffling image 853 - img\n",
      "shuffling image 853 - mask\n",
      "shuffling image 854 - img\n",
      "shuffling image 854 - mask\n",
      "shuffling image 855 - img\n",
      "shuffling image 855 - mask\n",
      "shuffling image 856 - img\n",
      "shuffling image 856 - mask\n",
      "shuffling image 857 - img\n",
      "shuffling image 857 - mask\n",
      "shuffling image 858 - img\n",
      "shuffling image 858 - mask\n",
      "shuffling image 859 - img\n",
      "shuffling image 859 - mask\n",
      "shuffling image 860 - img\n",
      "shuffling image 860 - mask\n",
      "shuffling image 861 - img\n",
      "shuffling image 861 - mask\n",
      "shuffling image 862 - img\n",
      "shuffling image 862 - mask\n",
      "shuffling image 863 - img\n",
      "shuffling image 863 - mask\n",
      "shuffling image 864 - img\n",
      "shuffling image 864 - mask\n",
      "shuffling image 865 - img\n",
      "shuffling image 865 - mask\n",
      "shuffling image 866 - img\n",
      "shuffling image 866 - mask\n",
      "shuffling image 867 - img\n",
      "shuffling image 867 - mask\n",
      "shuffling image 868 - img\n",
      "shuffling image 868 - mask\n",
      "shuffling image 869 - img\n",
      "shuffling image 869 - mask\n",
      "shuffling image 870 - img\n",
      "shuffling image 870 - mask\n",
      "shuffling image 871 - img\n",
      "shuffling image 871 - mask\n",
      "shuffling image 872 - img\n",
      "shuffling image 872 - mask\n",
      "shuffling image 873 - img\n",
      "shuffling image 873 - mask\n",
      "shuffling image 874 - img\n",
      "shuffling image 874 - mask\n",
      "shuffling image 875 - img\n",
      "shuffling image 875 - mask\n",
      "shuffling image 876 - img\n",
      "shuffling image 876 - mask\n",
      "shuffling image 877 - img\n",
      "shuffling image 877 - mask\n",
      "shuffling image 878 - img\n",
      "shuffling image 878 - mask\n",
      "shuffling image 879 - img\n",
      "shuffling image 879 - mask\n",
      "shuffling image 880 - img\n",
      "shuffling image 880 - mask\n",
      "shuffling image 881 - img\n",
      "shuffling image 881 - mask\n",
      "shuffling image 882 - img\n",
      "shuffling image 882 - mask\n",
      "shuffling image 883 - img\n",
      "shuffling image 883 - mask\n",
      "shuffling image 884 - img\n",
      "shuffling image 884 - mask\n",
      "shuffling image 885 - img\n",
      "shuffling image 885 - mask\n",
      "shuffling image 886 - img\n",
      "shuffling image 886 - mask\n",
      "shuffling image 887 - img\n",
      "shuffling image 887 - mask\n",
      "shuffling image 888 - img\n",
      "shuffling image 888 - mask\n",
      "shuffling image 889 - img\n",
      "shuffling image 889 - mask\n",
      "shuffling image 890 - img\n",
      "shuffling image 890 - mask\n",
      "shuffling image 891 - img\n",
      "shuffling image 891 - mask\n",
      "shuffling image 892 - img\n",
      "shuffling image 892 - mask\n",
      "shuffling image 893 - img\n",
      "shuffling image 893 - mask\n",
      "shuffling image 894 - img\n",
      "shuffling image 894 - mask\n",
      "shuffling image 895 - img\n",
      "shuffling image 895 - mask\n",
      "shuffling image 896 - img\n",
      "shuffling image 896 - mask\n",
      "shuffling image 897 - img\n",
      "shuffling image 897 - mask\n",
      "shuffling image 898 - img\n",
      "shuffling image 898 - mask\n",
      "shuffling image 899 - img\n",
      "shuffling image 899 - mask\n",
      "shuffling image 900 - img\n",
      "shuffling image 900 - mask\n",
      "shuffling image 901 - img\n",
      "shuffling image 901 - mask\n",
      "shuffling image 902 - img\n",
      "shuffling image 902 - mask\n",
      "shuffling image 903 - img\n",
      "shuffling image 903 - mask\n",
      "shuffling image 904 - img\n",
      "shuffling image 904 - mask\n",
      "shuffling image 905 - img\n",
      "shuffling image 905 - mask\n",
      "shuffling image 906 - img\n",
      "shuffling image 906 - mask\n",
      "shuffling image 907 - img\n",
      "shuffling image 907 - mask\n",
      "shuffling image 908 - img\n",
      "shuffling image 908 - mask\n",
      "shuffling image 909 - img\n",
      "shuffling image 909 - mask\n",
      "shuffling image 910 - img\n",
      "shuffling image 910 - mask\n",
      "shuffling image 911 - img\n",
      "shuffling image 911 - mask\n",
      "shuffling image 912 - img\n",
      "shuffling image 912 - mask\n",
      "shuffling image 913 - img\n",
      "shuffling image 913 - mask\n",
      "shuffling image 914 - img\n",
      "shuffling image 914 - mask\n",
      "shuffling image 915 - img\n",
      "shuffling image 915 - mask\n",
      "shuffling image 916 - img\n",
      "shuffling image 916 - mask\n",
      "shuffling image 917 - img\n",
      "shuffling image 917 - mask\n",
      "shuffling image 918 - img\n",
      "shuffling image 918 - mask\n",
      "shuffling image 919 - img\n",
      "shuffling image 919 - mask\n",
      "shuffling image 920 - img\n",
      "shuffling image 920 - mask\n",
      "shuffling image 921 - img\n",
      "shuffling image 921 - mask\n",
      "shuffling image 922 - img\n",
      "shuffling image 922 - mask\n",
      "shuffling image 923 - img\n",
      "shuffling image 923 - mask\n",
      "shuffling image 924 - img\n",
      "shuffling image 924 - mask\n",
      "shuffling image 925 - img\n",
      "shuffling image 925 - mask\n",
      "shuffling image 926 - img\n",
      "shuffling image 926 - mask\n",
      "shuffling image 927 - img\n",
      "shuffling image 927 - mask\n",
      "shuffling image 928 - img\n",
      "shuffling image 928 - mask\n",
      "shuffling image 929 - img\n",
      "shuffling image 929 - mask\n",
      "shuffling image 930 - img\n",
      "shuffling image 930 - mask\n",
      "shuffling image 931 - img\n",
      "shuffling image 931 - mask\n",
      "shuffling image 932 - img\n",
      "shuffling image 932 - mask\n",
      "shuffling image 933 - img\n"
     ]
    },
    {
     "name": "stdout",
     "output_type": "stream",
     "text": [
      "shuffling image 933 - mask\n",
      "shuffling image 934 - img\n",
      "shuffling image 934 - mask\n",
      "shuffling image 935 - img\n",
      "shuffling image 935 - mask\n",
      "shuffling image 936 - img\n",
      "shuffling image 936 - mask\n",
      "shuffling image 937 - img\n",
      "shuffling image 937 - mask\n",
      "shuffling image 938 - img\n",
      "shuffling image 938 - mask\n",
      "shuffling image 939 - img\n",
      "shuffling image 939 - mask\n",
      "shuffling image 940 - img\n",
      "shuffling image 940 - mask\n",
      "shuffling image 941 - img\n",
      "shuffling image 941 - mask\n",
      "shuffling image 942 - img\n",
      "shuffling image 942 - mask\n",
      "shuffling image 943 - img\n",
      "shuffling image 943 - mask\n",
      "shuffling image 944 - img\n",
      "shuffling image 944 - mask\n",
      "shuffling image 945 - img\n",
      "shuffling image 945 - mask\n",
      "shuffling image 946 - img\n",
      "shuffling image 946 - mask\n",
      "shuffling image 947 - img\n",
      "shuffling image 947 - mask\n",
      "shuffling image 948 - img\n",
      "shuffling image 948 - mask\n",
      "shuffling image 949 - img\n",
      "shuffling image 949 - mask\n",
      "shuffling image 950 - img\n",
      "shuffling image 950 - mask\n",
      "shuffling image 951 - img\n",
      "shuffling image 951 - mask\n",
      "shuffling image 952 - img\n",
      "shuffling image 952 - mask\n",
      "shuffling image 953 - img\n",
      "shuffling image 953 - mask\n",
      "shuffling image 954 - img\n",
      "shuffling image 954 - mask\n",
      "shuffling image 955 - img\n",
      "shuffling image 955 - mask\n",
      "shuffling image 956 - img\n",
      "shuffling image 956 - mask\n",
      "shuffling image 957 - img\n",
      "shuffling image 957 - mask\n",
      "shuffling image 958 - img\n",
      "shuffling image 958 - mask\n",
      "shuffling image 959 - img\n",
      "shuffling image 959 - mask\n",
      "shuffling image 960 - img\n",
      "shuffling image 960 - mask\n",
      "shuffling image 961 - img\n",
      "shuffling image 961 - mask\n",
      "shuffling image 962 - img\n",
      "shuffling image 962 - mask\n",
      "shuffling image 963 - img\n",
      "shuffling image 963 - mask\n",
      "shuffling image 964 - img\n",
      "shuffling image 964 - mask\n",
      "shuffling image 965 - img\n",
      "shuffling image 965 - mask\n",
      "shuffling image 966 - img\n",
      "shuffling image 966 - mask\n",
      "shuffling image 967 - img\n",
      "shuffling image 967 - mask\n",
      "shuffling image 968 - img\n",
      "shuffling image 968 - mask\n",
      "shuffling image 969 - img\n",
      "shuffling image 969 - mask\n",
      "shuffling image 970 - img\n",
      "shuffling image 970 - mask\n",
      "shuffling image 971 - img\n",
      "shuffling image 971 - mask\n",
      "shuffling image 972 - img\n",
      "shuffling image 972 - mask\n",
      "shuffling image 973 - img\n",
      "shuffling image 973 - mask\n",
      "shuffling image 974 - img\n",
      "shuffling image 974 - mask\n",
      "shuffling image 975 - img\n",
      "shuffling image 975 - mask\n",
      "shuffling image 976 - img\n",
      "shuffling image 976 - mask\n",
      "shuffling image 977 - img\n",
      "shuffling image 977 - mask\n",
      "shuffling image 978 - img\n",
      "shuffling image 978 - mask\n",
      "shuffling image 979 - img\n",
      "shuffling image 979 - mask\n",
      "shuffling image 980 - img\n",
      "shuffling image 980 - mask\n",
      "shuffling image 981 - img\n",
      "shuffling image 981 - mask\n",
      "shuffling image 982 - img\n",
      "shuffling image 982 - mask\n",
      "shuffling image 983 - img\n",
      "shuffling image 983 - mask\n",
      "shuffling image 984 - img\n",
      "shuffling image 984 - mask\n",
      "shuffling image 985 - img\n",
      "shuffling image 985 - mask\n",
      "shuffling image 986 - img\n",
      "shuffling image 986 - mask\n",
      "shuffling image 987 - img\n",
      "shuffling image 987 - mask\n",
      "shuffling image 988 - img\n",
      "shuffling image 988 - mask\n",
      "shuffling image 989 - img\n",
      "shuffling image 989 - mask\n",
      "shuffling image 990 - img\n",
      "shuffling image 990 - mask\n",
      "shuffling image 991 - img\n",
      "shuffling image 991 - mask\n",
      "shuffling image 992 - img\n",
      "shuffling image 992 - mask\n",
      "shuffling image 993 - img\n",
      "shuffling image 993 - mask\n",
      "shuffling image 994 - img\n",
      "shuffling image 994 - mask\n",
      "shuffling image 995 - img\n",
      "shuffling image 995 - mask\n",
      "shuffling image 996 - img\n",
      "shuffling image 996 - mask\n",
      "shuffling image 0 - img\n",
      "shuffling image 0 - mask\n",
      "shuffling image 1 - img\n",
      "shuffling image 1 - mask\n",
      "shuffling image 2 - img\n",
      "shuffling image 2 - mask\n",
      "shuffling image 3 - img\n",
      "shuffling image 3 - mask\n",
      "shuffling image 4 - img\n",
      "shuffling image 4 - mask\n",
      "shuffling image 5 - img\n",
      "shuffling image 5 - mask\n",
      "shuffling image 6 - img\n",
      "shuffling image 6 - mask\n",
      "shuffling image 7 - img\n",
      "shuffling image 7 - mask\n",
      "shuffling image 8 - img\n",
      "shuffling image 8 - mask\n",
      "shuffling image 9 - img\n",
      "shuffling image 9 - mask\n",
      "shuffling image 10 - img\n",
      "shuffling image 10 - mask\n",
      "shuffling image 11 - img\n",
      "shuffling image 11 - mask\n",
      "shuffling image 12 - img\n",
      "shuffling image 12 - mask\n",
      "shuffling image 13 - img\n",
      "shuffling image 13 - mask\n",
      "shuffling image 14 - img\n",
      "shuffling image 14 - mask\n",
      "shuffling image 15 - img\n",
      "shuffling image 15 - mask\n",
      "shuffling image 16 - img\n",
      "shuffling image 16 - mask\n",
      "shuffling image 17 - img\n",
      "shuffling image 17 - mask\n",
      "shuffling image 18 - img\n",
      "shuffling image 18 - mask\n",
      "shuffling image 19 - img\n",
      "shuffling image 19 - mask\n",
      "shuffling image 20 - img\n",
      "shuffling image 20 - mask\n",
      "shuffling image 21 - img\n",
      "shuffling image 21 - mask\n",
      "shuffling image 22 - img\n",
      "shuffling image 22 - mask\n",
      "shuffling image 23 - img\n",
      "shuffling image 23 - mask\n",
      "shuffling image 24 - img\n",
      "shuffling image 24 - mask\n",
      "shuffling image 25 - img\n",
      "shuffling image 25 - mask\n",
      "shuffling image 26 - img\n",
      "shuffling image 26 - mask\n",
      "shuffling image 27 - img\n",
      "shuffling image 27 - mask\n",
      "shuffling image 28 - img\n",
      "shuffling image 28 - mask\n",
      "shuffling image 29 - img\n",
      "shuffling image 29 - mask\n",
      "shuffling image 30 - img\n",
      "shuffling image 30 - mask\n",
      "shuffling image 31 - img\n",
      "shuffling image 31 - mask\n",
      "shuffling image 32 - img\n",
      "shuffling image 32 - mask\n",
      "shuffling image 33 - img\n",
      "shuffling image 33 - mask\n",
      "shuffling image 34 - img\n",
      "shuffling image 34 - mask\n",
      "shuffling image 35 - img\n",
      "shuffling image 35 - mask\n",
      "shuffling image 36 - img\n",
      "shuffling image 36 - mask\n",
      "shuffling image 37 - img\n",
      "shuffling image 37 - mask\n",
      "shuffling image 38 - img\n",
      "shuffling image 38 - mask\n",
      "shuffling image 39 - img\n",
      "shuffling image 39 - mask\n",
      "shuffling image 40 - img\n",
      "shuffling image 40 - mask\n",
      "shuffling image 41 - img\n",
      "shuffling image 41 - mask\n",
      "shuffling image 42 - img\n",
      "shuffling image 42 - mask\n",
      "shuffling image 43 - img\n",
      "shuffling image 43 - mask\n",
      "shuffling image 44 - img\n",
      "shuffling image 44 - mask\n",
      "shuffling image 45 - img\n",
      "shuffling image 45 - mask\n",
      "shuffling image 46 - img\n",
      "shuffling image 46 - mask\n",
      "shuffling image 47 - img\n",
      "shuffling image 47 - mask\n",
      "shuffling image 48 - img\n",
      "shuffling image 48 - mask\n",
      "shuffling image 49 - img\n",
      "shuffling image 49 - mask\n",
      "shuffling image 50 - img\n",
      "shuffling image 50 - mask\n",
      "shuffling image 51 - img\n",
      "shuffling image 51 - mask\n",
      "shuffling image 52 - img\n",
      "shuffling image 52 - mask\n",
      "shuffling image 53 - img\n",
      "shuffling image 53 - mask\n",
      "shuffling image 54 - img\n",
      "shuffling image 54 - mask\n",
      "shuffling image 55 - img\n",
      "shuffling image 55 - mask\n",
      "shuffling image 56 - img\n",
      "shuffling image 56 - mask\n",
      "shuffling image 57 - img\n",
      "shuffling image 57 - mask\n",
      "shuffling image 58 - img\n",
      "shuffling image 58 - mask\n",
      "shuffling image 59 - img\n",
      "shuffling image 59 - mask\n",
      "shuffling image 60 - img\n",
      "shuffling image 60 - mask\n",
      "shuffling image 61 - img\n",
      "shuffling image 61 - mask\n",
      "shuffling image 62 - img\n",
      "shuffling image 62 - mask\n",
      "shuffling image 63 - img\n",
      "shuffling image 63 - mask\n",
      "shuffling image 64 - img\n",
      "shuffling image 64 - mask\n",
      "shuffling image 65 - img\n",
      "shuffling image 65 - mask\n",
      "shuffling image 66 - img\n",
      "shuffling image 66 - mask\n",
      "shuffling image 67 - img\n",
      "shuffling image 67 - mask\n",
      "shuffling image 68 - img\n",
      "shuffling image 68 - mask\n",
      "shuffling image 69 - img\n",
      "shuffling image 69 - mask\n",
      "shuffling image 70 - img\n",
      "shuffling image 70 - mask\n",
      "shuffling image 71 - img\n",
      "shuffling image 71 - mask\n",
      "shuffling image 72 - img\n",
      "shuffling image 72 - mask\n",
      "shuffling image 73 - img\n",
      "shuffling image 73 - mask\n",
      "shuffling image 74 - img\n",
      "shuffling image 74 - mask\n",
      "shuffling image 75 - img\n",
      "shuffling image 75 - mask\n",
      "shuffling image 76 - img\n",
      "shuffling image 76 - mask\n",
      "shuffling image 77 - img\n",
      "shuffling image 77 - mask\n",
      "shuffling image 78 - img\n",
      "shuffling image 78 - mask\n",
      "shuffling image 79 - img\n",
      "shuffling image 79 - mask\n",
      "shuffling image 80 - img\n",
      "shuffling image 80 - mask\n",
      "shuffling image 81 - img\n",
      "shuffling image 81 - mask\n",
      "shuffling image 82 - img\n",
      "shuffling image 82 - mask\n",
      "shuffling image 83 - img\n",
      "shuffling image 83 - mask\n",
      "shuffling image 84 - img\n",
      "shuffling image 84 - mask\n",
      "shuffling image 85 - img\n",
      "shuffling image 85 - mask\n",
      "shuffling image 86 - img\n",
      "shuffling image 86 - mask\n",
      "shuffling image 87 - img\n",
      "shuffling image 87 - mask\n",
      "shuffling image 88 - img\n",
      "shuffling image 88 - mask\n",
      "shuffling image 89 - img\n",
      "shuffling image 89 - mask\n",
      "shuffling image 90 - img\n",
      "shuffling image 90 - mask\n",
      "shuffling image 91 - img\n",
      "shuffling image 91 - mask\n",
      "shuffling image 92 - img\n",
      "shuffling image 92 - mask\n",
      "shuffling image 93 - img\n",
      "shuffling image 93 - mask\n",
      "shuffling image 94 - img\n",
      "shuffling image 94 - mask\n",
      "shuffling image 95 - img\n"
     ]
    },
    {
     "name": "stdout",
     "output_type": "stream",
     "text": [
      "shuffling image 95 - mask\n",
      "shuffling image 96 - img\n",
      "shuffling image 96 - mask\n",
      "shuffling image 97 - img\n",
      "shuffling image 97 - mask\n",
      "shuffling image 98 - img\n",
      "shuffling image 98 - mask\n",
      "shuffling image 99 - img\n",
      "shuffling image 99 - mask\n",
      "shuffling image 100 - img\n",
      "shuffling image 100 - mask\n",
      "shuffling image 101 - img\n",
      "shuffling image 101 - mask\n",
      "shuffling image 102 - img\n",
      "shuffling image 102 - mask\n",
      "shuffling image 103 - img\n",
      "shuffling image 103 - mask\n",
      "shuffling image 104 - img\n",
      "shuffling image 104 - mask\n",
      "shuffling image 105 - img\n",
      "shuffling image 105 - mask\n",
      "shuffling image 106 - img\n",
      "shuffling image 106 - mask\n",
      "shuffling image 107 - img\n",
      "shuffling image 107 - mask\n",
      "shuffling image 108 - img\n",
      "shuffling image 108 - mask\n",
      "shuffling image 109 - img\n",
      "shuffling image 109 - mask\n",
      "shuffling image 110 - img\n",
      "shuffling image 110 - mask\n",
      "shuffling image 111 - img\n",
      "shuffling image 111 - mask\n",
      "shuffling image 112 - img\n",
      "shuffling image 112 - mask\n",
      "shuffling image 113 - img\n",
      "shuffling image 113 - mask\n",
      "shuffling image 114 - img\n",
      "shuffling image 114 - mask\n",
      "shuffling image 115 - img\n",
      "shuffling image 115 - mask\n",
      "shuffling image 116 - img\n",
      "shuffling image 116 - mask\n",
      "shuffling image 117 - img\n",
      "shuffling image 117 - mask\n",
      "shuffling image 118 - img\n",
      "shuffling image 118 - mask\n",
      "shuffling image 119 - img\n",
      "shuffling image 119 - mask\n",
      "shuffling image 120 - img\n",
      "shuffling image 120 - mask\n",
      "shuffling image 121 - img\n",
      "shuffling image 121 - mask\n",
      "shuffling image 122 - img\n",
      "shuffling image 122 - mask\n",
      "shuffling image 123 - img\n",
      "shuffling image 123 - mask\n",
      "shuffling image 124 - img\n",
      "shuffling image 124 - mask\n",
      "shuffling image 125 - img\n",
      "shuffling image 125 - mask\n",
      "shuffling image 126 - img\n",
      "shuffling image 126 - mask\n",
      "shuffling image 127 - img\n",
      "shuffling image 127 - mask\n",
      "shuffling image 128 - img\n",
      "shuffling image 128 - mask\n",
      "shuffling image 129 - img\n",
      "shuffling image 129 - mask\n",
      "shuffling image 130 - img\n",
      "shuffling image 130 - mask\n",
      "shuffling image 131 - img\n",
      "shuffling image 131 - mask\n",
      "shuffling image 132 - img\n",
      "shuffling image 132 - mask\n",
      "shuffling image 133 - img\n",
      "shuffling image 133 - mask\n",
      "shuffling image 134 - img\n",
      "shuffling image 134 - mask\n",
      "shuffling image 135 - img\n",
      "shuffling image 135 - mask\n",
      "shuffling image 136 - img\n",
      "shuffling image 136 - mask\n",
      "shuffling image 137 - img\n",
      "shuffling image 137 - mask\n",
      "shuffling image 138 - img\n",
      "shuffling image 138 - mask\n",
      "shuffling image 139 - img\n",
      "shuffling image 139 - mask\n",
      "shuffling image 140 - img\n",
      "shuffling image 140 - mask\n",
      "shuffling image 141 - img\n",
      "shuffling image 141 - mask\n",
      "shuffling image 142 - img\n",
      "shuffling image 142 - mask\n",
      "shuffling image 0 - img\n",
      "shuffling image 0 - mask\n",
      "shuffling image 1 - img\n",
      "shuffling image 1 - mask\n",
      "shuffling image 2 - img\n",
      "shuffling image 2 - mask\n",
      "shuffling image 3 - img\n",
      "shuffling image 3 - mask\n",
      "shuffling image 4 - img\n",
      "shuffling image 4 - mask\n",
      "shuffling image 5 - img\n",
      "shuffling image 5 - mask\n",
      "shuffling image 6 - img\n",
      "shuffling image 6 - mask\n",
      "shuffling image 7 - img\n",
      "shuffling image 7 - mask\n",
      "shuffling image 8 - img\n",
      "shuffling image 8 - mask\n",
      "shuffling image 9 - img\n",
      "shuffling image 9 - mask\n",
      "shuffling image 10 - img\n",
      "shuffling image 10 - mask\n",
      "shuffling image 11 - img\n",
      "shuffling image 11 - mask\n",
      "shuffling image 12 - img\n",
      "shuffling image 12 - mask\n",
      "shuffling image 13 - img\n",
      "shuffling image 13 - mask\n",
      "shuffling image 14 - img\n",
      "shuffling image 14 - mask\n",
      "shuffling image 15 - img\n",
      "shuffling image 15 - mask\n",
      "shuffling image 16 - img\n",
      "shuffling image 16 - mask\n",
      "shuffling image 17 - img\n",
      "shuffling image 17 - mask\n",
      "shuffling image 18 - img\n",
      "shuffling image 18 - mask\n",
      "shuffling image 19 - img\n",
      "shuffling image 19 - mask\n",
      "shuffling image 20 - img\n",
      "shuffling image 20 - mask\n",
      "shuffling image 21 - img\n",
      "shuffling image 21 - mask\n",
      "shuffling image 22 - img\n",
      "shuffling image 22 - mask\n",
      "shuffling image 23 - img\n",
      "shuffling image 23 - mask\n",
      "shuffling image 24 - img\n",
      "shuffling image 24 - mask\n",
      "shuffling image 25 - img\n",
      "shuffling image 25 - mask\n",
      "shuffling image 26 - img\n",
      "shuffling image 26 - mask\n",
      "shuffling image 27 - img\n",
      "shuffling image 27 - mask\n",
      "shuffling image 28 - img\n",
      "shuffling image 28 - mask\n",
      "shuffling image 29 - img\n",
      "shuffling image 29 - mask\n",
      "shuffling image 30 - img\n",
      "shuffling image 30 - mask\n",
      "shuffling image 31 - img\n",
      "shuffling image 31 - mask\n",
      "shuffling image 32 - img\n",
      "shuffling image 32 - mask\n",
      "shuffling image 33 - img\n",
      "shuffling image 33 - mask\n",
      "shuffling image 34 - img\n",
      "shuffling image 34 - mask\n",
      "shuffling image 35 - img\n",
      "shuffling image 35 - mask\n",
      "shuffling image 36 - img\n",
      "shuffling image 36 - mask\n",
      "shuffling image 37 - img\n",
      "shuffling image 37 - mask\n",
      "shuffling image 38 - img\n",
      "shuffling image 38 - mask\n",
      "shuffling image 39 - img\n",
      "shuffling image 39 - mask\n",
      "shuffling image 40 - img\n",
      "shuffling image 40 - mask\n",
      "shuffling image 41 - img\n",
      "shuffling image 41 - mask\n",
      "shuffling image 42 - img\n",
      "shuffling image 42 - mask\n",
      "shuffling image 43 - img\n",
      "shuffling image 43 - mask\n",
      "shuffling image 44 - img\n",
      "shuffling image 44 - mask\n",
      "shuffling image 45 - img\n",
      "shuffling image 45 - mask\n",
      "shuffling image 46 - img\n",
      "shuffling image 46 - mask\n",
      "shuffling image 47 - img\n",
      "shuffling image 47 - mask\n",
      "shuffling image 48 - img\n",
      "shuffling image 48 - mask\n",
      "shuffling image 49 - img\n",
      "shuffling image 49 - mask\n",
      "shuffling image 50 - img\n",
      "shuffling image 50 - mask\n",
      "shuffling image 51 - img\n",
      "shuffling image 51 - mask\n",
      "shuffling image 52 - img\n",
      "shuffling image 52 - mask\n",
      "shuffling image 53 - img\n",
      "shuffling image 53 - mask\n",
      "shuffling image 54 - img\n",
      "shuffling image 54 - mask\n",
      "shuffling image 55 - img\n",
      "shuffling image 55 - mask\n",
      "shuffling image 56 - img\n",
      "shuffling image 56 - mask\n",
      "shuffling image 57 - img\n",
      "shuffling image 57 - mask\n",
      "shuffling image 58 - img\n",
      "shuffling image 58 - mask\n",
      "shuffling image 59 - img\n",
      "shuffling image 59 - mask\n",
      "shuffling image 60 - img\n",
      "shuffling image 60 - mask\n",
      "shuffling image 61 - img\n",
      "shuffling image 61 - mask\n",
      "shuffling image 62 - img\n",
      "shuffling image 62 - mask\n",
      "shuffling image 63 - img\n",
      "shuffling image 63 - mask\n",
      "shuffling image 64 - img\n",
      "shuffling image 64 - mask\n",
      "shuffling image 65 - img\n",
      "shuffling image 65 - mask\n",
      "shuffling image 66 - img\n",
      "shuffling image 66 - mask\n",
      "shuffling image 67 - img\n",
      "shuffling image 67 - mask\n",
      "shuffling image 68 - img\n",
      "shuffling image 68 - mask\n",
      "shuffling image 69 - img\n",
      "shuffling image 69 - mask\n",
      "shuffling image 70 - img\n",
      "shuffling image 70 - mask\n",
      "shuffling image 71 - img\n",
      "shuffling image 71 - mask\n",
      "shuffling image 72 - img\n",
      "shuffling image 72 - mask\n",
      "shuffling image 73 - img\n",
      "shuffling image 73 - mask\n",
      "shuffling image 74 - img\n",
      "shuffling image 74 - mask\n",
      "shuffling image 75 - img\n",
      "shuffling image 75 - mask\n",
      "shuffling image 76 - img\n",
      "shuffling image 76 - mask\n",
      "shuffling image 77 - img\n",
      "shuffling image 77 - mask\n",
      "shuffling image 78 - img\n",
      "shuffling image 78 - mask\n",
      "shuffling image 79 - img\n",
      "shuffling image 79 - mask\n",
      "shuffling image 80 - img\n",
      "shuffling image 80 - mask\n",
      "shuffling image 81 - img\n",
      "shuffling image 81 - mask\n",
      "shuffling image 82 - img\n",
      "shuffling image 82 - mask\n",
      "shuffling image 83 - img\n",
      "shuffling image 83 - mask\n",
      "shuffling image 84 - img\n",
      "shuffling image 84 - mask\n",
      "shuffling image 85 - img\n",
      "shuffling image 85 - mask\n",
      "shuffling image 86 - img\n",
      "shuffling image 86 - mask\n",
      "shuffling image 87 - img\n",
      "shuffling image 87 - mask\n",
      "shuffling image 88 - img\n",
      "shuffling image 88 - mask\n",
      "shuffling image 89 - img\n",
      "shuffling image 89 - mask\n",
      "shuffling image 90 - img\n",
      "shuffling image 90 - mask\n",
      "shuffling image 91 - img\n",
      "shuffling image 91 - mask\n",
      "shuffling image 92 - img\n",
      "shuffling image 92 - mask\n",
      "shuffling image 93 - img\n",
      "shuffling image 93 - mask\n",
      "shuffling image 94 - img\n",
      "shuffling image 94 - mask\n",
      "shuffling image 95 - img\n",
      "shuffling image 95 - mask\n",
      "shuffling image 96 - img\n",
      "shuffling image 96 - mask\n",
      "shuffling image 97 - img\n",
      "shuffling image 97 - mask\n",
      "shuffling image 98 - img\n",
      "shuffling image 98 - mask\n",
      "shuffling image 99 - img\n",
      "shuffling image 99 - mask\n",
      "shuffling image 100 - img\n",
      "shuffling image 100 - mask\n",
      "shuffling image 101 - img\n",
      "shuffling image 101 - mask\n",
      "shuffling image 102 - img\n",
      "shuffling image 102 - mask\n",
      "shuffling image 103 - img\n",
      "shuffling image 103 - mask\n",
      "shuffling image 104 - img\n",
      "shuffling image 104 - mask\n",
      "shuffling image 105 - img\n",
      "shuffling image 105 - mask\n",
      "shuffling image 106 - img\n",
      "shuffling image 106 - mask\n",
      "shuffling image 107 - img\n",
      "shuffling image 107 - mask\n",
      "shuffling image 108 - img\n",
      "shuffling image 108 - mask\n",
      "shuffling image 109 - img\n",
      "shuffling image 109 - mask\n",
      "shuffling image 110 - img\n",
      "shuffling image 110 - mask\n",
      "shuffling image 111 - img\n"
     ]
    },
    {
     "name": "stdout",
     "output_type": "stream",
     "text": [
      "shuffling image 111 - mask\n",
      "shuffling image 112 - img\n",
      "shuffling image 112 - mask\n",
      "shuffling image 113 - img\n",
      "shuffling image 113 - mask\n",
      "shuffling image 114 - img\n",
      "shuffling image 114 - mask\n",
      "shuffling image 115 - img\n",
      "shuffling image 115 - mask\n",
      "shuffling image 116 - img\n",
      "shuffling image 116 - mask\n",
      "shuffling image 117 - img\n",
      "shuffling image 117 - mask\n",
      "shuffling image 118 - img\n",
      "shuffling image 118 - mask\n",
      "shuffling image 119 - img\n",
      "shuffling image 119 - mask\n",
      "shuffling image 120 - img\n",
      "shuffling image 120 - mask\n",
      "shuffling image 121 - img\n",
      "shuffling image 121 - mask\n",
      "shuffling image 122 - img\n",
      "shuffling image 122 - mask\n",
      "shuffling image 123 - img\n",
      "shuffling image 123 - mask\n",
      "shuffling image 124 - img\n",
      "shuffling image 124 - mask\n",
      "shuffling image 125 - img\n",
      "shuffling image 125 - mask\n",
      "shuffling image 126 - img\n",
      "shuffling image 126 - mask\n",
      "shuffling image 127 - img\n",
      "shuffling image 127 - mask\n",
      "shuffling image 128 - img\n",
      "shuffling image 128 - mask\n",
      "shuffling image 129 - img\n",
      "shuffling image 129 - mask\n",
      "shuffling image 130 - img\n",
      "shuffling image 130 - mask\n",
      "shuffling image 131 - img\n",
      "shuffling image 131 - mask\n",
      "shuffling image 132 - img\n",
      "shuffling image 132 - mask\n",
      "shuffling image 133 - img\n",
      "shuffling image 133 - mask\n",
      "shuffling image 134 - img\n",
      "shuffling image 134 - mask\n",
      "shuffling image 135 - img\n",
      "shuffling image 135 - mask\n",
      "shuffling image 136 - img\n",
      "shuffling image 136 - mask\n",
      "shuffling image 137 - img\n",
      "shuffling image 137 - mask\n",
      "shuffling image 138 - img\n",
      "shuffling image 138 - mask\n",
      "shuffling image 139 - img\n",
      "shuffling image 139 - mask\n",
      "shuffling image 140 - img\n",
      "shuffling image 140 - mask\n",
      "shuffling image 141 - img\n",
      "shuffling image 141 - mask\n",
      "shuffling image 142 - img\n",
      "shuffling image 142 - mask\n",
      "shuffling image 143 - img\n",
      "shuffling image 143 - mask\n",
      "shuffling image 144 - img\n",
      "shuffling image 144 - mask\n",
      "shuffling image 145 - img\n",
      "shuffling image 145 - mask\n",
      "shuffling image 146 - img\n",
      "shuffling image 146 - mask\n",
      "shuffling image 147 - img\n",
      "shuffling image 147 - mask\n",
      "shuffling image 148 - img\n",
      "shuffling image 148 - mask\n",
      "shuffling image 149 - img\n",
      "shuffling image 149 - mask\n",
      "shuffling image 150 - img\n",
      "shuffling image 150 - mask\n",
      "shuffling image 151 - img\n",
      "shuffling image 151 - mask\n",
      "shuffling image 152 - img\n",
      "shuffling image 152 - mask\n",
      "shuffling image 153 - img\n",
      "shuffling image 153 - mask\n",
      "shuffling image 154 - img\n",
      "shuffling image 154 - mask\n",
      "shuffling image 155 - img\n",
      "shuffling image 155 - mask\n",
      "shuffling image 156 - img\n",
      "shuffling image 156 - mask\n",
      "shuffling image 157 - img\n",
      "shuffling image 157 - mask\n",
      "shuffling image 158 - img\n",
      "shuffling image 158 - mask\n",
      "shuffling image 159 - img\n",
      "shuffling image 159 - mask\n",
      "shuffling image 160 - img\n",
      "shuffling image 160 - mask\n",
      "shuffling image 161 - img\n",
      "shuffling image 161 - mask\n",
      "shuffling image 162 - img\n",
      "shuffling image 162 - mask\n",
      "shuffling image 163 - img\n",
      "shuffling image 163 - mask\n",
      "shuffling image 164 - img\n",
      "shuffling image 164 - mask\n",
      "shuffling image 165 - img\n",
      "shuffling image 165 - mask\n",
      "shuffling image 166 - img\n",
      "shuffling image 166 - mask\n",
      "shuffling image 167 - img\n",
      "shuffling image 167 - mask\n",
      "shuffling image 168 - img\n",
      "shuffling image 168 - mask\n",
      "shuffling image 169 - img\n",
      "shuffling image 169 - mask\n",
      "shuffling image 170 - img\n",
      "shuffling image 170 - mask\n",
      "shuffling image 171 - img\n",
      "shuffling image 171 - mask\n",
      "shuffling image 172 - img\n",
      "shuffling image 172 - mask\n",
      "shuffling image 173 - img\n",
      "shuffling image 173 - mask\n",
      "shuffling image 174 - img\n",
      "shuffling image 174 - mask\n",
      "shuffling image 175 - img\n",
      "shuffling image 175 - mask\n",
      "shuffling image 176 - img\n",
      "shuffling image 176 - mask\n",
      "shuffling image 177 - img\n",
      "shuffling image 177 - mask\n",
      "shuffling image 178 - img\n",
      "shuffling image 178 - mask\n",
      "shuffling image 179 - img\n",
      "shuffling image 179 - mask\n",
      "shuffling image 180 - img\n",
      "shuffling image 180 - mask\n",
      "shuffling image 181 - img\n",
      "shuffling image 181 - mask\n",
      "shuffling image 182 - img\n",
      "shuffling image 182 - mask\n",
      "shuffling image 183 - img\n",
      "shuffling image 183 - mask\n",
      "shuffling image 184 - img\n",
      "shuffling image 184 - mask\n",
      "shuffling image 185 - img\n",
      "shuffling image 185 - mask\n",
      "shuffling image 186 - img\n",
      "shuffling image 186 - mask\n",
      "shuffling image 187 - img\n",
      "shuffling image 187 - mask\n",
      "shuffling image 188 - img\n",
      "shuffling image 188 - mask\n",
      "shuffling image 189 - img\n",
      "shuffling image 189 - mask\n",
      "shuffling image 190 - img\n",
      "shuffling image 190 - mask\n",
      "shuffling image 191 - img\n",
      "shuffling image 191 - mask\n",
      "shuffling image 192 - img\n",
      "shuffling image 192 - mask\n",
      "shuffling image 193 - img\n",
      "shuffling image 193 - mask\n",
      "shuffling image 194 - img\n",
      "shuffling image 194 - mask\n",
      "shuffling image 195 - img\n",
      "shuffling image 195 - mask\n",
      "shuffling image 196 - img\n",
      "shuffling image 196 - mask\n",
      "shuffling image 197 - img\n",
      "shuffling image 197 - mask\n",
      "shuffling image 198 - img\n",
      "shuffling image 198 - mask\n",
      "shuffling image 199 - img\n",
      "shuffling image 199 - mask\n",
      "shuffling image 200 - img\n",
      "shuffling image 200 - mask\n",
      "shuffling image 201 - img\n",
      "shuffling image 201 - mask\n",
      "shuffling image 202 - img\n",
      "shuffling image 202 - mask\n",
      "shuffling image 203 - img\n",
      "shuffling image 203 - mask\n",
      "shuffling image 204 - img\n",
      "shuffling image 204 - mask\n",
      "shuffling image 205 - img\n",
      "shuffling image 205 - mask\n",
      "shuffling image 206 - img\n",
      "shuffling image 206 - mask\n",
      "shuffling image 207 - img\n",
      "shuffling image 207 - mask\n",
      "shuffling image 208 - img\n",
      "shuffling image 208 - mask\n",
      "shuffling image 209 - img\n",
      "shuffling image 209 - mask\n",
      "shuffling image 210 - img\n",
      "shuffling image 210 - mask\n",
      "shuffling image 211 - img\n",
      "shuffling image 211 - mask\n",
      "shuffling image 212 - img\n",
      "shuffling image 212 - mask\n",
      "shuffling image 213 - img\n",
      "shuffling image 213 - mask\n",
      "shuffling image 214 - img\n",
      "shuffling image 214 - mask\n",
      "shuffling image 215 - img\n",
      "shuffling image 215 - mask\n",
      "shuffling image 216 - img\n",
      "shuffling image 216 - mask\n",
      "shuffling image 217 - img\n",
      "shuffling image 217 - mask\n",
      "shuffling image 218 - img\n",
      "shuffling image 218 - mask\n",
      "shuffling image 219 - img\n",
      "shuffling image 219 - mask\n",
      "shuffling image 220 - img\n",
      "shuffling image 220 - mask\n",
      "shuffling image 221 - img\n",
      "shuffling image 221 - mask\n",
      "shuffling image 222 - img\n",
      "shuffling image 222 - mask\n",
      "shuffling image 223 - img\n",
      "shuffling image 223 - mask\n",
      "shuffling image 224 - img\n",
      "shuffling image 224 - mask\n",
      "shuffling image 225 - img\n",
      "shuffling image 225 - mask\n",
      "shuffling image 226 - img\n",
      "shuffling image 226 - mask\n",
      "shuffling image 227 - img\n",
      "shuffling image 227 - mask\n",
      "shuffling image 228 - img\n",
      "shuffling image 228 - mask\n",
      "shuffling image 229 - img\n",
      "shuffling image 229 - mask\n",
      "shuffling image 230 - img\n",
      "shuffling image 230 - mask\n",
      "shuffling image 231 - img\n",
      "shuffling image 231 - mask\n",
      "shuffling image 232 - img\n",
      "shuffling image 232 - mask\n",
      "shuffling image 233 - img\n",
      "shuffling image 233 - mask\n",
      "shuffling image 234 - img\n",
      "shuffling image 234 - mask\n",
      "shuffling image 235 - img\n",
      "shuffling image 235 - mask\n",
      "shuffling image 236 - img\n",
      "shuffling image 236 - mask\n",
      "shuffling image 237 - img\n",
      "shuffling image 237 - mask\n",
      "shuffling image 238 - img\n",
      "shuffling image 238 - mask\n",
      "shuffling image 239 - img\n",
      "shuffling image 239 - mask\n",
      "shuffling image 240 - img\n",
      "shuffling image 240 - mask\n",
      "shuffling image 241 - img\n",
      "shuffling image 241 - mask\n",
      "shuffling image 242 - img\n",
      "shuffling image 242 - mask\n",
      "shuffling image 243 - img\n",
      "shuffling image 243 - mask\n",
      "shuffling image 244 - img\n",
      "shuffling image 244 - mask\n",
      "shuffling image 245 - img\n",
      "shuffling image 245 - mask\n",
      "shuffling image 246 - img\n",
      "shuffling image 246 - mask\n",
      "shuffling image 247 - img\n",
      "shuffling image 247 - mask\n",
      "shuffling image 248 - img\n",
      "shuffling image 248 - mask\n",
      "shuffling image 249 - img\n",
      "shuffling image 249 - mask\n",
      "shuffling image 250 - img\n",
      "shuffling image 250 - mask\n",
      "shuffling image 251 - img\n",
      "shuffling image 251 - mask\n",
      "shuffling image 252 - img\n",
      "shuffling image 252 - mask\n",
      "shuffling image 253 - img\n",
      "shuffling image 253 - mask\n",
      "shuffling image 254 - img\n",
      "shuffling image 254 - mask\n",
      "shuffling image 255 - img\n",
      "shuffling image 255 - mask\n",
      "shuffling image 256 - img\n",
      "shuffling image 256 - mask\n",
      "shuffling image 257 - img\n",
      "shuffling image 257 - mask\n",
      "shuffling image 258 - img\n",
      "shuffling image 258 - mask\n",
      "shuffling image 259 - img\n",
      "shuffling image 259 - mask\n",
      "shuffling image 260 - img\n",
      "shuffling image 260 - mask\n",
      "shuffling image 261 - img\n",
      "shuffling image 261 - mask\n",
      "shuffling image 262 - img\n",
      "shuffling image 262 - mask\n",
      "shuffling image 263 - img\n",
      "shuffling image 263 - mask\n",
      "shuffling image 264 - img\n",
      "shuffling image 264 - mask\n",
      "shuffling image 265 - img\n",
      "shuffling image 265 - mask\n",
      "shuffling image 266 - img\n"
     ]
    },
    {
     "name": "stdout",
     "output_type": "stream",
     "text": [
      "shuffling image 266 - mask\n",
      "shuffling image 267 - img\n",
      "shuffling image 267 - mask\n",
      "shuffling image 268 - img\n",
      "shuffling image 268 - mask\n",
      "shuffling image 269 - img\n",
      "shuffling image 269 - mask\n",
      "shuffling image 270 - img\n",
      "shuffling image 270 - mask\n",
      "shuffling image 271 - img\n",
      "shuffling image 271 - mask\n",
      "shuffling image 272 - img\n",
      "shuffling image 272 - mask\n",
      "shuffling image 273 - img\n",
      "shuffling image 273 - mask\n",
      "shuffling image 274 - img\n",
      "shuffling image 274 - mask\n",
      "shuffling image 275 - img\n",
      "shuffling image 275 - mask\n",
      "shuffling image 276 - img\n",
      "shuffling image 276 - mask\n",
      "shuffling image 277 - img\n",
      "shuffling image 277 - mask\n",
      "shuffling image 278 - img\n",
      "shuffling image 278 - mask\n",
      "shuffling image 279 - img\n",
      "shuffling image 279 - mask\n",
      "shuffling image 280 - img\n",
      "shuffling image 280 - mask\n",
      "shuffling image 281 - img\n",
      "shuffling image 281 - mask\n",
      "shuffling image 282 - img\n",
      "shuffling image 282 - mask\n",
      "shuffling image 283 - img\n",
      "shuffling image 283 - mask\n",
      "shuffling image 284 - img\n",
      "shuffling image 284 - mask\n"
     ]
    }
   ],
   "source": [
    "from addict import Dict\n",
    "import geopandas as gpd\n",
    "import numpy as np\n",
    "import rasterio\n",
    "import glacier_mapping.data.process_slices_funs as pf\n",
    "\n",
    "output_dir = pathlib.Path(\"/mnt/blobfuse/glaciers/processed\")\n",
    "pconf = Dict(yaml.safe_load(open(\"/mnt/blobfuse/glaciers/conf/postprocess.yaml\", \"r\")))\n",
    "slice_meta = gpd.read_file(pathlib.Path(\"/mnt/blobfuse/glaciers/processed\", \"slices\", \"slices.geojson\"))\n",
    "\n",
    "# filter all the slices to the ones that matter\n",
    "print(\"filtering\")\n",
    "keep_ids = pf.filter_directory(\n",
    "    slice_meta,\n",
    "    filter_perc=pconf.filter_percentage,\n",
    "    filter_channel=pconf.filter_channel,\n",
    ")\n",
    "\n",
    "# validation: get ids for the ones that will be training vs. testing.\n",
    "print(\"reshuffling\")\n",
    "split_fun = getattr(pf, pconf.split_method)\n",
    "split_ids = split_fun(keep_ids, pconf.split_ratio, slice_meta=slice_meta)\n",
    "target_locs = pf.reshuffle(split_ids, output_dir)"
   ]
  },
  {
   "cell_type": "code",
   "execution_count": 21,
   "metadata": {
    "collapsed": true
   },
   "outputs": [
    {
     "name": "stdout",
     "output_type": "stream",
     "text": [
      "getting stats\n",
      "postprocessing train...\n",
      "postprocessing dev...\n",
      "postprocessing test...\n"
     ]
    }
   ],
   "source": [
    "# global statistics: get the means and variances in the train split\n",
    "import os\n",
    "\n",
    "print(\"getting stats\")\n",
    "data_dir = pathlib.Path(\"/mnt/blobfuse/glaciers\")\n",
    "processed_dir = data_dir / \"processed\"\n",
    "pconf.process_funs.normalize.stats_path = processed_dir / \\\n",
    "    pathlib.Path(pconf.process_funs.normalize.stats_path)\n",
    "\n",
    "stats = pf.generate_stats(\n",
    "    [p[\"img\"] for p in target_locs[\"train\"]],\n",
    "    pconf.normalization_sample_size,\n",
    "    pconf.process_funs.normalize.stats_path,\n",
    ")\n",
    "\n",
    "# make new dirs\n",
    "for split_type in target_locs:\n",
    "    new_path = target_locs[split_type][0][\"img\"].parent.parent\n",
    "    os.makedirs(new_path / f'{split_type}_main')\n",
    "# postprocess individual images (all the splits)\n",
    "for split_type in target_locs:\n",
    "    print(f\"postprocessing {split_type}...\")\n",
    "    for i in range(len(target_locs[split_type])):\n",
    "        img, mask = pf.postprocess(\n",
    "            target_locs[split_type][i][\"img\"],\n",
    "            target_locs[split_type][i][\"mask\"],\n",
    "            pconf.process_funs,\n",
    "        )\n",
    "        \n",
    "        new_img_loc = str(target_locs[split_type][i][\"img\"]).replace(split_type, f'{split_type}_main')\n",
    "        new_mask_loc = str(target_locs[split_type][i][\"mask\"]).replace(split_type, f'{split_type}_main')\n",
    "        np.save(pathlib.Path(new_img_loc), img)\n",
    "        np.save(pathlib.Path(new_mask_loc), mask)\n"
   ]
  },
  {
   "cell_type": "code",
   "execution_count": 22,
   "metadata": {},
   "outputs": [],
   "source": [
    "# save tragetlocs to use later\n",
    "import pickle\n",
    "\n",
    "with open('/mnt/blobfuse/glaciers/processed/target_locs.pkl', 'wb') as f:\n",
    "        pickle.dump(target_locs, f, pickle.HIGHEST_PROTOCOL)"
   ]
  },
  {
   "cell_type": "code",
   "execution_count": 23,
   "metadata": {
    "collapsed": true
   },
   "outputs": [
    {
     "data": {
      "text/plain": [
       "array([[<AxesSubplot:>, <AxesSubplot:>],\n",
       "       [<AxesSubplot:>, <AxesSubplot:>],\n",
       "       [<AxesSubplot:>, <AxesSubplot:>],\n",
       "       [<AxesSubplot:>, <AxesSubplot:>],\n",
       "       [<AxesSubplot:>, <AxesSubplot:>]], dtype=object)"
      ]
     },
     "execution_count": 23,
     "metadata": {},
     "output_type": "execute_result"
    },
    {
     "data": {
      "image/png": "[encoded data removed]",
      "text/plain": [
       "<Figure size 1080x1080 with 10 Axes>"
      ]
     },
     "metadata": {
      "needs_background": "light"
     },
     "output_type": "display_data"
    }
   ],
   "source": [
    "from glacier_mapping.data.slice import plot_slices\n",
    "output_dir = pathlib.Path(\"/mnt/blobfuse/glaciers/processed\")\n",
    "plot_slices(output_dir / \"train_main\", processed=True, n_cols=2, div=1)"
   ]
  },
  {
   "cell_type": "markdown",
   "metadata": {},
   "source": [
    "## train"
   ]
  },
  {
   "cell_type": "code",
   "execution_count": 20,
   "metadata": {
    "collapsed": true
   },
   "outputs": [
    {
     "name": "stdout",
     "output_type": "stream",
     "text": [
      "0/201 | train: 1.9281169370997513 | val: 1.313737855924593\n",
      "1/201 | train: 0.8997715516697798 | val: 0.5508634927389505\n",
      "2/201 | train: 0.37269788281011246 | val: 0.23388278234255064\n",
      "3/201 | train: 0.16845300850442563 | val: 0.11560447482795982\n",
      "4/201 | train: 0.0872504193421711 | val: 0.06659131283526654\n",
      "5/201 | train: 0.0560228353517584 | val: 0.04629237376726591\n"
     ]
    },
    {
     "ename": "KeyboardInterrupt",
     "evalue": "",
     "output_type": "error",
     "traceback": [
      "\u001b[0;31m---------------------------------------------------------------------------\u001b[0m",
      "\u001b[0;31mKeyboardInterrupt\u001b[0m                         Traceback (most recent call last)",
      "\u001b[0;32m<ipython-input-20-3f45590671ab>\u001b[0m in \u001b[0;36m<module>\u001b[0;34m\u001b[0m\n\u001b[1;32m     37\u001b[0m     \u001b[0;31m# train loop\u001b[0m\u001b[0;34m\u001b[0m\u001b[0;34m\u001b[0m\u001b[0;34m\u001b[0m\u001b[0m\n\u001b[1;32m     38\u001b[0m     \u001b[0mloss_d\u001b[0m \u001b[0;34m=\u001b[0m \u001b[0;34m{\u001b[0m\u001b[0;34m}\u001b[0m\u001b[0;34m\u001b[0m\u001b[0;34m\u001b[0m\u001b[0m\n\u001b[0;32m---> 39\u001b[0;31m     \u001b[0mloss_d\u001b[0m\u001b[0;34m[\u001b[0m\u001b[0;34m\"train\"\u001b[0m\u001b[0;34m]\u001b[0m\u001b[0;34m,\u001b[0m \u001b[0mmetrics\u001b[0m \u001b[0;34m=\u001b[0m \u001b[0mtr\u001b[0m\u001b[0;34m.\u001b[0m\u001b[0mtrain_epoch\u001b[0m\u001b[0;34m(\u001b[0m\u001b[0mloaders\u001b[0m\u001b[0;34m[\u001b[0m\u001b[0;34m\"train\"\u001b[0m\u001b[0;34m]\u001b[0m\u001b[0;34m,\u001b[0m \u001b[0mframe\u001b[0m\u001b[0;34m,\u001b[0m \u001b[0mconf\u001b[0m\u001b[0;34m.\u001b[0m\u001b[0mmetrics_opts\u001b[0m\u001b[0;34m)\u001b[0m\u001b[0;34m\u001b[0m\u001b[0;34m\u001b[0m\u001b[0m\n\u001b[0m\u001b[1;32m     40\u001b[0m     \u001b[0mtr\u001b[0m\u001b[0;34m.\u001b[0m\u001b[0mlog_metrics\u001b[0m\u001b[0;34m(\u001b[0m\u001b[0mwriter\u001b[0m\u001b[0;34m,\u001b[0m \u001b[0mmetrics\u001b[0m\u001b[0;34m,\u001b[0m \u001b[0mloss_d\u001b[0m\u001b[0;34m[\u001b[0m\u001b[0;34m\"train\"\u001b[0m\u001b[0;34m]\u001b[0m\u001b[0;34m,\u001b[0m \u001b[0mepoch\u001b[0m\u001b[0;34m)\u001b[0m\u001b[0;34m\u001b[0m\u001b[0;34m\u001b[0m\u001b[0m\n\u001b[1;32m     41\u001b[0m     \u001b[0mtr\u001b[0m\u001b[0;34m.\u001b[0m\u001b[0mlog_images\u001b[0m\u001b[0;34m(\u001b[0m\u001b[0mwriter\u001b[0m\u001b[0;34m,\u001b[0m \u001b[0mframe\u001b[0m\u001b[0;34m,\u001b[0m \u001b[0mnext\u001b[0m\u001b[0;34m(\u001b[0m\u001b[0miter\u001b[0m\u001b[0;34m(\u001b[0m\u001b[0mloaders\u001b[0m\u001b[0;34m[\u001b[0m\u001b[0;34m\"train\"\u001b[0m\u001b[0;34m]\u001b[0m\u001b[0;34m)\u001b[0m\u001b[0;34m)\u001b[0m\u001b[0;34m,\u001b[0m \u001b[0mepoch\u001b[0m\u001b[0;34m)\u001b[0m\u001b[0;34m\u001b[0m\u001b[0;34m\u001b[0m\u001b[0m\n",
      "\u001b[0;32m~/envs/glaciers_env/lib/python3.6/site-packages/glacier_mapping/train.py\u001b[0m in \u001b[0;36mtrain_epoch\u001b[0;34m(loader, frame, metrics_opts)\u001b[0m\n\u001b[1;32m     42\u001b[0m     \u001b[0mloss\u001b[0m\u001b[0;34m,\u001b[0m \u001b[0mmetrics\u001b[0m \u001b[0;34m=\u001b[0m \u001b[0;36m0\u001b[0m\u001b[0;34m,\u001b[0m \u001b[0;34m[\u001b[0m\u001b[0;34m]\u001b[0m\u001b[0;34m\u001b[0m\u001b[0;34m\u001b[0m\u001b[0m\n\u001b[1;32m     43\u001b[0m     \u001b[0;32mfor\u001b[0m \u001b[0mx\u001b[0m\u001b[0;34m,\u001b[0m \u001b[0my\u001b[0m \u001b[0;32min\u001b[0m \u001b[0mloader\u001b[0m\u001b[0;34m:\u001b[0m\u001b[0;34m\u001b[0m\u001b[0;34m\u001b[0m\u001b[0m\n\u001b[0;32m---> 44\u001b[0;31m         \u001b[0my_hat\u001b[0m\u001b[0;34m,\u001b[0m \u001b[0m_loss\u001b[0m \u001b[0;34m=\u001b[0m \u001b[0mframe\u001b[0m\u001b[0;34m.\u001b[0m\u001b[0moptimize\u001b[0m\u001b[0;34m(\u001b[0m\u001b[0mx\u001b[0m\u001b[0;34m,\u001b[0m \u001b[0my\u001b[0m\u001b[0;34m)\u001b[0m\u001b[0;34m\u001b[0m\u001b[0;34m\u001b[0m\u001b[0m\n\u001b[0m\u001b[1;32m     45\u001b[0m         \u001b[0mloss\u001b[0m \u001b[0;34m+=\u001b[0m \u001b[0m_loss\u001b[0m\u001b[0;34m\u001b[0m\u001b[0;34m\u001b[0m\u001b[0m\n\u001b[1;32m     46\u001b[0m \u001b[0;34m\u001b[0m\u001b[0m\n",
      "\u001b[0;32m~/envs/glaciers_env/lib/python3.6/site-packages/glacier_mapping/models/frame.py\u001b[0m in \u001b[0;36moptimize\u001b[0;34m(self, x, y)\u001b[0m\n\u001b[1;32m     63\u001b[0m         \u001b[0my_hat\u001b[0m \u001b[0;34m=\u001b[0m \u001b[0mself\u001b[0m\u001b[0;34m.\u001b[0m\u001b[0mmodel\u001b[0m\u001b[0;34m(\u001b[0m\u001b[0mx\u001b[0m\u001b[0;34m)\u001b[0m\u001b[0;34m\u001b[0m\u001b[0;34m\u001b[0m\u001b[0m\n\u001b[1;32m     64\u001b[0m         \u001b[0mloss\u001b[0m \u001b[0;34m=\u001b[0m \u001b[0mself\u001b[0m\u001b[0;34m.\u001b[0m\u001b[0mcalc_loss\u001b[0m\u001b[0;34m(\u001b[0m\u001b[0my_hat\u001b[0m\u001b[0;34m,\u001b[0m \u001b[0my\u001b[0m\u001b[0;34m)\u001b[0m\u001b[0;34m\u001b[0m\u001b[0;34m\u001b[0m\u001b[0m\n\u001b[0;32m---> 65\u001b[0;31m         \u001b[0mloss\u001b[0m\u001b[0;34m.\u001b[0m\u001b[0mbackward\u001b[0m\u001b[0;34m(\u001b[0m\u001b[0;34m)\u001b[0m\u001b[0;34m\u001b[0m\u001b[0;34m\u001b[0m\u001b[0m\n\u001b[0m\u001b[1;32m     66\u001b[0m         \u001b[0mself\u001b[0m\u001b[0;34m.\u001b[0m\u001b[0moptimizer\u001b[0m\u001b[0;34m.\u001b[0m\u001b[0mstep\u001b[0m\u001b[0;34m(\u001b[0m\u001b[0;34m)\u001b[0m\u001b[0;34m\u001b[0m\u001b[0;34m\u001b[0m\u001b[0m\n\u001b[1;32m     67\u001b[0m         \u001b[0;32mreturn\u001b[0m \u001b[0my_hat\u001b[0m\u001b[0;34m.\u001b[0m\u001b[0mpermute\u001b[0m\u001b[0;34m(\u001b[0m\u001b[0;36m0\u001b[0m\u001b[0;34m,\u001b[0m \u001b[0;36m2\u001b[0m\u001b[0;34m,\u001b[0m \u001b[0;36m3\u001b[0m\u001b[0;34m,\u001b[0m \u001b[0;36m1\u001b[0m\u001b[0;34m)\u001b[0m\u001b[0;34m,\u001b[0m \u001b[0mloss\u001b[0m\u001b[0;34m.\u001b[0m\u001b[0mitem\u001b[0m\u001b[0;34m(\u001b[0m\u001b[0;34m)\u001b[0m\u001b[0;34m\u001b[0m\u001b[0;34m\u001b[0m\u001b[0m\n",
      "\u001b[0;32m~/envs/glaciers_env/lib/python3.6/site-packages/torch/tensor.py\u001b[0m in \u001b[0;36mbackward\u001b[0;34m(self, gradient, retain_graph, create_graph)\u001b[0m\n\u001b[1;32m    183\u001b[0m                 \u001b[0mproducts\u001b[0m\u001b[0;34m.\u001b[0m \u001b[0mDefaults\u001b[0m \u001b[0mto\u001b[0m\u001b[0;31m \u001b[0m\u001b[0;31m`\u001b[0m\u001b[0;31m`\u001b[0m\u001b[0;32mFalse\u001b[0m\u001b[0;31m`\u001b[0m\u001b[0;31m`\u001b[0m\u001b[0;34m.\u001b[0m\u001b[0;34m\u001b[0m\u001b[0;34m\u001b[0m\u001b[0m\n\u001b[1;32m    184\u001b[0m         \"\"\"\n\u001b[0;32m--> 185\u001b[0;31m         \u001b[0mtorch\u001b[0m\u001b[0;34m.\u001b[0m\u001b[0mautograd\u001b[0m\u001b[0;34m.\u001b[0m\u001b[0mbackward\u001b[0m\u001b[0;34m(\u001b[0m\u001b[0mself\u001b[0m\u001b[0;34m,\u001b[0m \u001b[0mgradient\u001b[0m\u001b[0;34m,\u001b[0m \u001b[0mretain_graph\u001b[0m\u001b[0;34m,\u001b[0m \u001b[0mcreate_graph\u001b[0m\u001b[0;34m)\u001b[0m\u001b[0;34m\u001b[0m\u001b[0;34m\u001b[0m\u001b[0m\n\u001b[0m\u001b[1;32m    186\u001b[0m \u001b[0;34m\u001b[0m\u001b[0m\n\u001b[1;32m    187\u001b[0m     \u001b[0;32mdef\u001b[0m \u001b[0mregister_hook\u001b[0m\u001b[0;34m(\u001b[0m\u001b[0mself\u001b[0m\u001b[0;34m,\u001b[0m \u001b[0mhook\u001b[0m\u001b[0;34m)\u001b[0m\u001b[0;34m:\u001b[0m\u001b[0;34m\u001b[0m\u001b[0;34m\u001b[0m\u001b[0m\n",
      "\u001b[0;32m~/envs/glaciers_env/lib/python3.6/site-packages/torch/autograd/__init__.py\u001b[0m in \u001b[0;36mbackward\u001b[0;34m(tensors, grad_tensors, retain_graph, create_graph, grad_variables)\u001b[0m\n\u001b[1;32m    125\u001b[0m     Variable._execution_engine.run_backward(\n\u001b[1;32m    126\u001b[0m         \u001b[0mtensors\u001b[0m\u001b[0;34m,\u001b[0m \u001b[0mgrad_tensors\u001b[0m\u001b[0;34m,\u001b[0m \u001b[0mretain_graph\u001b[0m\u001b[0;34m,\u001b[0m \u001b[0mcreate_graph\u001b[0m\u001b[0;34m,\u001b[0m\u001b[0;34m\u001b[0m\u001b[0;34m\u001b[0m\u001b[0m\n\u001b[0;32m--> 127\u001b[0;31m         allow_unreachable=True)  # allow_unreachable flag\n\u001b[0m\u001b[1;32m    128\u001b[0m \u001b[0;34m\u001b[0m\u001b[0m\n\u001b[1;32m    129\u001b[0m \u001b[0;34m\u001b[0m\u001b[0m\n",
      "\u001b[0;31mKeyboardInterrupt\u001b[0m: "
     ]
    }
   ],
   "source": [
    "from glacier_mapping.data.data import fetch_loaders\n",
    "from glacier_mapping.models.frame import Framework\n",
    "import glacier_mapping.models.metrics as mtr\n",
    "import glacier_mapping.train as tr\n",
    "from torch.utils.tensorboard import SummaryWriter\n",
    "from torchvision.utils import make_grid\n",
    "import torch\n",
    "import json\n",
    "\n",
    "data_dir = pathlib.Path(\"/mnt/blobfuse/glaciers\")\n",
    "conf = Dict(yaml.safe_load(open(\"/mnt/blobfuse/glaciers/conf/train.yaml\", \"r\")))\n",
    "processed_dir = data_dir / \"processed\"\n",
    "\n",
    "args = Dict({\n",
    "    \"batch_size\": 16,\n",
    "    \"run_name\": \"test_run\",\n",
    "    \"epochs\": 201,\n",
    "    \"save_every\": 50\n",
    "})\n",
    "\n",
    "loaders = fetch_loaders(processed_dir, args.batch_size, train_folder=\"train_main\", dev_folder=\"dev_main\")\n",
    "frame = Framework(\n",
    "    model_opts=conf.model_opts,\n",
    "    optimizer_opts=conf.optim_opts,\n",
    "    reg_opts=conf.reg_opts\n",
    ")\n",
    "\n",
    "# Setup logging\n",
    "writer = SummaryWriter(f\"{data_dir}/runs/{args.run_name}/logs/\")\n",
    "writer.add_text(\"Arguments\", json.dumps(vars(args)))\n",
    "writer.add_text(\"Configuration Parameters\", json.dumps(conf))\n",
    "out_dir = f\"{data_dir}/runs/{args.run_name}/models/\"\n",
    "\n",
    "for epoch in range(args.epochs):\n",
    "\n",
    "    # train loop\n",
    "    loss_d = {}\n",
    "    loss_d[\"train\"], metrics = tr.train_epoch(loaders[\"train\"], frame, conf.metrics_opts)\n",
    "    tr.log_metrics(writer, metrics, loss_d[\"train\"], epoch)\n",
    "    tr.log_images(writer, frame, next(iter(loaders[\"train\"])), epoch)\n",
    "\n",
    "    # validation loop\n",
    "    loss_d[\"val\"], metrics = tr.validate(loaders[\"val\"], frame, conf.metrics_opts)\n",
    "    tr.log_metrics(writer, metrics, loss_d[\"val\"], epoch, \"val\")\n",
    "    tr.log_images(writer, frame, next(iter(loaders[\"val\"])), epoch, \"val\")\n",
    "\n",
    "    # Save model\"\n",
    "    writer.add_scalars(\"Loss\", loss_d, epoch)\n",
    "    if epoch % args.save_every == 0:\n",
    "        frame.save(out_dir, epoch)\n",
    "\n",
    "    print(f\"{epoch}/{args.epochs} | train: {loss_d['train']} | val: {loss_d['val']}\")\n",
    "\n",
    "frame.save(out_dir, \"final\")\n",
    "writer.close()"
   ]
  },
  {
   "cell_type": "code",
   "execution_count": 77,
   "metadata": {},
   "outputs": [
    {
     "name": "stdout",
     "output_type": "stream",
     "text": [
      "The tensorboard extension is already loaded. To reload it, use:\n",
      "  %reload_ext tensorboard\n"
     ]
    }
   ],
   "source": [
    "%load_ext tensorboard"
   ]
  },
  {
   "cell_type": "code",
   "execution_count": 79,
   "metadata": {
    "collapsed": true
   },
   "outputs": [
    {
     "data": {
      "text/html": [
       "\n",
       "      <iframe id=\"tensorboard-frame-faf47b9f0399972f\" width=\"100%\" height=\"800\" frameborder=\"0\">\n",
       "      </iframe>\n",
       "      <script>\n",
       "        (function() {\n",
       "          const frame = document.getElementById(\"tensorboard-frame-faf47b9f0399972f\");\n",
       "          const url = new URL(\"/\", window.location);\n",
       "          const port = 6008;\n",
       "          if (port) {\n",
       "            url.port = port;\n",
       "          }\n",
       "          frame.src = url;\n",
       "        })();\n",
       "      </script>\n",
       "    "
      ],
      "text/plain": [
       "<IPython.core.display.HTML object>"
      ]
     },
     "metadata": {},
     "output_type": "display_data"
    }
   ],
   "source": [
    "%tensorboard --logdir runs/demo/logs"
   ]
  }
 ],
 "metadata": {
  "kernelspec": {
   "display_name": "glaciers",
   "language": "python",
   "name": "glaciers"
  },
  "language_info": {
   "codemirror_mode": {
    "name": "ipython",
    "version": 3
   },
   "file_extension": ".py",
   "mimetype": "text/x-python",
   "name": "python",
   "nbconvert_exporter": "python",
   "pygments_lexer": "ipython3",
   "version": "3.6.9"
  }
 },
 "nbformat": 4,
 "nbformat_minor": 2
}
