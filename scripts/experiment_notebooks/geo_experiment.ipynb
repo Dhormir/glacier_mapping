{
 "cells": [
  {
   "cell_type": "markdown",
   "metadata": {},
   "source": [
    "* Include the command line instructions for preparing the splits\n",
    "  - Possibly include a parameter for testing (just a few tiffs)\n",
    "  - !bash scripts/geo/setup_data.sh\n",
    "  - Include as actual code block\n",
    "* argument to notebook: what are the train / dev / test folders?\n",
    "  - where do we save the checkpoints?\n",
    "  - Where do we save the logs\n",
    "  - Where do we save the final accuracy\n",
    "* plot the data right before training (a few random slices)\n",
    "* Call the train script as a bash command\n",
    "  - !python3 -m train\n",
    "* Load the summarywriter that has been saved, look at some predictions\n",
    "* Load some of the checkpoints\n",
    "  - Visualize predictions from them\n",
    "  - Visualize predictions on tiffs within train / test?\n"
   ]
  },
  {
   "cell_type": "code",
   "execution_count": null,
   "metadata": {},
   "outputs": [],
   "source": [
    "# some parameters for the notebook\n",
    "import json\n",
    "geo = json.load(\"geo_notebook.yaml\")\n"
   ]
  }
 ],
 "metadata": {
  "kernelspec": {
   "display_name": "Python 3",
   "language": "python",
   "name": "python3"
  },
  "language_info": {
   "codemirror_mode": {
    "name": "ipython",
    "version": 3
   },
   "file_extension": ".py",
   "mimetype": "text/x-python",
   "name": "python",
   "nbconvert_exporter": "python",
   "pygments_lexer": "ipython3",
   "version": "3.6.9"
  }
 },
 "nbformat": 4,
 "nbformat_minor": 4
}
