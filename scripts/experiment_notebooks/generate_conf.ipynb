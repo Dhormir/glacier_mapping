{
 "cells": [
  {
   "cell_type": "markdown",
   "metadata": {},
   "source": [
    "### Generate conf for prmutation exper"
   ]
  },
  {
   "cell_type": "code",
   "execution_count": null,
   "metadata": {},
   "outputs": [],
   "source": [
    "# load regural conf\n",
    "import yaml\n",
    "\n",
    "\n",
    "train_file = \"/datadrive/glaciers/conf/train.yaml\"\n",
    "postprocess_file = \"/datadrive/glaciers/conf/postprocess.yaml\"\n",
    "with open(train_file, 'r') as file:\n",
    "    train_conf = yaml.load(file)\n",
    "    \n",
    "with open(postprocess_file, 'r') as file:\n",
    "    postprocess_conf = yaml.load(file)"
   ]
  },
  {
   "cell_type": "code",
   "execution_count": null,
   "metadata": {},
   "outputs": [],
   "source": [
    "values_to_try = [[10, 11, 12, 13],\n",
    "                 [5, 2, 4],\n",
    "                 [5, 2, 4, 13, 14],\n",
    "                 [5, 2, 4, 10, 11, 12],\n",
    "                 [5, 2, 4, 10, 11, 12, 13, 14],\n",
    "                 [5, 2, 4, 13],\n",
    "                 [5, 2, 4, 14],\n",
    "                 [0, 1, 2],\n",
    "                 [0, 1, 2, 13, 14],\n",
    "                 [0, 1, 2, 10, 11, 12],\n",
    "                 [0, 1, 2, 10, 11, 12, 13, 14],\n",
    "                 [0, 1, 2, 3, 4, 5, 6, 7, 8, 9],\n",
    "                 [0, 1, 2, 3, 4, 5, 6, 7, 8, 9, 13, 14],\n",
    "                 [0, 1, 2, 3, 4, 5, 6, 7, 8, 9, 10, 11, 12],\n",
    "                 [0, 1, 2, 3, 4, 5, 6, 7, 8, 9, 10, 11, 12, 13, 14]]"
   ]
  },
  {
   "cell_type": "code",
   "execution_count": null,
   "metadata": {},
   "outputs": [],
   "source": [
    "train_conf"
   ]
  },
  {
   "cell_type": "code",
   "execution_count": null,
   "metadata": {},
   "outputs": [],
   "source": [
    "!mkdir /datadrive/glaciers/conf/channel_exp"
   ]
  },
  {
   "cell_type": "code",
   "execution_count": null,
   "metadata": {},
   "outputs": [],
   "source": [
    "for i, value in enumerate(values_to_try):\n",
    "    postprocess_conf[\"process_funs\"][\"extract_channel\"][\"img_channels\"] = value\n",
    "    train_conf[\"model_opts\"][\"args\"][\"inchannels\"] = len(value)\n",
    "    \n",
    "    \n",
    "    postprocess_file = f\"/datadrive/glaciers/conf/channel_exp/postprocess_{i}.yaml\"\n",
    "    with open(postprocess_file, 'w') as file:\n",
    "        yaml.dump(postprocess_conf, file, default_flow_style=None, sort_keys=False)\n",
    "        \n",
    "    train_file = f\"/datadrive/glaciers/conf/channel_exp/train_{i}.yaml\"\n",
    "    with open(train_file, 'w') as file:\n",
    "        yaml.dump(train_conf, file, default_flow_style=None, sort_keys=False)"
   ]
  },
  {
   "cell_type": "code",
   "execution_count": null,
   "metadata": {},
   "outputs": [],
   "source": [
    "!ls /datadrive/glaciers/conf/channel_exp"
   ]
  },
  {
   "cell_type": "code",
   "execution_count": null,
   "metadata": {},
   "outputs": [],
   "source": [
    "!cat /datadrive/glaciers/conf/channel_exp/postprocess_0.yaml"
   ]
  },
  {
   "cell_type": "code",
   "execution_count": null,
   "metadata": {},
   "outputs": [],
   "source": []
  }
 ],
 "metadata": {
  "kernelspec": {
   "display_name": "glacier",
   "language": "python",
   "name": "glacier"
  },
  "language_info": {
   "codemirror_mode": {
    "name": "ipython",
    "version": 3
   },
   "file_extension": ".py",
   "mimetype": "text/x-python",
   "name": "python",
   "nbconvert_exporter": "python",
   "pygments_lexer": "ipython3",
   "version": "3.7.0"
  }
 },
 "nbformat": 4,
 "nbformat_minor": 4
}
