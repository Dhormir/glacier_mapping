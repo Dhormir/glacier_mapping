{
 "cells": [
  {
   "cell_type": "markdown",
   "metadata": {},
   "source": [
    "### Make Configs"
   ]
  },
  {
   "cell_type": "markdown",
   "metadata": {},
   "source": [
    "First, we generate a config file with paths to all the raw data. Each entry of the resulting yaml file specifies the source satellite image and the shapefiles over which to create masks."
   ]
  },
  {
   "cell_type": "code",
   "execution_count": 25,
   "metadata": {},
   "outputs": [],
   "source": [
    "from pathlib import Path\n",
    "\n",
    "data_dir = Path(\"glacier_grey_data/\")\n",
    "\n",
    "# label shape files\n",
    "glaciers_file = data_dir / \"vector_data/Grey_2016.shp\"\n",
    "#clean_g_file = data_dir / \"vector_data/clean.shp\"\n",
    "#debris_g_file =  data_dir / \"vector_data/debris.shp\"\n",
    "border_file = data_dir / \"vector_data/CHL_adm0.shp\"\n",
    "\n",
    "# directories for configuration and output\n",
    "masking_file = \"conf/masking_paths.yaml\"\n",
    "process_file = \"conf/postprocess.yaml\"\n",
    "process_dir = data_dir / \"processed\"\n",
    "output_dir = process_dir / \"patches\"\n",
    "input_folder = data_dir / \"raster_data\""
   ]
  },
  {
   "cell_type": "code",
   "execution_count": 26,
   "metadata": {},
   "outputs": [],
   "source": [
    "SUBSET = False # set to False to run on full data\n",
    "\n",
    "paths = {}\n",
    "input_paths = list(Path(input_folder).glob(\"*.tif*\"))\n",
    "if SUBSET is not False:\n",
    "    input_paths = input_paths[:SUBSET]\n",
    "\n",
    "for i, f in enumerate(input_paths):\n",
    "    mask_ele = {}\n",
    "    mask_ele[\"img_path\"] = str(f)\n",
    "    mask_ele[\"mask_paths\"] = [str(s) for s in [glaciers_file]]#, clean_g_file, debris_g_file]]\n",
    "    mask_ele[\"border_path\"] = str(border_file )\n",
    "    paths[f\"mask_{i}\"] = mask_ele"
   ]
  },
  {
   "cell_type": "code",
   "execution_count": 27,
   "metadata": {},
   "outputs": [],
   "source": [
    "import yaml\n",
    "\n",
    "with open(masking_file, 'w') as f:\n",
    "    yaml.dump(paths, f, default_flow_style=False, sort_keys=False)"
   ]
  },
  {
   "cell_type": "markdown",
   "metadata": {},
   "source": [
    "### Masking"
   ]
  },
  {
   "cell_type": "markdown",
   "metadata": {},
   "source": [
    "Given the configuration file `masking_paths.yaml`, we can create numpy masks that are aligned with the underlying numpy images. You can see from the plot below that the four channels of the mask correspond to (1) all the glaciers, (2) the clean ice glaciers, (3) the debris-covered glaciers, and (4) the country masks."
   ]
  },
  {
   "cell_type": "code",
   "execution_count": 28,
   "metadata": {},
   "outputs": [
    {
     "name": "stdout",
     "output_type": "stream",
     "text": [
      "working on image 1 / 36\n",
      "working on image 2 / 36\n",
      "working on image 3 / 36\n",
      "working on image 4 / 36\n",
      "working on image 5 / 36\n",
      "working on image 6 / 36\n",
      "working on image 7 / 36\n",
      "working on image 8 / 36\n",
      "working on image 9 / 36\n",
      "working on image 10 / 36\n",
      "working on image 11 / 36\n",
      "working on image 12 / 36\n",
      "working on image 13 / 36\n",
      "working on image 14 / 36\n",
      "working on image 15 / 36\n",
      "working on image 16 / 36\n",
      "working on image 17 / 36\n",
      "working on image 18 / 36\n",
      "working on image 19 / 36\n",
      "working on image 20 / 36\n",
      "working on image 21 / 36\n",
      "working on image 22 / 36\n",
      "working on image 23 / 36\n",
      "working on image 24 / 36\n",
      "working on image 25 / 36\n",
      "working on image 26 / 36\n",
      "working on image 27 / 36\n",
      "working on image 28 / 36\n",
      "working on image 29 / 36\n",
      "working on image 30 / 36\n",
      "working on image 31 / 36\n",
      "working on image 32 / 36\n",
      "working on image 33 / 36\n",
      "working on image 34 / 36\n",
      "working on image 35 / 36\n",
      "working on image 36 / 36\n"
     ]
    }
   ],
   "source": [
    "from glacier_mapping.data.mask import generate_masks\n",
    "import shutil\n",
    "\n",
    "masking_paths = yaml.safe_load(open(masking_file))\n",
    "img_paths = [p[\"img_path\"] for p in masking_paths.values()]\n",
    "mask_paths = [p[\"mask_paths\"] for p in masking_paths.values()]\n",
    "border_paths = [p[\"border_path\"] for p in masking_paths.values()]\n",
    "mask_dir = process_dir / \"masks\"\n",
    "\n",
    "if mask_dir.exists():\n",
    "    shutil.rmtree(mask_dir)\n",
    "    \n",
    "generate_masks(img_paths, mask_paths, border_paths=border_paths, out_dir=mask_dir)"
   ]
  },
  {
   "cell_type": "code",
   "execution_count": 29,
   "metadata": {},
   "outputs": [
    {
     "name": "stdout",
     "output_type": "stream",
     "text": [
      "(1684, 1371, 1)\n"
     ]
    },
    {
     "data": {
      "text/html": [
       "<div>\n",
       "<style scoped>\n",
       "    .dataframe tbody tr th:only-of-type {\n",
       "        vertical-align: middle;\n",
       "    }\n",
       "\n",
       "    .dataframe tbody tr th {\n",
       "        vertical-align: top;\n",
       "    }\n",
       "\n",
       "    .dataframe thead th {\n",
       "        text-align: right;\n",
       "    }\n",
       "</style>\n",
       "<table border=\"1\" class=\"dataframe\">\n",
       "  <thead>\n",
       "    <tr style=\"text-align: right;\">\n",
       "      <th></th>\n",
       "      <th>id</th>\n",
       "      <th>img</th>\n",
       "      <th>mask</th>\n",
       "      <th>border</th>\n",
       "      <th>img_width</th>\n",
       "      <th>img_height</th>\n",
       "      <th>mask_width</th>\n",
       "      <th>mask_height</th>\n",
       "    </tr>\n",
       "  </thead>\n",
       "  <tbody>\n",
       "    <tr>\n",
       "      <th>0</th>\n",
       "      <td>0</td>\n",
       "      <td>glacier_grey_data\\raster_data\\landsat_8_201501...</td>\n",
       "      <td>glacier_grey_data\\processed\\masks\\mask_00.npy</td>\n",
       "      <td>glacier_grey_data\\processed\\masks\\border_00.npy</td>\n",
       "      <td>1371</td>\n",
       "      <td>1684</td>\n",
       "      <td>1371</td>\n",
       "      <td>1684</td>\n",
       "    </tr>\n",
       "    <tr>\n",
       "      <th>1</th>\n",
       "      <td>1</td>\n",
       "      <td>glacier_grey_data\\raster_data\\landsat_8_201508...</td>\n",
       "      <td>glacier_grey_data\\processed\\masks\\mask_01.npy</td>\n",
       "      <td>glacier_grey_data\\processed\\masks\\border_01.npy</td>\n",
       "      <td>1371</td>\n",
       "      <td>1684</td>\n",
       "      <td>1371</td>\n",
       "      <td>1684</td>\n",
       "    </tr>\n",
       "    <tr>\n",
       "      <th>2</th>\n",
       "      <td>2</td>\n",
       "      <td>glacier_grey_data\\raster_data\\landsat_8_201509...</td>\n",
       "      <td>glacier_grey_data\\processed\\masks\\mask_02.npy</td>\n",
       "      <td>glacier_grey_data\\processed\\masks\\border_02.npy</td>\n",
       "      <td>1371</td>\n",
       "      <td>1684</td>\n",
       "      <td>1371</td>\n",
       "      <td>1684</td>\n",
       "    </tr>\n",
       "    <tr>\n",
       "      <th>3</th>\n",
       "      <td>3</td>\n",
       "      <td>glacier_grey_data\\raster_data\\landsat_8_201601...</td>\n",
       "      <td>glacier_grey_data\\processed\\masks\\mask_03.npy</td>\n",
       "      <td>glacier_grey_data\\processed\\masks\\border_03.npy</td>\n",
       "      <td>1371</td>\n",
       "      <td>1684</td>\n",
       "      <td>1371</td>\n",
       "      <td>1684</td>\n",
       "    </tr>\n",
       "    <tr>\n",
       "      <th>4</th>\n",
       "      <td>4</td>\n",
       "      <td>glacier_grey_data\\raster_data\\landsat_8_201603...</td>\n",
       "      <td>glacier_grey_data\\processed\\masks\\mask_04.npy</td>\n",
       "      <td>glacier_grey_data\\processed\\masks\\border_04.npy</td>\n",
       "      <td>1371</td>\n",
       "      <td>1684</td>\n",
       "      <td>1371</td>\n",
       "      <td>1684</td>\n",
       "    </tr>\n",
       "  </tbody>\n",
       "</table>\n",
       "</div>"
      ],
      "text/plain": [
       "   id                                                img  \\\n",
       "0   0  glacier_grey_data\\raster_data\\landsat_8_201501...   \n",
       "1   1  glacier_grey_data\\raster_data\\landsat_8_201508...   \n",
       "2   2  glacier_grey_data\\raster_data\\landsat_8_201509...   \n",
       "3   3  glacier_grey_data\\raster_data\\landsat_8_201601...   \n",
       "4   4  glacier_grey_data\\raster_data\\landsat_8_201603...   \n",
       "\n",
       "                                            mask  \\\n",
       "0  glacier_grey_data\\processed\\masks\\mask_00.npy   \n",
       "1  glacier_grey_data\\processed\\masks\\mask_01.npy   \n",
       "2  glacier_grey_data\\processed\\masks\\mask_02.npy   \n",
       "3  glacier_grey_data\\processed\\masks\\mask_03.npy   \n",
       "4  glacier_grey_data\\processed\\masks\\mask_04.npy   \n",
       "\n",
       "                                            border  img_width  img_height  \\\n",
       "0  glacier_grey_data\\processed\\masks\\border_00.npy       1371        1684   \n",
       "1  glacier_grey_data\\processed\\masks\\border_01.npy       1371        1684   \n",
       "2  glacier_grey_data\\processed\\masks\\border_02.npy       1371        1684   \n",
       "3  glacier_grey_data\\processed\\masks\\border_03.npy       1371        1684   \n",
       "4  glacier_grey_data\\processed\\masks\\border_04.npy       1371        1684   \n",
       "\n",
       "   mask_width  mask_height  \n",
       "0        1371         1684  \n",
       "1        1371         1684  \n",
       "2        1371         1684  \n",
       "3        1371         1684  \n",
       "4        1371         1684  "
      ]
     },
     "execution_count": 29,
     "metadata": {},
     "output_type": "execute_result"
    },
    {
     "data": {
      "image/png": "[encoded data removed]",
      "text/plain": [
       "<Figure size 1500x1500 with 2 Axes>"
      ]
     },
     "metadata": {},
     "output_type": "display_data"
    }
   ],
   "source": [
    "import numpy as np\n",
    "import matplotlib.pyplot as plt\n",
    "import pandas as pd\n",
    "\n",
    "mask = np.load(mask_dir / \"mask_01.npy\")\n",
    "print(mask.shape)\n",
    "border = np.load(mask_dir / \"border_01.npy\")\n",
    "_, ax = plt.subplots(1, 2, figsize=(15, 15))\n",
    "ax[0].imshow(mask[:, :, 0])\n",
    "#ax[1].imshow(mask[:, :, 1])\n",
    "#ax[2].imshow(mask[:, :, 2])\n",
    "ax[1].imshow(border)\n",
    "\n",
    "mask_df = pd.read_csv(mask_dir / \"mask_metadata.csv\")\n",
    "mask_df.head()"
   ]
  },
  {
   "cell_type": "markdown",
   "metadata": {},
   "source": [
    "### Patches"
   ]
  },
  {
   "cell_type": "markdown",
   "metadata": {},
   "source": [
    "Once we have binary masks associated with each image, we can slice them into 512 x 512 patches to be used for training."
   ]
  },
  {
   "cell_type": "code",
   "execution_count": 30,
   "metadata": {},
   "outputs": [
    {
     "name": "stdout",
     "output_type": "stream",
     "text": [
      "## Slicing tiff 1/36 ...\n"
     ]
    },
    {
     "name": "stderr",
     "output_type": "stream",
     "text": [
      "100%|██████████| 6/6 [00:01<00:00,  5.95it/s]\n"
     ]
    },
    {
     "name": "stdout",
     "output_type": "stream",
     "text": [
      "## Slicing tiff 2/36 ...\n"
     ]
    },
    {
     "name": "stderr",
     "output_type": "stream",
     "text": [
      "100%|██████████| 6/6 [00:00<00:00,  7.59it/s]\n"
     ]
    },
    {
     "name": "stdout",
     "output_type": "stream",
     "text": [
      "## Slicing tiff 3/36 ...\n"
     ]
    },
    {
     "name": "stderr",
     "output_type": "stream",
     "text": [
      "100%|██████████| 6/6 [00:00<00:00,  7.02it/s]\n"
     ]
    },
    {
     "name": "stdout",
     "output_type": "stream",
     "text": [
      "## Slicing tiff 4/36 ...\n"
     ]
    },
    {
     "name": "stderr",
     "output_type": "stream",
     "text": [
      "100%|██████████| 6/6 [00:00<00:00,  7.38it/s]\n"
     ]
    },
    {
     "name": "stdout",
     "output_type": "stream",
     "text": [
      "## Slicing tiff 5/36 ...\n"
     ]
    },
    {
     "name": "stderr",
     "output_type": "stream",
     "text": [
      "100%|██████████| 6/6 [00:00<00:00,  6.76it/s]\n"
     ]
    },
    {
     "name": "stdout",
     "output_type": "stream",
     "text": [
      "## Slicing tiff 6/36 ...\n"
     ]
    },
    {
     "name": "stderr",
     "output_type": "stream",
     "text": [
      "100%|██████████| 6/6 [00:00<00:00,  7.66it/s]\n"
     ]
    },
    {
     "name": "stdout",
     "output_type": "stream",
     "text": [
      "## Slicing tiff 7/36 ...\n"
     ]
    },
    {
     "name": "stderr",
     "output_type": "stream",
     "text": [
      "100%|██████████| 6/6 [00:00<00:00,  7.49it/s]\n"
     ]
    },
    {
     "name": "stdout",
     "output_type": "stream",
     "text": [
      "## Slicing tiff 8/36 ...\n"
     ]
    },
    {
     "name": "stderr",
     "output_type": "stream",
     "text": [
      "100%|██████████| 6/6 [00:00<00:00,  6.93it/s]\n"
     ]
    },
    {
     "name": "stdout",
     "output_type": "stream",
     "text": [
      "## Slicing tiff 9/36 ...\n"
     ]
    },
    {
     "name": "stderr",
     "output_type": "stream",
     "text": [
      "100%|██████████| 6/6 [00:00<00:00,  7.56it/s]\n"
     ]
    },
    {
     "name": "stdout",
     "output_type": "stream",
     "text": [
      "## Slicing tiff 10/36 ...\n"
     ]
    },
    {
     "name": "stderr",
     "output_type": "stream",
     "text": [
      "100%|██████████| 6/6 [00:00<00:00,  7.42it/s]\n"
     ]
    },
    {
     "name": "stdout",
     "output_type": "stream",
     "text": [
      "## Slicing tiff 11/36 ...\n"
     ]
    },
    {
     "name": "stderr",
     "output_type": "stream",
     "text": [
      "100%|██████████| 6/6 [00:00<00:00,  7.36it/s]\n"
     ]
    },
    {
     "name": "stdout",
     "output_type": "stream",
     "text": [
      "## Slicing tiff 12/36 ...\n"
     ]
    },
    {
     "name": "stderr",
     "output_type": "stream",
     "text": [
      "100%|██████████| 6/6 [00:00<00:00,  7.97it/s]\n"
     ]
    },
    {
     "name": "stdout",
     "output_type": "stream",
     "text": [
      "## Slicing tiff 13/36 ...\n"
     ]
    },
    {
     "name": "stderr",
     "output_type": "stream",
     "text": [
      "100%|██████████| 6/6 [00:00<00:00,  7.75it/s]\n"
     ]
    },
    {
     "name": "stdout",
     "output_type": "stream",
     "text": [
      "## Slicing tiff 14/36 ...\n"
     ]
    },
    {
     "name": "stderr",
     "output_type": "stream",
     "text": [
      "100%|██████████| 6/6 [00:00<00:00,  6.85it/s]\n"
     ]
    },
    {
     "name": "stdout",
     "output_type": "stream",
     "text": [
      "## Slicing tiff 15/36 ...\n"
     ]
    },
    {
     "name": "stderr",
     "output_type": "stream",
     "text": [
      "100%|██████████| 6/6 [00:00<00:00,  6.74it/s]\n"
     ]
    },
    {
     "name": "stdout",
     "output_type": "stream",
     "text": [
      "## Slicing tiff 16/36 ...\n"
     ]
    },
    {
     "name": "stderr",
     "output_type": "stream",
     "text": [
      "100%|██████████| 6/6 [00:00<00:00,  7.28it/s]\n"
     ]
    },
    {
     "name": "stdout",
     "output_type": "stream",
     "text": [
      "## Slicing tiff 17/36 ...\n"
     ]
    },
    {
     "name": "stderr",
     "output_type": "stream",
     "text": [
      "100%|██████████| 6/6 [00:00<00:00,  6.89it/s]\n"
     ]
    },
    {
     "name": "stdout",
     "output_type": "stream",
     "text": [
      "## Slicing tiff 18/36 ...\n"
     ]
    },
    {
     "name": "stderr",
     "output_type": "stream",
     "text": [
      "100%|██████████| 6/6 [00:00<00:00,  7.51it/s]\n"
     ]
    },
    {
     "name": "stdout",
     "output_type": "stream",
     "text": [
      "## Slicing tiff 19/36 ...\n"
     ]
    },
    {
     "name": "stderr",
     "output_type": "stream",
     "text": [
      "100%|██████████| 6/6 [00:00<00:00,  7.17it/s]\n"
     ]
    },
    {
     "name": "stdout",
     "output_type": "stream",
     "text": [
      "## Slicing tiff 20/36 ...\n"
     ]
    },
    {
     "name": "stderr",
     "output_type": "stream",
     "text": [
      "100%|██████████| 6/6 [00:00<00:00,  7.89it/s]\n"
     ]
    },
    {
     "name": "stdout",
     "output_type": "stream",
     "text": [
      "## Slicing tiff 21/36 ...\n"
     ]
    },
    {
     "name": "stderr",
     "output_type": "stream",
     "text": [
      "100%|██████████| 6/6 [00:00<00:00,  7.23it/s]\n"
     ]
    },
    {
     "name": "stdout",
     "output_type": "stream",
     "text": [
      "## Slicing tiff 22/36 ...\n"
     ]
    },
    {
     "name": "stderr",
     "output_type": "stream",
     "text": [
      "100%|██████████| 6/6 [00:00<00:00,  7.08it/s]\n"
     ]
    },
    {
     "name": "stdout",
     "output_type": "stream",
     "text": [
      "## Slicing tiff 23/36 ...\n"
     ]
    },
    {
     "name": "stderr",
     "output_type": "stream",
     "text": [
      "100%|██████████| 6/6 [00:00<00:00,  7.86it/s]\n"
     ]
    },
    {
     "name": "stdout",
     "output_type": "stream",
     "text": [
      "## Slicing tiff 24/36 ...\n"
     ]
    },
    {
     "name": "stderr",
     "output_type": "stream",
     "text": [
      "100%|██████████| 6/6 [00:00<00:00,  7.80it/s]\n"
     ]
    },
    {
     "name": "stdout",
     "output_type": "stream",
     "text": [
      "## Slicing tiff 25/36 ...\n"
     ]
    },
    {
     "name": "stderr",
     "output_type": "stream",
     "text": [
      "100%|██████████| 6/6 [00:01<00:00,  4.77it/s]\n"
     ]
    },
    {
     "name": "stdout",
     "output_type": "stream",
     "text": [
      "## Slicing tiff 26/36 ...\n"
     ]
    },
    {
     "name": "stderr",
     "output_type": "stream",
     "text": [
      "100%|██████████| 6/6 [00:00<00:00,  7.48it/s]\n"
     ]
    },
    {
     "name": "stdout",
     "output_type": "stream",
     "text": [
      "## Slicing tiff 27/36 ...\n"
     ]
    },
    {
     "name": "stderr",
     "output_type": "stream",
     "text": [
      "100%|██████████| 6/6 [00:00<00:00,  7.81it/s]\n"
     ]
    },
    {
     "name": "stdout",
     "output_type": "stream",
     "text": [
      "## Slicing tiff 28/36 ...\n"
     ]
    },
    {
     "name": "stderr",
     "output_type": "stream",
     "text": [
      "100%|██████████| 6/6 [00:00<00:00,  7.37it/s]\n"
     ]
    },
    {
     "name": "stdout",
     "output_type": "stream",
     "text": [
      "## Slicing tiff 29/36 ...\n"
     ]
    },
    {
     "name": "stderr",
     "output_type": "stream",
     "text": [
      "100%|██████████| 6/6 [00:00<00:00,  6.79it/s]\n"
     ]
    },
    {
     "name": "stdout",
     "output_type": "stream",
     "text": [
      "## Slicing tiff 30/36 ...\n"
     ]
    },
    {
     "name": "stderr",
     "output_type": "stream",
     "text": [
      "100%|██████████| 6/6 [00:00<00:00,  7.40it/s]\n"
     ]
    },
    {
     "name": "stdout",
     "output_type": "stream",
     "text": [
      "## Slicing tiff 31/36 ...\n"
     ]
    },
    {
     "name": "stderr",
     "output_type": "stream",
     "text": [
      "100%|██████████| 6/6 [00:00<00:00,  7.76it/s]\n"
     ]
    },
    {
     "name": "stdout",
     "output_type": "stream",
     "text": [
      "## Slicing tiff 32/36 ...\n"
     ]
    },
    {
     "name": "stderr",
     "output_type": "stream",
     "text": [
      "100%|██████████| 6/6 [00:00<00:00,  6.33it/s]\n"
     ]
    },
    {
     "name": "stdout",
     "output_type": "stream",
     "text": [
      "## Slicing tiff 33/36 ...\n"
     ]
    },
    {
     "name": "stderr",
     "output_type": "stream",
     "text": [
      "100%|██████████| 6/6 [00:00<00:00,  7.78it/s]\n"
     ]
    },
    {
     "name": "stdout",
     "output_type": "stream",
     "text": [
      "## Slicing tiff 34/36 ...\n"
     ]
    },
    {
     "name": "stderr",
     "output_type": "stream",
     "text": [
      "100%|██████████| 6/6 [00:00<00:00,  7.40it/s]\n"
     ]
    },
    {
     "name": "stdout",
     "output_type": "stream",
     "text": [
      "## Slicing tiff 35/36 ...\n"
     ]
    },
    {
     "name": "stderr",
     "output_type": "stream",
     "text": [
      "100%|██████████| 6/6 [00:00<00:00,  7.28it/s]\n"
     ]
    },
    {
     "name": "stdout",
     "output_type": "stream",
     "text": [
      "## Slicing tiff 36/36 ...\n"
     ]
    },
    {
     "name": "stderr",
     "output_type": "stream",
     "text": [
      "100%|██████████| 6/6 [00:00<00:00,  7.74it/s]\n"
     ]
    }
   ],
   "source": [
    "from glacier_mapping.data.slice import write_pair_slices\n",
    "\n",
    "paths = pd.read_csv(mask_dir / \"mask_metadata.csv\")\n",
    "output_dir.mkdir(parents=True, exist_ok=True)\n",
    "\n",
    "metadata = []\n",
    "for row in range(len(paths)):\n",
    "    print(f\"## Slicing tiff {row +1}/{len(paths)} ...\")\n",
    "    metadata_ = write_pair_slices(\n",
    "        paths.iloc[row][\"img\"],\n",
    "        paths.iloc[row][\"mask\"],\n",
    "        output_dir,\n",
    "        border_path=paths.iloc[row][\"border\"],\n",
    "        out_base=f\"patch_{paths.index[row]}\"\n",
    "    )\n",
    "    metadata.append(metadata_)\n",
    "\n",
    "metadata = pd.concat(metadata, axis=0)\n",
    "out_path = Path(output_dir, \"patches.geojson\")\n",
    "metadata.to_file(out_path, index=False, driver=\"GeoJSON\")"
   ]
  },
  {
   "cell_type": "code",
   "execution_count": 31,
   "metadata": {},
   "outputs": [],
   "source": [
    "#meta_2 = []\n",
    "#for geom in metadata:\n",
    "#    meta_2.append(geom.to_crs('WGS 84 / UTM zone 47N'))\n",
    "#\n",
    "#metadata_2 = pd.concat(meta_2, axis=0)\n",
    "#out_path = Path(output_dir, \"patches.geojson\")\n",
    "#metadata_2.to_file(out_path, index=False, driver=\"GeoJSON\")"
   ]
  },
  {
   "cell_type": "code",
   "execution_count": 32,
   "metadata": {},
   "outputs": [
    {
     "name": "stderr",
     "output_type": "stream",
     "text": [
      "Clipping input data to the valid range for imshow with RGB data ([0..1] for floats or [0..255] for integers).\n",
      "Clipping input data to the valid range for imshow with RGB data ([0..1] for floats or [0..255] for integers).\n",
      "Clipping input data to the valid range for imshow with RGB data ([0..1] for floats or [0..255] for integers).\n",
      "Clipping input data to the valid range for imshow with RGB data ([0..1] for floats or [0..255] for integers).\n",
      "Clipping input data to the valid range for imshow with RGB data ([0..1] for floats or [0..255] for integers).\n"
     ]
    },
    {
     "data": {
      "text/plain": [
       "array([[<Axes: >, <Axes: >],\n",
       "       [<Axes: >, <Axes: >],\n",
       "       [<Axes: >, <Axes: >],\n",
       "       [<Axes: >, <Axes: >],\n",
       "       [<Axes: >, <Axes: >]], dtype=object)"
      ]
     },
     "execution_count": 32,
     "metadata": {},
     "output_type": "execute_result"
    },
    {
     "data": {
      "image/png": "[encoded data removed]",
      "text/plain": [
       "<Figure size 1500x1500 with 10 Axes>"
      ]
     },
     "metadata": {},
     "output_type": "display_data"
    }
   ],
   "source": [
    "from glacier_mapping.data.slice import plot_slices\n",
    "plot_slices(output_dir, n_cols=2, div=300)"
   ]
  },
  {
   "cell_type": "markdown",
   "metadata": {},
   "source": [
    "### Split and filter"
   ]
  },
  {
   "cell_type": "markdown",
   "metadata": {},
   "source": [
    "Now that we have sliced each tiff into small patches, we can determine which to use for training, validation, and testing. We first filter away those patches that have relatively little glacier, then we randomly shuffle them into train, dev, and test directories."
   ]
  },
  {
   "cell_type": "code",
   "execution_count": 33,
   "metadata": {},
   "outputs": [
    {
     "name": "stdout",
     "output_type": "stream",
     "text": [
      "filtering\n",
      "36\n",
      "reshuffling\n",
      "shuffling image 0 - img\n",
      "shuffling image 0 - mask\n",
      "shuffling image 1 - img\n",
      "shuffling image 1 - mask\n",
      "shuffling image 2 - img\n",
      "shuffling image 2 - mask\n",
      "shuffling image 3 - img\n",
      "shuffling image 3 - mask\n",
      "shuffling image 4 - img\n",
      "shuffling image 4 - mask\n",
      "shuffling image 5 - img\n",
      "shuffling image 5 - mask\n",
      "shuffling image 6 - img\n",
      "shuffling image 6 - mask\n",
      "shuffling image 7 - img\n",
      "shuffling image 7 - mask\n",
      "shuffling image 8 - img\n",
      "shuffling image 8 - mask\n",
      "shuffling image 9 - img\n",
      "shuffling image 9 - mask\n",
      "shuffling image 10 - img\n",
      "shuffling image 10 - mask\n",
      "shuffling image 11 - img\n",
      "shuffling image 11 - mask\n",
      "shuffling image 12 - img\n",
      "shuffling image 12 - mask\n",
      "shuffling image 13 - img\n",
      "shuffling image 13 - mask\n",
      "shuffling image 14 - img\n",
      "shuffling image 14 - mask\n",
      "shuffling image 15 - img\n",
      "shuffling image 15 - mask\n",
      "shuffling image 16 - img\n",
      "shuffling image 16 - mask\n",
      "shuffling image 17 - img\n",
      "shuffling image 17 - mask\n",
      "shuffling image 18 - img\n",
      "shuffling image 18 - mask\n",
      "shuffling image 19 - img\n",
      "shuffling image 19 - mask\n",
      "shuffling image 20 - img\n",
      "shuffling image 20 - mask\n",
      "shuffling image 21 - img\n",
      "shuffling image 21 - mask\n",
      "shuffling image 22 - img\n",
      "shuffling image 22 - mask\n",
      "shuffling image 23 - img\n",
      "shuffling image 23 - mask\n",
      "shuffling image 24 - img\n",
      "shuffling image 24 - mask\n",
      "shuffling image 0 - img\n",
      "shuffling image 0 - mask\n",
      "shuffling image 1 - img\n",
      "shuffling image 1 - mask\n",
      "shuffling image 2 - img\n",
      "shuffling image 2 - mask\n",
      "shuffling image 0 - img\n",
      "shuffling image 0 - mask\n",
      "shuffling image 1 - img\n",
      "shuffling image 1 - mask\n",
      "shuffling image 2 - img\n",
      "shuffling image 2 - mask\n",
      "shuffling image 3 - img\n",
      "shuffling image 3 - mask\n",
      "shuffling image 4 - img\n",
      "shuffling image 4 - mask\n",
      "shuffling image 5 - img\n",
      "shuffling image 5 - mask\n",
      "shuffling image 6 - img\n",
      "shuffling image 6 - mask\n",
      "shuffling image 7 - img\n",
      "shuffling image 7 - mask\n"
     ]
    }
   ],
   "source": [
    "from addict import Dict\n",
    "import geopandas as gpd\n",
    "import glacier_mapping.data.process_slices_funs as pf\n",
    "import yaml\n",
    "\n",
    "pconf = Dict(yaml.safe_load(open(process_file, \"r\")))\n",
    "slice_meta = gpd.read_file(output_dir / \"patches.geojson\")\n",
    "\n",
    "# filter all the slices to the ones that matter\n",
    "print(\"filtering\")\n",
    "keep_ids = pf.filter_directory(\n",
    "    slice_meta,\n",
    "    filter_perc=pconf.filter_percentage,\n",
    "    filter_channel=pconf.filter_channel,\n",
    ")\n",
    "\n",
    "\n",
    "print(len(keep_ids))\n",
    "\n",
    "# validation: get ids for the ones that will be training vs. testing.\n",
    "print(\"reshuffling\")\n",
    "split_method = [item for item in pconf.split_method.items()][0][0]\n",
    "split_ratio = pconf.split_method[split_method].split_ratio\n",
    "split_fun = getattr(pf, split_method)\n",
    "split_ids = split_fun(keep_ids, split_ratio, slice_meta=slice_meta)\n",
    "target_locs = pf.reshuffle(split_ids, process_dir)\n"
   ]
  },
  {
   "cell_type": "markdown",
   "metadata": {},
   "source": [
    "For future reference, it's useful to save which patches went into which split. These will be contained in the `target_locks.pickle` file below."
   ]
  },
  {
   "cell_type": "code",
   "execution_count": 34,
   "metadata": {},
   "outputs": [],
   "source": [
    "import pickle\n",
    "target_locs_file = process_dir / \"target_locs.pickle\"\n",
    "with open(target_locs_file, \"wb\") as f:\n",
    "    pickle.dump(target_locs, f, protocol=pickle.HIGHEST_PROTOCOL)"
   ]
  },
  {
   "cell_type": "markdown",
   "metadata": {},
   "source": [
    "First, we have to postprocess the patches that have been selected for training. We normalize all the input channels and add a \"background\" output channel, to support multiclass classification. Next, we perform the normalization."
   ]
  },
  {
   "cell_type": "code",
   "execution_count": 35,
   "metadata": {},
   "outputs": [
    {
     "name": "stdout",
     "output_type": "stream",
     "text": [
      "Normalizing input channels.\n"
     ]
    }
   ],
   "source": [
    "import glacier_mapping.data.process_slices_funs as pf\n",
    "\n",
    "print(\"Normalizing input channels.\")\n",
    "stats = pf.generate_stats(\n",
    "    [p[\"img\"] for p in target_locs[\"train\"]],\n",
    "    pconf.normalization_sample_size,\n",
    "    pconf.process_funs.normalize.stats_path,\n",
    ")"
   ]
  },
  {
   "cell_type": "markdown",
   "metadata": {},
   "source": [
    "We now complete any other postprocessing specified by the processing configuration file."
   ]
  },
  {
   "cell_type": "code",
   "execution_count": 36,
   "metadata": {},
   "outputs": [],
   "source": [
    "for split_type in target_locs:\n",
    "    for k in range(len(target_locs[split_type])):\n",
    "        img, mask = pf.postprocess(\n",
    "            target_locs[split_type][k][\"img\"],\n",
    "            target_locs[split_type][k][\"mask\"],\n",
    "            pconf.process_funs,\n",
    "        )\n",
    "        \n",
    "        np.save(target_locs[split_type][k][\"img\"], img)\n",
    "        np.save(target_locs[split_type][k][\"mask\"], mask)"
   ]
  }
 ],
 "metadata": {
  "kernelspec": {
   "display_name": "env",
   "language": "python",
   "name": "python3"
  },
  "language_info": {
   "codemirror_mode": {
    "name": "ipython",
    "version": 3
   },
   "file_extension": ".py",
   "mimetype": "text/x-python",
   "name": "python",
   "nbconvert_exporter": "python",
   "pygments_lexer": "ipython3",
   "version": "3.9.13"
  }
 },
 "nbformat": 4,
 "nbformat_minor": 4
}
