{
 "cells": [
  {
   "cell_type": "markdown",
   "metadata": {},
   "source": [
    "## generate conf files"
   ]
  },
  {
   "cell_type": "code",
   "execution_count": 18,
   "metadata": {
    "collapsed": true
   },
   "outputs": [
    {
     "name": "stderr",
     "output_type": "stream",
     "text": [
      "/home/shimaa/envs/glaciers_env/lib/python3.6/site-packages/ipykernel_launcher.py:6: YAMLLoadWarning: calling yaml.load() without Loader=... is deprecated, as the default Loader is unsafe. Please read https://msg.pyyaml.org/load for full details.\n",
      "  \n",
      "/home/shimaa/envs/glaciers_env/lib/python3.6/site-packages/ipykernel_launcher.py:7: YAMLLoadWarning: calling yaml.load() without Loader=... is deprecated, as the default Loader is unsafe. Please read https://msg.pyyaml.org/load for full details.\n",
      "  import sys\n"
     ]
    }
   ],
   "source": [
    "import yaml\n",
    "\n",
    "postprocess_path = \"/mnt/blobfuse/glaciers/conf/postprocess.yaml\"\n",
    "train_path = \"/mnt/blobfuse/glaciers/conf/train.yaml\"\n",
    "\n",
    "postprcoess_conf = yaml.load(open(postprocess_path))\n",
    "train_conf = yaml.load(open(train_path))"
   ]
  },
  {
   "cell_type": "code",
   "execution_count": 14,
   "metadata": {},
   "outputs": [],
   "source": [
    "values_to_try = [[5, 4, 2],\n",
    "                 [5, 4, 2, 13, 14],\n",
    "                 [5, 4, 2, 10, 11, 12],\n",
    "                 [5, 4, 2, 10, 11, 12, 13, 14],\n",
    "                 [0, 1, 2, 3, 4, 5, 6, 7, 8, 9, 10 , 11, 12, 13, 14],\n",
    "                 [0, 1, 2],\n",
    "                 [0, 1, 2, 3, 4, 5, 6, 7, 8, 9],\n",
    "                 [0, 1, 2, 3, 4, 5, 6, 7, 8, 9, 13, 14],\n",
    "                 [0, 1, 2, 13, 14],\n",
    "                 [0, 1, 2, 10, 11, 12],\n",
    "                 [0, 1, 2, 3, 4, 5, 6, 7, 8, 9, 10 , 11, 12],\n",
    "                 [0, 1, 2, 10, 11, 12, 13, 14]]"
   ]
  },
  {
   "cell_type": "code",
   "execution_count": 23,
   "metadata": {},
   "outputs": [],
   "source": [
    "import yaml\n",
    "for i, value in enumerate(values_to_try):\n",
    "    postprcoess_conf[\"process_funs\"][\"extract_channel\"][\"img_channels\"] = value\n",
    "    train_conf[\"model_opts\"][\"args\"][\"inchannels\"] = len(value)\n",
    "    \n",
    "    with open(f\"/mnt/blobfuse/glaciers/conf/postprocess_exper{i}.yaml\", \"w\") as file:\n",
    "        yaml.dump(postprcoess_conf, file, default_flow_style=None)\n",
    "    with open(f\"/mnt/blobfuse/glaciers/conf/train_exper{i}.yaml\", \"w\") as file:\n",
    "        yaml.dump(train_conf, file, default_flow_style=None)"
   ]
  },
  {
   "cell_type": "code",
   "execution_count": null,
   "metadata": {},
   "outputs": [],
   "source": []
  }
 ],
 "metadata": {
  "kernelspec": {
   "display_name": "glaciers",
   "language": "python",
   "name": "glaciers"
  },
  "language_info": {
   "codemirror_mode": {
    "name": "ipython",
    "version": 3
   },
   "file_extension": ".py",
   "mimetype": "text/x-python",
   "name": "python",
   "nbconvert_exporter": "python",
   "pygments_lexer": "ipython3",
   "version": "3.6.9"
  }
 },
 "nbformat": 4,
 "nbformat_minor": 4
}
